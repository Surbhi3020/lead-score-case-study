{
 "cells": [
  {
   "cell_type": "markdown",
   "metadata": {},
   "source": [
    "### Problem Statement :\n",
    "\n",
    "X Education sells online courses to industry professionals.The company markets its courses on several websites and search engines like Google.\n",
    "Once these people land on the website, they might browse the courses or fill up a form for the course or watch some videos.When \n",
    "these people fill up a form providing their email address or phone number, they are classified to be a lead. Moreover, the \n",
    "company also gets leads through past referrals. \n",
    "\n",
    "Once these leads are acquired, employees from the sales team start making calls, writing emails, etc. Through this process, \n",
    "some of the leads get converted while most do not.The typical lead conversion rate at X education is around 30%. \n",
    "\n",
    "### Business Goal :\n",
    "\n",
    "X Education needs help in selecting the most promising leads, i.e. the leads that are most likely to convert into paying \n",
    "customers. \n",
    "\n",
    "The company needs a model wherein you a lead score is assigned to each of the leads such that the customers with higher lead \n",
    "score have a higher conversion chance and the customers with lower lead score have a lower conversion chance. \n",
    "\n",
    "The CEO, in particular, has given a ballpark of the target lead conversion rate to be around 80%."
   ]
  },
  {
   "cell_type": "markdown",
   "metadata": {},
   "source": [
    "## Step 1: Reading and Understanding the Data\n",
    "\n",
    "Let us first import NumPy and Pandas and read the dataset"
   ]
  },
  {
   "cell_type": "code",
   "execution_count": 1,
   "metadata": {},
   "outputs": [],
   "source": [
    "# Supress Warnings\n",
    "\n",
    "import warnings\n",
    "warnings.filterwarnings('ignore')"
   ]
  },
  {
   "cell_type": "code",
   "execution_count": 2,
   "metadata": {},
   "outputs": [],
   "source": [
    "# Importing all required packages\n",
    "\n",
    "import numpy as np\n",
    "import pandas as pd\n",
    "import matplotlib.pyplot as plt\n",
    "import seaborn as sns\n",
    "\n",
    "#import pandas_profile\n",
    "\n",
    "%matplotlib inline"
   ]
  },
  {
   "cell_type": "code",
   "execution_count": 3,
   "metadata": {},
   "outputs": [
    {
     "data": {
      "text/html": [
       "<div>\n",
       "<style scoped>\n",
       "    .dataframe tbody tr th:only-of-type {\n",
       "        vertical-align: middle;\n",
       "    }\n",
       "\n",
       "    .dataframe tbody tr th {\n",
       "        vertical-align: top;\n",
       "    }\n",
       "\n",
       "    .dataframe thead th {\n",
       "        text-align: right;\n",
       "    }\n",
       "</style>\n",
       "<table border=\"1\" class=\"dataframe\">\n",
       "  <thead>\n",
       "    <tr style=\"text-align: right;\">\n",
       "      <th></th>\n",
       "      <th>Prospect ID</th>\n",
       "      <th>Lead Number</th>\n",
       "      <th>Lead Origin</th>\n",
       "      <th>Lead Source</th>\n",
       "      <th>Do Not Email</th>\n",
       "      <th>Do Not Call</th>\n",
       "      <th>Converted</th>\n",
       "      <th>TotalVisits</th>\n",
       "      <th>Total Time Spent on Website</th>\n",
       "      <th>Page Views Per Visit</th>\n",
       "      <th>...</th>\n",
       "      <th>Get updates on DM Content</th>\n",
       "      <th>Lead Profile</th>\n",
       "      <th>City</th>\n",
       "      <th>Asymmetrique Activity Index</th>\n",
       "      <th>Asymmetrique Profile Index</th>\n",
       "      <th>Asymmetrique Activity Score</th>\n",
       "      <th>Asymmetrique Profile Score</th>\n",
       "      <th>I agree to pay the amount through cheque</th>\n",
       "      <th>A free copy of Mastering The Interview</th>\n",
       "      <th>Last Notable Activity</th>\n",
       "    </tr>\n",
       "  </thead>\n",
       "  <tbody>\n",
       "    <tr>\n",
       "      <th>0</th>\n",
       "      <td>7927b2df-8bba-4d29-b9a2-b6e0beafe620</td>\n",
       "      <td>660737</td>\n",
       "      <td>API</td>\n",
       "      <td>Olark Chat</td>\n",
       "      <td>No</td>\n",
       "      <td>No</td>\n",
       "      <td>0</td>\n",
       "      <td>0.0</td>\n",
       "      <td>0</td>\n",
       "      <td>0.0</td>\n",
       "      <td>...</td>\n",
       "      <td>No</td>\n",
       "      <td>Select</td>\n",
       "      <td>Select</td>\n",
       "      <td>02.Medium</td>\n",
       "      <td>02.Medium</td>\n",
       "      <td>15.0</td>\n",
       "      <td>15.0</td>\n",
       "      <td>No</td>\n",
       "      <td>No</td>\n",
       "      <td>Modified</td>\n",
       "    </tr>\n",
       "    <tr>\n",
       "      <th>1</th>\n",
       "      <td>2a272436-5132-4136-86fa-dcc88c88f482</td>\n",
       "      <td>660728</td>\n",
       "      <td>API</td>\n",
       "      <td>Organic Search</td>\n",
       "      <td>No</td>\n",
       "      <td>No</td>\n",
       "      <td>0</td>\n",
       "      <td>5.0</td>\n",
       "      <td>674</td>\n",
       "      <td>2.5</td>\n",
       "      <td>...</td>\n",
       "      <td>No</td>\n",
       "      <td>Select</td>\n",
       "      <td>Select</td>\n",
       "      <td>02.Medium</td>\n",
       "      <td>02.Medium</td>\n",
       "      <td>15.0</td>\n",
       "      <td>15.0</td>\n",
       "      <td>No</td>\n",
       "      <td>No</td>\n",
       "      <td>Email Opened</td>\n",
       "    </tr>\n",
       "    <tr>\n",
       "      <th>2</th>\n",
       "      <td>8cc8c611-a219-4f35-ad23-fdfd2656bd8a</td>\n",
       "      <td>660727</td>\n",
       "      <td>Landing Page Submission</td>\n",
       "      <td>Direct Traffic</td>\n",
       "      <td>No</td>\n",
       "      <td>No</td>\n",
       "      <td>1</td>\n",
       "      <td>2.0</td>\n",
       "      <td>1532</td>\n",
       "      <td>2.0</td>\n",
       "      <td>...</td>\n",
       "      <td>No</td>\n",
       "      <td>Potential Lead</td>\n",
       "      <td>Mumbai</td>\n",
       "      <td>02.Medium</td>\n",
       "      <td>01.High</td>\n",
       "      <td>14.0</td>\n",
       "      <td>20.0</td>\n",
       "      <td>No</td>\n",
       "      <td>Yes</td>\n",
       "      <td>Email Opened</td>\n",
       "    </tr>\n",
       "    <tr>\n",
       "      <th>3</th>\n",
       "      <td>0cc2df48-7cf4-4e39-9de9-19797f9b38cc</td>\n",
       "      <td>660719</td>\n",
       "      <td>Landing Page Submission</td>\n",
       "      <td>Direct Traffic</td>\n",
       "      <td>No</td>\n",
       "      <td>No</td>\n",
       "      <td>0</td>\n",
       "      <td>1.0</td>\n",
       "      <td>305</td>\n",
       "      <td>1.0</td>\n",
       "      <td>...</td>\n",
       "      <td>No</td>\n",
       "      <td>Select</td>\n",
       "      <td>Mumbai</td>\n",
       "      <td>02.Medium</td>\n",
       "      <td>01.High</td>\n",
       "      <td>13.0</td>\n",
       "      <td>17.0</td>\n",
       "      <td>No</td>\n",
       "      <td>No</td>\n",
       "      <td>Modified</td>\n",
       "    </tr>\n",
       "    <tr>\n",
       "      <th>4</th>\n",
       "      <td>3256f628-e534-4826-9d63-4a8b88782852</td>\n",
       "      <td>660681</td>\n",
       "      <td>Landing Page Submission</td>\n",
       "      <td>Google</td>\n",
       "      <td>No</td>\n",
       "      <td>No</td>\n",
       "      <td>1</td>\n",
       "      <td>2.0</td>\n",
       "      <td>1428</td>\n",
       "      <td>1.0</td>\n",
       "      <td>...</td>\n",
       "      <td>No</td>\n",
       "      <td>Select</td>\n",
       "      <td>Mumbai</td>\n",
       "      <td>02.Medium</td>\n",
       "      <td>01.High</td>\n",
       "      <td>15.0</td>\n",
       "      <td>18.0</td>\n",
       "      <td>No</td>\n",
       "      <td>No</td>\n",
       "      <td>Modified</td>\n",
       "    </tr>\n",
       "  </tbody>\n",
       "</table>\n",
       "<p>5 rows × 37 columns</p>\n",
       "</div>"
      ],
      "text/plain": [
       "                            Prospect ID  Lead Number              Lead Origin  \\\n",
       "0  7927b2df-8bba-4d29-b9a2-b6e0beafe620       660737                      API   \n",
       "1  2a272436-5132-4136-86fa-dcc88c88f482       660728                      API   \n",
       "2  8cc8c611-a219-4f35-ad23-fdfd2656bd8a       660727  Landing Page Submission   \n",
       "3  0cc2df48-7cf4-4e39-9de9-19797f9b38cc       660719  Landing Page Submission   \n",
       "4  3256f628-e534-4826-9d63-4a8b88782852       660681  Landing Page Submission   \n",
       "\n",
       "      Lead Source Do Not Email Do Not Call  Converted  TotalVisits  \\\n",
       "0      Olark Chat           No          No          0          0.0   \n",
       "1  Organic Search           No          No          0          5.0   \n",
       "2  Direct Traffic           No          No          1          2.0   \n",
       "3  Direct Traffic           No          No          0          1.0   \n",
       "4          Google           No          No          1          2.0   \n",
       "\n",
       "   Total Time Spent on Website  Page Views Per Visit  ...  \\\n",
       "0                            0                   0.0  ...   \n",
       "1                          674                   2.5  ...   \n",
       "2                         1532                   2.0  ...   \n",
       "3                          305                   1.0  ...   \n",
       "4                         1428                   1.0  ...   \n",
       "\n",
       "  Get updates on DM Content    Lead Profile    City  \\\n",
       "0                        No          Select  Select   \n",
       "1                        No          Select  Select   \n",
       "2                        No  Potential Lead  Mumbai   \n",
       "3                        No          Select  Mumbai   \n",
       "4                        No          Select  Mumbai   \n",
       "\n",
       "  Asymmetrique Activity Index Asymmetrique Profile Index  \\\n",
       "0                   02.Medium                  02.Medium   \n",
       "1                   02.Medium                  02.Medium   \n",
       "2                   02.Medium                    01.High   \n",
       "3                   02.Medium                    01.High   \n",
       "4                   02.Medium                    01.High   \n",
       "\n",
       "  Asymmetrique Activity Score Asymmetrique Profile Score  \\\n",
       "0                        15.0                       15.0   \n",
       "1                        15.0                       15.0   \n",
       "2                        14.0                       20.0   \n",
       "3                        13.0                       17.0   \n",
       "4                        15.0                       18.0   \n",
       "\n",
       "  I agree to pay the amount through cheque  \\\n",
       "0                                       No   \n",
       "1                                       No   \n",
       "2                                       No   \n",
       "3                                       No   \n",
       "4                                       No   \n",
       "\n",
       "  A free copy of Mastering The Interview Last Notable Activity  \n",
       "0                                     No              Modified  \n",
       "1                                     No          Email Opened  \n",
       "2                                    Yes          Email Opened  \n",
       "3                                     No              Modified  \n",
       "4                                     No              Modified  \n",
       "\n",
       "[5 rows x 37 columns]"
      ]
     },
     "execution_count": 3,
     "metadata": {},
     "output_type": "execute_result"
    }
   ],
   "source": [
    "# Importing dataset\n",
    "\n",
    "leadInfo = pd.read_csv(r\"C:\\Users\\Harsh\\Desktop\\Surbhi\\case study 2\\Lead+Scoring+Case+Study\\Lead Scoring Assignment\\Leads.csv\", encoding = 'latin')\n",
    "\n",
    "#To get the idea of how the table looks like we can use .head() or .tail() command\n",
    "leadInfo.head()"
   ]
  },
  {
   "cell_type": "markdown",
   "metadata": {},
   "source": [
    "### Inspect the dataframe\n",
    "\n",
    "This helps to give a good idea of the dataframes.\n",
    "\n"
   ]
  },
  {
   "cell_type": "code",
   "execution_count": 4,
   "metadata": {},
   "outputs": [
    {
     "name": "stdout",
     "output_type": "stream",
     "text": [
      "<class 'pandas.core.frame.DataFrame'>\n",
      "RangeIndex: 9240 entries, 0 to 9239\n",
      "Data columns (total 37 columns):\n",
      " #   Column                                         Non-Null Count  Dtype  \n",
      "---  ------                                         --------------  -----  \n",
      " 0   Prospect ID                                    9240 non-null   object \n",
      " 1   Lead Number                                    9240 non-null   int64  \n",
      " 2   Lead Origin                                    9240 non-null   object \n",
      " 3   Lead Source                                    9204 non-null   object \n",
      " 4   Do Not Email                                   9240 non-null   object \n",
      " 5   Do Not Call                                    9240 non-null   object \n",
      " 6   Converted                                      9240 non-null   int64  \n",
      " 7   TotalVisits                                    9103 non-null   float64\n",
      " 8   Total Time Spent on Website                    9240 non-null   int64  \n",
      " 9   Page Views Per Visit                           9103 non-null   float64\n",
      " 10  Last Activity                                  9137 non-null   object \n",
      " 11  Country                                        6779 non-null   object \n",
      " 12  Specialization                                 7802 non-null   object \n",
      " 13  How did you hear about X Education             7033 non-null   object \n",
      " 14  What is your current occupation                6550 non-null   object \n",
      " 15  What matters most to you in choosing a course  6531 non-null   object \n",
      " 16  Search                                         9240 non-null   object \n",
      " 17  Magazine                                       9240 non-null   object \n",
      " 18  Newspaper Article                              9240 non-null   object \n",
      " 19  X Education Forums                             9240 non-null   object \n",
      " 20  Newspaper                                      9240 non-null   object \n",
      " 21  Digital Advertisement                          9240 non-null   object \n",
      " 22  Through Recommendations                        9240 non-null   object \n",
      " 23  Receive More Updates About Our Courses         9240 non-null   object \n",
      " 24  Tags                                           5887 non-null   object \n",
      " 25  Lead Quality                                   4473 non-null   object \n",
      " 26  Update me on Supply Chain Content              9240 non-null   object \n",
      " 27  Get updates on DM Content                      9240 non-null   object \n",
      " 28  Lead Profile                                   6531 non-null   object \n",
      " 29  City                                           7820 non-null   object \n",
      " 30  Asymmetrique Activity Index                    5022 non-null   object \n",
      " 31  Asymmetrique Profile Index                     5022 non-null   object \n",
      " 32  Asymmetrique Activity Score                    5022 non-null   float64\n",
      " 33  Asymmetrique Profile Score                     5022 non-null   float64\n",
      " 34  I agree to pay the amount through cheque       9240 non-null   object \n",
      " 35  A free copy of Mastering The Interview         9240 non-null   object \n",
      " 36  Last Notable Activity                          9240 non-null   object \n",
      "dtypes: float64(4), int64(3), object(30)\n",
      "memory usage: 2.6+ MB\n"
     ]
    }
   ],
   "source": [
    "# The .info() code gives almost the entire information that needs to be inspected, so let's start from there\n",
    "leadInfo.info()"
   ]
  },
  {
   "cell_type": "code",
   "execution_count": 5,
   "metadata": {},
   "outputs": [
    {
     "data": {
      "text/plain": [
       "(9240, 37)"
      ]
     },
     "execution_count": 5,
     "metadata": {},
     "output_type": "execute_result"
    }
   ],
   "source": [
    "# The .shape code gives the no. of rows and columns\n",
    "leadInfo.shape"
   ]
  },
  {
   "cell_type": "code",
   "execution_count": 6,
   "metadata": {},
   "outputs": [
    {
     "data": {
      "text/html": [
       "<div>\n",
       "<style scoped>\n",
       "    .dataframe tbody tr th:only-of-type {\n",
       "        vertical-align: middle;\n",
       "    }\n",
       "\n",
       "    .dataframe tbody tr th {\n",
       "        vertical-align: top;\n",
       "    }\n",
       "\n",
       "    .dataframe thead th {\n",
       "        text-align: right;\n",
       "    }\n",
       "</style>\n",
       "<table border=\"1\" class=\"dataframe\">\n",
       "  <thead>\n",
       "    <tr style=\"text-align: right;\">\n",
       "      <th></th>\n",
       "      <th>Lead Number</th>\n",
       "      <th>Converted</th>\n",
       "      <th>TotalVisits</th>\n",
       "      <th>Total Time Spent on Website</th>\n",
       "      <th>Page Views Per Visit</th>\n",
       "      <th>Asymmetrique Activity Score</th>\n",
       "      <th>Asymmetrique Profile Score</th>\n",
       "    </tr>\n",
       "  </thead>\n",
       "  <tbody>\n",
       "    <tr>\n",
       "      <th>count</th>\n",
       "      <td>9240.000000</td>\n",
       "      <td>9240.000000</td>\n",
       "      <td>9103.000000</td>\n",
       "      <td>9240.000000</td>\n",
       "      <td>9103.000000</td>\n",
       "      <td>5022.000000</td>\n",
       "      <td>5022.000000</td>\n",
       "    </tr>\n",
       "    <tr>\n",
       "      <th>mean</th>\n",
       "      <td>617188.435606</td>\n",
       "      <td>0.385390</td>\n",
       "      <td>3.445238</td>\n",
       "      <td>487.698268</td>\n",
       "      <td>2.362820</td>\n",
       "      <td>14.306252</td>\n",
       "      <td>16.344883</td>\n",
       "    </tr>\n",
       "    <tr>\n",
       "      <th>std</th>\n",
       "      <td>23405.995698</td>\n",
       "      <td>0.486714</td>\n",
       "      <td>4.854853</td>\n",
       "      <td>548.021466</td>\n",
       "      <td>2.161418</td>\n",
       "      <td>1.386694</td>\n",
       "      <td>1.811395</td>\n",
       "    </tr>\n",
       "    <tr>\n",
       "      <th>min</th>\n",
       "      <td>579533.000000</td>\n",
       "      <td>0.000000</td>\n",
       "      <td>0.000000</td>\n",
       "      <td>0.000000</td>\n",
       "      <td>0.000000</td>\n",
       "      <td>7.000000</td>\n",
       "      <td>11.000000</td>\n",
       "    </tr>\n",
       "    <tr>\n",
       "      <th>25%</th>\n",
       "      <td>596484.500000</td>\n",
       "      <td>0.000000</td>\n",
       "      <td>1.000000</td>\n",
       "      <td>12.000000</td>\n",
       "      <td>1.000000</td>\n",
       "      <td>14.000000</td>\n",
       "      <td>15.000000</td>\n",
       "    </tr>\n",
       "    <tr>\n",
       "      <th>50%</th>\n",
       "      <td>615479.000000</td>\n",
       "      <td>0.000000</td>\n",
       "      <td>3.000000</td>\n",
       "      <td>248.000000</td>\n",
       "      <td>2.000000</td>\n",
       "      <td>14.000000</td>\n",
       "      <td>16.000000</td>\n",
       "    </tr>\n",
       "    <tr>\n",
       "      <th>75%</th>\n",
       "      <td>637387.250000</td>\n",
       "      <td>1.000000</td>\n",
       "      <td>5.000000</td>\n",
       "      <td>936.000000</td>\n",
       "      <td>3.000000</td>\n",
       "      <td>15.000000</td>\n",
       "      <td>18.000000</td>\n",
       "    </tr>\n",
       "    <tr>\n",
       "      <th>max</th>\n",
       "      <td>660737.000000</td>\n",
       "      <td>1.000000</td>\n",
       "      <td>251.000000</td>\n",
       "      <td>2272.000000</td>\n",
       "      <td>55.000000</td>\n",
       "      <td>18.000000</td>\n",
       "      <td>20.000000</td>\n",
       "    </tr>\n",
       "  </tbody>\n",
       "</table>\n",
       "</div>"
      ],
      "text/plain": [
       "         Lead Number    Converted  TotalVisits  Total Time Spent on Website  \\\n",
       "count    9240.000000  9240.000000  9103.000000                  9240.000000   \n",
       "mean   617188.435606     0.385390     3.445238                   487.698268   \n",
       "std     23405.995698     0.486714     4.854853                   548.021466   \n",
       "min    579533.000000     0.000000     0.000000                     0.000000   \n",
       "25%    596484.500000     0.000000     1.000000                    12.000000   \n",
       "50%    615479.000000     0.000000     3.000000                   248.000000   \n",
       "75%    637387.250000     1.000000     5.000000                   936.000000   \n",
       "max    660737.000000     1.000000   251.000000                  2272.000000   \n",
       "\n",
       "       Page Views Per Visit  Asymmetrique Activity Score  \\\n",
       "count           9103.000000                  5022.000000   \n",
       "mean               2.362820                    14.306252   \n",
       "std                2.161418                     1.386694   \n",
       "min                0.000000                     7.000000   \n",
       "25%                1.000000                    14.000000   \n",
       "50%                2.000000                    14.000000   \n",
       "75%                3.000000                    15.000000   \n",
       "max               55.000000                    18.000000   \n",
       "\n",
       "       Asymmetrique Profile Score  \n",
       "count                 5022.000000  \n",
       "mean                    16.344883  \n",
       "std                      1.811395  \n",
       "min                     11.000000  \n",
       "25%                     15.000000  \n",
       "50%                     16.000000  \n",
       "75%                     18.000000  \n",
       "max                     20.000000  "
      ]
     },
     "execution_count": 6,
     "metadata": {},
     "output_type": "execute_result"
    }
   ],
   "source": [
    "#To get an idea of the static idea numeric values, use .describe()\n",
    "leadInfo.describe()"
   ]
  },
  {
   "cell_type": "markdown",
   "metadata": {},
   "source": [
    "## Step 2: Data Cleaning"
   ]
  },
  {
   "cell_type": "code",
   "execution_count": 7,
   "metadata": {},
   "outputs": [
    {
     "name": "stdout",
     "output_type": "stream",
     "text": [
      "Prospect ID                                       0.00\n",
      "Lead Number                                       0.00\n",
      "Lead Origin                                       0.00\n",
      "Lead Source                                       0.39\n",
      "Do Not Email                                      0.00\n",
      "Do Not Call                                       0.00\n",
      "Converted                                         0.00\n",
      "TotalVisits                                       1.48\n",
      "Total Time Spent on Website                       0.00\n",
      "Page Views Per Visit                              1.48\n",
      "Last Activity                                     1.11\n",
      "Country                                          26.63\n",
      "Specialization                                   15.56\n",
      "How did you hear about X Education               23.89\n",
      "What is your current occupation                  29.11\n",
      "What matters most to you in choosing a course    29.32\n",
      "Search                                            0.00\n",
      "Magazine                                          0.00\n",
      "Newspaper Article                                 0.00\n",
      "X Education Forums                                0.00\n",
      "Newspaper                                         0.00\n",
      "Digital Advertisement                             0.00\n",
      "Through Recommendations                           0.00\n",
      "Receive More Updates About Our Courses            0.00\n",
      "Tags                                             36.29\n",
      "Lead Quality                                     51.59\n",
      "Update me on Supply Chain Content                 0.00\n",
      "Get updates on DM Content                         0.00\n",
      "Lead Profile                                     29.32\n",
      "City                                             15.37\n",
      "Asymmetrique Activity Index                      45.65\n",
      "Asymmetrique Profile Index                       45.65\n",
      "Asymmetrique Activity Score                      45.65\n",
      "Asymmetrique Profile Score                       45.65\n",
      "I agree to pay the amount through cheque          0.00\n",
      "A free copy of Mastering The Interview            0.00\n",
      "Last Notable Activity                             0.00\n",
      "dtype: float64\n"
     ]
    }
   ],
   "source": [
    "# check for percentage of null values in each column\n",
    "\n",
    "percent_missing = round(100*(leadInfo.isnull().sum()/len(leadInfo.index)), 2)\n",
    "print(percent_missing)"
   ]
  },
  {
   "cell_type": "markdown",
   "metadata": {},
   "source": [
    "There are some columns that have more than 25% null values."
   ]
  },
  {
   "cell_type": "code",
   "execution_count": 8,
   "metadata": {},
   "outputs": [
    {
     "data": {
      "text/html": [
       "<div>\n",
       "<style scoped>\n",
       "    .dataframe tbody tr th:only-of-type {\n",
       "        vertical-align: middle;\n",
       "    }\n",
       "\n",
       "    .dataframe tbody tr th {\n",
       "        vertical-align: top;\n",
       "    }\n",
       "\n",
       "    .dataframe thead th {\n",
       "        text-align: right;\n",
       "    }\n",
       "</style>\n",
       "<table border=\"1\" class=\"dataframe\">\n",
       "  <thead>\n",
       "    <tr style=\"text-align: right;\">\n",
       "      <th></th>\n",
       "      <th>Prospect ID</th>\n",
       "      <th>Lead Number</th>\n",
       "      <th>Lead Origin</th>\n",
       "      <th>Lead Source</th>\n",
       "      <th>Do Not Email</th>\n",
       "      <th>Do Not Call</th>\n",
       "      <th>Converted</th>\n",
       "      <th>TotalVisits</th>\n",
       "      <th>Total Time Spent on Website</th>\n",
       "      <th>Page Views Per Visit</th>\n",
       "      <th>...</th>\n",
       "      <th>Get updates on DM Content</th>\n",
       "      <th>Lead Profile</th>\n",
       "      <th>City</th>\n",
       "      <th>Asymmetrique Activity Index</th>\n",
       "      <th>Asymmetrique Profile Index</th>\n",
       "      <th>Asymmetrique Activity Score</th>\n",
       "      <th>Asymmetrique Profile Score</th>\n",
       "      <th>I agree to pay the amount through cheque</th>\n",
       "      <th>A free copy of Mastering The Interview</th>\n",
       "      <th>Last Notable Activity</th>\n",
       "    </tr>\n",
       "  </thead>\n",
       "  <tbody>\n",
       "  </tbody>\n",
       "</table>\n",
       "<p>0 rows × 37 columns</p>\n",
       "</div>"
      ],
      "text/plain": [
       "Empty DataFrame\n",
       "Columns: [Prospect ID, Lead Number, Lead Origin, Lead Source, Do Not Email, Do Not Call, Converted, TotalVisits, Total Time Spent on Website, Page Views Per Visit, Last Activity, Country, Specialization, How did you hear about X Education, What is your current occupation, What matters most to you in choosing a course, Search, Magazine, Newspaper Article, X Education Forums, Newspaper, Digital Advertisement, Through Recommendations, Receive More Updates About Our Courses, Tags, Lead Quality, Update me on Supply Chain Content, Get updates on DM Content, Lead Profile, City, Asymmetrique Activity Index, Asymmetrique Profile Index, Asymmetrique Activity Score, Asymmetrique Profile Score, I agree to pay the amount through cheque, A free copy of Mastering The Interview, Last Notable Activity]\n",
       "Index: []\n",
       "\n",
       "[0 rows x 37 columns]"
      ]
     },
     "execution_count": 8,
     "metadata": {},
     "output_type": "execute_result"
    }
   ],
   "source": [
    "# Check if there are any duplicate values in the dataset\n",
    "\n",
    "leadInfo[leadInfo.duplicated(keep=False)]"
   ]
  },
  {
   "cell_type": "markdown",
   "metadata": {},
   "source": [
    "There are no duplicate values in the data."
   ]
  },
  {
   "cell_type": "code",
   "execution_count": 9,
   "metadata": {},
   "outputs": [],
   "source": [
    "# Following columns have a value called select. Convert those values as nan since the customer has not selected any options for \n",
    "# these columns while entering the data.\n",
    "\n",
    "# a) Specialization\n",
    "# b) How did you hear about X Education\n",
    "# c) Lead Profile\n",
    "# d) City\n",
    "\n",
    "# Converting 'Select' values to NaN.\n",
    "\n",
    "leadInfo['Specialization'] = leadInfo['Specialization'].replace('Select', np.nan)\n",
    "leadInfo['How did you hear about X Education'] = leadInfo['How did you hear about X Education'].replace('Select', np.nan)\n",
    "leadInfo['Lead Profile'] = leadInfo['Lead Profile'].replace('Select', np.nan)\n",
    "leadInfo['City'] = leadInfo['City'].replace('Select', np.nan)"
   ]
  },
  {
   "cell_type": "code",
   "execution_count": 10,
   "metadata": {},
   "outputs": [
    {
     "name": "stdout",
     "output_type": "stream",
     "text": [
      "Prospect ID                                       0.00\n",
      "Lead Number                                       0.00\n",
      "Lead Origin                                       0.00\n",
      "Lead Source                                       0.39\n",
      "Do Not Email                                      0.00\n",
      "Do Not Call                                       0.00\n",
      "Converted                                         0.00\n",
      "TotalVisits                                       1.48\n",
      "Total Time Spent on Website                       0.00\n",
      "Page Views Per Visit                              1.48\n",
      "Last Activity                                     1.11\n",
      "Country                                          26.63\n",
      "Specialization                                   36.58\n",
      "How did you hear about X Education               78.46\n",
      "What is your current occupation                  29.11\n",
      "What matters most to you in choosing a course    29.32\n",
      "Search                                            0.00\n",
      "Magazine                                          0.00\n",
      "Newspaper Article                                 0.00\n",
      "X Education Forums                                0.00\n",
      "Newspaper                                         0.00\n",
      "Digital Advertisement                             0.00\n",
      "Through Recommendations                           0.00\n",
      "Receive More Updates About Our Courses            0.00\n",
      "Tags                                             36.29\n",
      "Lead Quality                                     51.59\n",
      "Update me on Supply Chain Content                 0.00\n",
      "Get updates on DM Content                         0.00\n",
      "Lead Profile                                     74.19\n",
      "City                                             39.71\n",
      "Asymmetrique Activity Index                      45.65\n",
      "Asymmetrique Profile Index                       45.65\n",
      "Asymmetrique Activity Score                      45.65\n",
      "Asymmetrique Profile Score                       45.65\n",
      "I agree to pay the amount through cheque          0.00\n",
      "A free copy of Mastering The Interview            0.00\n",
      "Last Notable Activity                             0.00\n",
      "dtype: float64\n"
     ]
    }
   ],
   "source": [
    "# check for percentage of null values in each column\n",
    "\n",
    "percent_missing = round(100*(leadInfo.isnull().sum()/len(leadInfo.index)), 2)\n",
    "print(percent_missing)"
   ]
  },
  {
   "cell_type": "code",
   "execution_count": 11,
   "metadata": {},
   "outputs": [],
   "source": [
    "# Let us drop the following columns that have more than 30% null values\n",
    "\n",
    "# a) Specialization\n",
    "# b) How did you hear about X Education\n",
    "# c) Tags\n",
    "# d) Lead Quality\n",
    "# e) Lead Profile\n",
    "# f) City\n",
    "# g) Asymmetrique Activity Index\n",
    "# h) Asymmetrique Profile Index\n",
    "# i) Asymmetrique Activity Score\n",
    "# j) Asymmetrique Profile Score\n",
    "\n",
    "leadInfo = leadInfo.drop(['Specialization', 'How did you hear about X Education', 'Tags', 'Lead Quality',\n",
    "                          'Lead Profile','City', 'Asymmetrique Activity Index', 'Asymmetrique Profile Index',\n",
    "                          'Asymmetrique Activity Score', 'Asymmetrique Profile Score'], axis=1)"
   ]
  },
  {
   "cell_type": "code",
   "execution_count": 12,
   "metadata": {},
   "outputs": [
    {
     "name": "stdout",
     "output_type": "stream",
     "text": [
      "Prospect ID                                       0.00\n",
      "Lead Number                                       0.00\n",
      "Lead Origin                                       0.00\n",
      "Lead Source                                       0.39\n",
      "Do Not Email                                      0.00\n",
      "Do Not Call                                       0.00\n",
      "Converted                                         0.00\n",
      "TotalVisits                                       1.48\n",
      "Total Time Spent on Website                       0.00\n",
      "Page Views Per Visit                              1.48\n",
      "Last Activity                                     1.11\n",
      "Country                                          26.63\n",
      "What is your current occupation                  29.11\n",
      "What matters most to you in choosing a course    29.32\n",
      "Search                                            0.00\n",
      "Magazine                                          0.00\n",
      "Newspaper Article                                 0.00\n",
      "X Education Forums                                0.00\n",
      "Newspaper                                         0.00\n",
      "Digital Advertisement                             0.00\n",
      "Through Recommendations                           0.00\n",
      "Receive More Updates About Our Courses            0.00\n",
      "Update me on Supply Chain Content                 0.00\n",
      "Get updates on DM Content                         0.00\n",
      "I agree to pay the amount through cheque          0.00\n",
      "A free copy of Mastering The Interview            0.00\n",
      "Last Notable Activity                             0.00\n",
      "dtype: float64\n"
     ]
    }
   ],
   "source": [
    "# check for percentage of null values in each column after dropping columns having more than 30% null values\n",
    "\n",
    "percent_missing = round(100*(leadInfo.isnull().sum()/len(leadInfo.index)), 2)\n",
    "print(percent_missing)"
   ]
  },
  {
   "cell_type": "markdown",
   "metadata": {},
   "source": [
    "Following columns have null values :\n",
    "    - Country\n",
    "    - Lead Source\n",
    "    - Total Visits\n",
    "    - Page Views Per Visit\n",
    "    - Last Activity    \n",
    "    - What is your current occupation\n",
    "    - What matters most to you in choosing a course\n",
    "    \n",
    "Let us see and decide whather we need to impute values in the above column or drop the columns."
   ]
  },
  {
   "cell_type": "code",
   "execution_count": 13,
   "metadata": {},
   "outputs": [
    {
     "data": {
      "text/plain": [
       "India                   6492\n",
       "United States             69\n",
       "United Arab Emirates      53\n",
       "Singapore                 24\n",
       "Saudi Arabia              21\n",
       "United Kingdom            15\n",
       "Australia                 13\n",
       "Qatar                     10\n",
       "Bahrain                    7\n",
       "Hong Kong                  7\n",
       "Oman                       6\n",
       "France                     6\n",
       "unknown                    5\n",
       "Kuwait                     4\n",
       "Nigeria                    4\n",
       "Canada                     4\n",
       "Germany                    4\n",
       "South Africa               4\n",
       "Sweden                     3\n",
       "Italy                      2\n",
       "China                      2\n",
       "Bangladesh                 2\n",
       "Uganda                     2\n",
       "Netherlands                2\n",
       "Belgium                    2\n",
       "Asia/Pacific Region        2\n",
       "Philippines                2\n",
       "Ghana                      2\n",
       "Indonesia                  1\n",
       "Liberia                    1\n",
       "Tanzania                   1\n",
       "Malaysia                   1\n",
       "Switzerland                1\n",
       "Denmark                    1\n",
       "Russia                     1\n",
       "Vietnam                    1\n",
       "Sri Lanka                  1\n",
       "Kenya                      1\n",
       "Name: Country, dtype: int64"
      ]
     },
     "execution_count": 13,
     "metadata": {},
     "output_type": "execute_result"
    }
   ],
   "source": [
    "# Lets check the value counts for each values in the country column\n",
    "\n",
    "leadInfo.Country.value_counts()"
   ]
  },
  {
   "cell_type": "code",
   "execution_count": 14,
   "metadata": {},
   "outputs": [
    {
     "name": "stdout",
     "output_type": "stream",
     "text": [
      "70.26\n"
     ]
    }
   ],
   "source": [
    "# check the percentage of India as value in the country column\n",
    "\n",
    "country_percentage = round(100*len(leadInfo[leadInfo['Country'] == 'India'])/len(leadInfo['Country']),2)\n",
    "print(country_percentage)"
   ]
  },
  {
   "cell_type": "code",
   "execution_count": 15,
   "metadata": {},
   "outputs": [],
   "source": [
    "# Since \"India\" occurs around 70% of times in the Country column, and country column also has around 27% as missing values, \n",
    "# we shall go ahead and drop the column\n",
    "\n",
    "leadInfo = leadInfo.drop(['Country'], axis=1)"
   ]
  },
  {
   "cell_type": "code",
   "execution_count": 16,
   "metadata": {},
   "outputs": [
    {
     "data": {
      "text/plain": [
       "Google               2868\n",
       "Direct Traffic       2543\n",
       "Olark Chat           1755\n",
       "Organic Search       1154\n",
       "Reference             534\n",
       "Welingak Website      142\n",
       "Referral Sites        125\n",
       "Facebook               55\n",
       "bing                    6\n",
       "google                  5\n",
       "Click2call              4\n",
       "Press_Release           2\n",
       "Social Media            2\n",
       "Live Chat               2\n",
       "blog                    1\n",
       "welearnblog_Home        1\n",
       "testone                 1\n",
       "Pay per Click Ads       1\n",
       "NC_EDM                  1\n",
       "WeLearn                 1\n",
       "youtubechannel          1\n",
       "Name: Lead Source, dtype: int64"
      ]
     },
     "execution_count": 16,
     "metadata": {},
     "output_type": "execute_result"
    }
   ],
   "source": [
    "# Check the value counts for the column Lead Source\n",
    "\n",
    "leadInfo['Lead Source'].value_counts()"
   ]
  },
  {
   "cell_type": "code",
   "execution_count": 17,
   "metadata": {},
   "outputs": [],
   "source": [
    "# From the above it can be noticed that Google appears twice with different cases. Hence we shall convert all rows with value \n",
    "# \"Google\" to the same case.\n",
    "# Also since \"Google\" has the major chunk of data, we can impute the null values with Google\n",
    "\n",
    "leadInfo['Lead Source'] = leadInfo['Lead Source'].replace('google', 'Google')\n",
    "leadInfo['Lead Source'] = leadInfo['Lead Source'].replace(np.nan, 'Google')"
   ]
  },
  {
   "cell_type": "code",
   "execution_count": 18,
   "metadata": {},
   "outputs": [
    {
     "data": {
      "text/plain": [
       "0.0      2189\n",
       "2.0      1680\n",
       "3.0      1306\n",
       "4.0      1120\n",
       "5.0       783\n",
       "6.0       466\n",
       "1.0       395\n",
       "7.0       309\n",
       "8.0       224\n",
       "9.0       164\n",
       "10.0      114\n",
       "11.0       86\n",
       "13.0       48\n",
       "12.0       45\n",
       "14.0       36\n",
       "16.0       21\n",
       "15.0       18\n",
       "17.0       16\n",
       "18.0       15\n",
       "20.0       12\n",
       "19.0        9\n",
       "23.0        6\n",
       "21.0        6\n",
       "27.0        5\n",
       "24.0        5\n",
       "25.0        5\n",
       "22.0        3\n",
       "28.0        2\n",
       "29.0        2\n",
       "26.0        2\n",
       "251.0       1\n",
       "74.0        1\n",
       "30.0        1\n",
       "141.0       1\n",
       "54.0        1\n",
       "41.0        1\n",
       "115.0       1\n",
       "43.0        1\n",
       "42.0        1\n",
       "32.0        1\n",
       "55.0        1\n",
       "Name: TotalVisits, dtype: int64"
      ]
     },
     "execution_count": 18,
     "metadata": {},
     "output_type": "execute_result"
    }
   ],
   "source": [
    "# Check the value counts for the column Total Visits\n",
    "\n",
    "leadInfo['TotalVisits'].value_counts()"
   ]
  },
  {
   "cell_type": "code",
   "execution_count": 19,
   "metadata": {},
   "outputs": [
    {
     "data": {
      "text/plain": [
       "3.0"
      ]
     },
     "execution_count": 19,
     "metadata": {},
     "output_type": "execute_result"
    }
   ],
   "source": [
    "# Check the median of column \n",
    "\n",
    "leadInfo['TotalVisits'].median()"
   ]
  },
  {
   "cell_type": "code",
   "execution_count": 20,
   "metadata": {},
   "outputs": [],
   "source": [
    "# We shall impute the null values in TotalVisits by the median value which is 3.0\n",
    "\n",
    "leadInfo['TotalVisits'] = leadInfo['TotalVisits'].replace(np.nan, leadInfo['TotalVisits'].median())"
   ]
  },
  {
   "cell_type": "code",
   "execution_count": 21,
   "metadata": {},
   "outputs": [
    {
     "data": {
      "text/plain": [
       "0.00    2189\n",
       "2.00    1795\n",
       "3.00    1196\n",
       "4.00     896\n",
       "1.00     651\n",
       "        ... \n",
       "1.27       1\n",
       "8.21       1\n",
       "2.14       1\n",
       "2.63       1\n",
       "2.45       1\n",
       "Name: Page Views Per Visit, Length: 114, dtype: int64"
      ]
     },
     "execution_count": 21,
     "metadata": {},
     "output_type": "execute_result"
    }
   ],
   "source": [
    "# Check the value counts for Page Views Per Visit\n",
    "\n",
    "leadInfo['Page Views Per Visit'].value_counts()"
   ]
  },
  {
   "cell_type": "code",
   "execution_count": 22,
   "metadata": {},
   "outputs": [
    {
     "data": {
      "text/plain": [
       "2.0"
      ]
     },
     "execution_count": 22,
     "metadata": {},
     "output_type": "execute_result"
    }
   ],
   "source": [
    "# Check the median of the column\n",
    "\n",
    "leadInfo['Page Views Per Visit'].median()"
   ]
  },
  {
   "cell_type": "code",
   "execution_count": 23,
   "metadata": {},
   "outputs": [],
   "source": [
    "# We shall impute the null values in 'Page Views Per Visit' by the median value which is 2.0\n",
    "\n",
    "leadInfo['Page Views Per Visit'] = leadInfo['Page Views Per Visit'].replace(np.nan, leadInfo['Page Views Per Visit'].median())"
   ]
  },
  {
   "cell_type": "code",
   "execution_count": 24,
   "metadata": {},
   "outputs": [
    {
     "data": {
      "text/plain": [
       "Email Opened                    3437\n",
       "SMS Sent                        2745\n",
       "Olark Chat Conversation          973\n",
       "Page Visited on Website          640\n",
       "Converted to Lead                428\n",
       "Email Bounced                    326\n",
       "Email Link Clicked               267\n",
       "Form Submitted on Website        116\n",
       "Unreachable                       93\n",
       "Unsubscribed                      61\n",
       "Had a Phone Conversation          30\n",
       "Approached upfront                 9\n",
       "View in browser link Clicked       6\n",
       "Email Received                     2\n",
       "Email Marked Spam                  2\n",
       "Visited Booth in Tradeshow         1\n",
       "Resubscribed to emails             1\n",
       "Name: Last Activity, dtype: int64"
      ]
     },
     "execution_count": 24,
     "metadata": {},
     "output_type": "execute_result"
    }
   ],
   "source": [
    "# Check the value counts for the column Last Activity\n",
    "\n",
    "leadInfo['Last Activity'].value_counts()"
   ]
  },
  {
   "cell_type": "code",
   "execution_count": 25,
   "metadata": {},
   "outputs": [],
   "source": [
    "# Since we do not have any information of what the last activity of the customer would have been, we can add a new category \n",
    "# called 'Not Sure' for the null values\n",
    "\n",
    "leadInfo['Last Activity'] = leadInfo['Last Activity'].replace(np.nan, 'Not Sure')"
   ]
  },
  {
   "cell_type": "code",
   "execution_count": 26,
   "metadata": {},
   "outputs": [
    {
     "data": {
      "text/plain": [
       "Unemployed              5600\n",
       "Working Professional     706\n",
       "Student                  210\n",
       "Other                     16\n",
       "Housewife                 10\n",
       "Businessman                8\n",
       "Name: What is your current occupation, dtype: int64"
      ]
     },
     "execution_count": 26,
     "metadata": {},
     "output_type": "execute_result"
    }
   ],
   "source": [
    "# Check the value counts for the column \"What is your current Occupation\"\n",
    "\n",
    "leadInfo['What is your current occupation'].value_counts()"
   ]
  },
  {
   "cell_type": "code",
   "execution_count": 27,
   "metadata": {},
   "outputs": [],
   "source": [
    "# Since no information has been provided Current Occupation, we can add a new category called No Information and set that \n",
    "# as value for the null columns\n",
    "\n",
    "leadInfo['What is your current occupation'] = leadInfo['What is your current occupation'].replace(np.nan, 'No Information')"
   ]
  },
  {
   "cell_type": "code",
   "execution_count": 28,
   "metadata": {},
   "outputs": [
    {
     "data": {
      "text/plain": [
       "Better Career Prospects      6528\n",
       "Flexibility & Convenience       2\n",
       "Other                           1\n",
       "Name: What matters most to you in choosing a course, dtype: int64"
      ]
     },
     "execution_count": 28,
     "metadata": {},
     "output_type": "execute_result"
    }
   ],
   "source": [
    "# Check the value counts for the column What matters most to you in choosing a course \n",
    "\n",
    "leadInfo['What matters most to you in choosing a course'].value_counts()"
   ]
  },
  {
   "cell_type": "code",
   "execution_count": 29,
   "metadata": {},
   "outputs": [
    {
     "name": "stdout",
     "output_type": "stream",
     "text": [
      "70.65\n"
     ]
    }
   ],
   "source": [
    "matters_most_percentage = round(100*len(leadInfo[leadInfo['What matters most to you in choosing a course'] \n",
    "                            == 'Better Career Prospects'])/len(leadInfo['What matters most to you in choosing a course']),2)\n",
    "print(matters_most_percentage)"
   ]
  },
  {
   "cell_type": "code",
   "execution_count": 30,
   "metadata": {},
   "outputs": [],
   "source": [
    "# Since Better Career Prospects occurs around 70% of times in the What matters most to you in choosing a course column, and\n",
    "# since the column also has around 29% as missing values, we shall go ahead and drop the column\n",
    "\n",
    "leadInfo = leadInfo.drop(['What matters most to you in choosing a course'], axis=1)"
   ]
  },
  {
   "cell_type": "code",
   "execution_count": 31,
   "metadata": {},
   "outputs": [
    {
     "name": "stdout",
     "output_type": "stream",
     "text": [
      "Prospect ID                                 0.0\n",
      "Lead Number                                 0.0\n",
      "Lead Origin                                 0.0\n",
      "Lead Source                                 0.0\n",
      "Do Not Email                                0.0\n",
      "Do Not Call                                 0.0\n",
      "Converted                                   0.0\n",
      "TotalVisits                                 0.0\n",
      "Total Time Spent on Website                 0.0\n",
      "Page Views Per Visit                        0.0\n",
      "Last Activity                               0.0\n",
      "What is your current occupation             0.0\n",
      "Search                                      0.0\n",
      "Magazine                                    0.0\n",
      "Newspaper Article                           0.0\n",
      "X Education Forums                          0.0\n",
      "Newspaper                                   0.0\n",
      "Digital Advertisement                       0.0\n",
      "Through Recommendations                     0.0\n",
      "Receive More Updates About Our Courses      0.0\n",
      "Update me on Supply Chain Content           0.0\n",
      "Get updates on DM Content                   0.0\n",
      "I agree to pay the amount through cheque    0.0\n",
      "A free copy of Mastering The Interview      0.0\n",
      "Last Notable Activity                       0.0\n",
      "dtype: float64\n"
     ]
    }
   ],
   "source": [
    "# check for percentage of null values in each column\n",
    "\n",
    "percent_missing = round(100*(leadInfo.isnull().sum()/len(leadInfo.index)), 2)\n",
    "print(percent_missing)"
   ]
  },
  {
   "cell_type": "markdown",
   "metadata": {},
   "source": [
    "All the null values in the columns now have either been imputed or we have dropped the columns which have more than 70% data \n",
    "concentrated towards one value"
   ]
  },
  {
   "cell_type": "code",
   "execution_count": 32,
   "metadata": {},
   "outputs": [],
   "source": [
    "# Since the following columns have only one value \"No\" in all the rows, we can eliminate the columns :\n",
    "\n",
    "# a) Magazine\n",
    "# b) Receive More Updates About Our Courses\n",
    "# c) Update me on Supply Chain Content\n",
    "# d) Get updates on DM Content\n",
    "# e) I agree to pay the amount through cheque\n",
    "\n",
    "leadInfo = leadInfo.drop(['Magazine', 'Receive More Updates About Our Courses', 'Update me on Supply Chain Content', \n",
    "                          'Get updates on DM Content', 'I agree to pay the amount through cheque'], axis=1)"
   ]
  },
  {
   "cell_type": "code",
   "execution_count": 33,
   "metadata": {},
   "outputs": [
    {
     "data": {
      "text/plain": [
       "(9240, 20)"
      ]
     },
     "execution_count": 33,
     "metadata": {},
     "output_type": "execute_result"
    }
   ],
   "source": [
    "leadInfo.shape"
   ]
  },
  {
   "cell_type": "markdown",
   "metadata": {},
   "source": [
    "##### Outlier Treatment"
   ]
  },
  {
   "cell_type": "code",
   "execution_count": 34,
   "metadata": {},
   "outputs": [
    {
     "data": {
      "text/html": [
       "<div>\n",
       "<style scoped>\n",
       "    .dataframe tbody tr th:only-of-type {\n",
       "        vertical-align: middle;\n",
       "    }\n",
       "\n",
       "    .dataframe tbody tr th {\n",
       "        vertical-align: top;\n",
       "    }\n",
       "\n",
       "    .dataframe thead th {\n",
       "        text-align: right;\n",
       "    }\n",
       "</style>\n",
       "<table border=\"1\" class=\"dataframe\">\n",
       "  <thead>\n",
       "    <tr style=\"text-align: right;\">\n",
       "      <th></th>\n",
       "      <th>Lead Number</th>\n",
       "      <th>Converted</th>\n",
       "      <th>TotalVisits</th>\n",
       "      <th>Total Time Spent on Website</th>\n",
       "      <th>Page Views Per Visit</th>\n",
       "    </tr>\n",
       "  </thead>\n",
       "  <tbody>\n",
       "    <tr>\n",
       "      <th>count</th>\n",
       "      <td>9240.000000</td>\n",
       "      <td>9240.000000</td>\n",
       "      <td>9240.000000</td>\n",
       "      <td>9240.000000</td>\n",
       "      <td>9240.000000</td>\n",
       "    </tr>\n",
       "    <tr>\n",
       "      <th>mean</th>\n",
       "      <td>617188.435606</td>\n",
       "      <td>0.385390</td>\n",
       "      <td>3.438636</td>\n",
       "      <td>487.698268</td>\n",
       "      <td>2.357440</td>\n",
       "    </tr>\n",
       "    <tr>\n",
       "      <th>std</th>\n",
       "      <td>23405.995698</td>\n",
       "      <td>0.486714</td>\n",
       "      <td>4.819024</td>\n",
       "      <td>548.021466</td>\n",
       "      <td>2.145781</td>\n",
       "    </tr>\n",
       "    <tr>\n",
       "      <th>min</th>\n",
       "      <td>579533.000000</td>\n",
       "      <td>0.000000</td>\n",
       "      <td>0.000000</td>\n",
       "      <td>0.000000</td>\n",
       "      <td>0.000000</td>\n",
       "    </tr>\n",
       "    <tr>\n",
       "      <th>25%</th>\n",
       "      <td>596484.500000</td>\n",
       "      <td>0.000000</td>\n",
       "      <td>1.000000</td>\n",
       "      <td>12.000000</td>\n",
       "      <td>1.000000</td>\n",
       "    </tr>\n",
       "    <tr>\n",
       "      <th>50%</th>\n",
       "      <td>615479.000000</td>\n",
       "      <td>0.000000</td>\n",
       "      <td>3.000000</td>\n",
       "      <td>248.000000</td>\n",
       "      <td>2.000000</td>\n",
       "    </tr>\n",
       "    <tr>\n",
       "      <th>75%</th>\n",
       "      <td>637387.250000</td>\n",
       "      <td>1.000000</td>\n",
       "      <td>5.000000</td>\n",
       "      <td>936.000000</td>\n",
       "      <td>3.000000</td>\n",
       "    </tr>\n",
       "    <tr>\n",
       "      <th>90%</th>\n",
       "      <td>650506.100000</td>\n",
       "      <td>1.000000</td>\n",
       "      <td>7.000000</td>\n",
       "      <td>1380.000000</td>\n",
       "      <td>5.000000</td>\n",
       "    </tr>\n",
       "    <tr>\n",
       "      <th>95%</th>\n",
       "      <td>655404.050000</td>\n",
       "      <td>1.000000</td>\n",
       "      <td>10.000000</td>\n",
       "      <td>1562.000000</td>\n",
       "      <td>6.000000</td>\n",
       "    </tr>\n",
       "    <tr>\n",
       "      <th>99%</th>\n",
       "      <td>659592.980000</td>\n",
       "      <td>1.000000</td>\n",
       "      <td>17.000000</td>\n",
       "      <td>1840.610000</td>\n",
       "      <td>9.000000</td>\n",
       "    </tr>\n",
       "    <tr>\n",
       "      <th>max</th>\n",
       "      <td>660737.000000</td>\n",
       "      <td>1.000000</td>\n",
       "      <td>251.000000</td>\n",
       "      <td>2272.000000</td>\n",
       "      <td>55.000000</td>\n",
       "    </tr>\n",
       "  </tbody>\n",
       "</table>\n",
       "</div>"
      ],
      "text/plain": [
       "         Lead Number    Converted  TotalVisits  Total Time Spent on Website  \\\n",
       "count    9240.000000  9240.000000  9240.000000                  9240.000000   \n",
       "mean   617188.435606     0.385390     3.438636                   487.698268   \n",
       "std     23405.995698     0.486714     4.819024                   548.021466   \n",
       "min    579533.000000     0.000000     0.000000                     0.000000   \n",
       "25%    596484.500000     0.000000     1.000000                    12.000000   \n",
       "50%    615479.000000     0.000000     3.000000                   248.000000   \n",
       "75%    637387.250000     1.000000     5.000000                   936.000000   \n",
       "90%    650506.100000     1.000000     7.000000                  1380.000000   \n",
       "95%    655404.050000     1.000000    10.000000                  1562.000000   \n",
       "99%    659592.980000     1.000000    17.000000                  1840.610000   \n",
       "max    660737.000000     1.000000   251.000000                  2272.000000   \n",
       "\n",
       "       Page Views Per Visit  \n",
       "count           9240.000000  \n",
       "mean               2.357440  \n",
       "std                2.145781  \n",
       "min                0.000000  \n",
       "25%                1.000000  \n",
       "50%                2.000000  \n",
       "75%                3.000000  \n",
       "90%                5.000000  \n",
       "95%                6.000000  \n",
       "99%                9.000000  \n",
       "max               55.000000  "
      ]
     },
     "execution_count": 34,
     "metadata": {},
     "output_type": "execute_result"
    }
   ],
   "source": [
    "# Checking outliers at 25%,50%,75%,90%,95% and above\n",
    "leadInfo.describe(percentiles=[.25,.5,.75,.90,.95,.99])"
   ]
  },
  {
   "cell_type": "markdown",
   "metadata": {},
   "source": [
    "From the above, it can be seen that outlier exists in the columns TotalVisits and Page Views Per Visit columns."
   ]
  },
  {
   "cell_type": "code",
   "execution_count": 35,
   "metadata": {},
   "outputs": [
    {
     "data": {
      "image/png": "[encoded data removed]",
      "text/plain": [
       "<Figure size 1440x1800 with 3 Axes>"
      ]
     },
     "metadata": {
      "needs_background": "light"
     },
     "output_type": "display_data"
    }
   ],
   "source": [
    "# Check the outliers in all the numeric columns\n",
    "\n",
    "plt.figure(figsize=(20, 25))\n",
    "plt.subplot(4,3,1)\n",
    "sns.boxplot(y = 'TotalVisits', palette='Set3', data = leadInfo)\n",
    "plt.subplot(4,3,2)\n",
    "sns.boxplot(y = 'Total Time Spent on Website', palette='Set3', data = leadInfo)\n",
    "plt.subplot(4,3,3)\n",
    "sns.boxplot(y = 'Page Views Per Visit', palette='Set3', data = leadInfo)\n",
    "plt.show()"
   ]
  },
  {
   "cell_type": "code",
   "execution_count": 36,
   "metadata": {},
   "outputs": [
    {
     "data": {
      "text/plain": [
       "count    9141.000000\n",
       "mean        3.179740\n",
       "std         2.913631\n",
       "min         0.000000\n",
       "25%         1.000000\n",
       "50%         3.000000\n",
       "75%         5.000000\n",
       "90%         7.000000\n",
       "95%         9.000000\n",
       "99%        13.000000\n",
       "max        16.000000\n",
       "Name: TotalVisits, dtype: float64"
      ]
     },
     "execution_count": 36,
     "metadata": {},
     "output_type": "execute_result"
    }
   ],
   "source": [
    "# Removing values beyond 99% for Total Visits\n",
    "\n",
    "nn_quartile_total_visits = leadInfo['TotalVisits'].quantile(0.99)\n",
    "leadInfo = leadInfo[leadInfo[\"TotalVisits\"] < nn_quartile_total_visits]\n",
    "leadInfo[\"TotalVisits\"].describe(percentiles=[.25,.5,.75,.90,.95,.99])"
   ]
  },
  {
   "cell_type": "code",
   "execution_count": 37,
   "metadata": {},
   "outputs": [
    {
     "data": {
      "text/html": [
       "<div>\n",
       "<style scoped>\n",
       "    .dataframe tbody tr th:only-of-type {\n",
       "        vertical-align: middle;\n",
       "    }\n",
       "\n",
       "    .dataframe tbody tr th {\n",
       "        vertical-align: top;\n",
       "    }\n",
       "\n",
       "    .dataframe thead th {\n",
       "        text-align: right;\n",
       "    }\n",
       "</style>\n",
       "<table border=\"1\" class=\"dataframe\">\n",
       "  <thead>\n",
       "    <tr style=\"text-align: right;\">\n",
       "      <th></th>\n",
       "      <th>Lead Number</th>\n",
       "      <th>Converted</th>\n",
       "      <th>TotalVisits</th>\n",
       "      <th>Total Time Spent on Website</th>\n",
       "      <th>Page Views Per Visit</th>\n",
       "    </tr>\n",
       "  </thead>\n",
       "  <tbody>\n",
       "    <tr>\n",
       "      <th>count</th>\n",
       "      <td>9141.00000</td>\n",
       "      <td>9141.000000</td>\n",
       "      <td>9141.000000</td>\n",
       "      <td>9141.000000</td>\n",
       "      <td>9141.000000</td>\n",
       "    </tr>\n",
       "    <tr>\n",
       "      <th>mean</th>\n",
       "      <td>617233.45192</td>\n",
       "      <td>0.385406</td>\n",
       "      <td>3.179740</td>\n",
       "      <td>486.074609</td>\n",
       "      <td>2.329506</td>\n",
       "    </tr>\n",
       "    <tr>\n",
       "      <th>std</th>\n",
       "      <td>23413.72193</td>\n",
       "      <td>0.486718</td>\n",
       "      <td>2.913631</td>\n",
       "      <td>547.856302</td>\n",
       "      <td>2.046673</td>\n",
       "    </tr>\n",
       "    <tr>\n",
       "      <th>min</th>\n",
       "      <td>579533.00000</td>\n",
       "      <td>0.000000</td>\n",
       "      <td>0.000000</td>\n",
       "      <td>0.000000</td>\n",
       "      <td>0.000000</td>\n",
       "    </tr>\n",
       "    <tr>\n",
       "      <th>25%</th>\n",
       "      <td>596519.00000</td>\n",
       "      <td>0.000000</td>\n",
       "      <td>1.000000</td>\n",
       "      <td>10.000000</td>\n",
       "      <td>1.000000</td>\n",
       "    </tr>\n",
       "    <tr>\n",
       "      <th>50%</th>\n",
       "      <td>615563.00000</td>\n",
       "      <td>0.000000</td>\n",
       "      <td>3.000000</td>\n",
       "      <td>247.000000</td>\n",
       "      <td>2.000000</td>\n",
       "    </tr>\n",
       "    <tr>\n",
       "      <th>75%</th>\n",
       "      <td>637414.00000</td>\n",
       "      <td>1.000000</td>\n",
       "      <td>5.000000</td>\n",
       "      <td>933.000000</td>\n",
       "      <td>3.000000</td>\n",
       "    </tr>\n",
       "    <tr>\n",
       "      <th>90%</th>\n",
       "      <td>650514.00000</td>\n",
       "      <td>1.000000</td>\n",
       "      <td>7.000000</td>\n",
       "      <td>1379.000000</td>\n",
       "      <td>5.000000</td>\n",
       "    </tr>\n",
       "    <tr>\n",
       "      <th>95%</th>\n",
       "      <td>655406.00000</td>\n",
       "      <td>1.000000</td>\n",
       "      <td>9.000000</td>\n",
       "      <td>1561.000000</td>\n",
       "      <td>6.000000</td>\n",
       "    </tr>\n",
       "    <tr>\n",
       "      <th>99%</th>\n",
       "      <td>659592.80000</td>\n",
       "      <td>1.000000</td>\n",
       "      <td>13.000000</td>\n",
       "      <td>1839.600000</td>\n",
       "      <td>9.000000</td>\n",
       "    </tr>\n",
       "    <tr>\n",
       "      <th>max</th>\n",
       "      <td>660737.00000</td>\n",
       "      <td>1.000000</td>\n",
       "      <td>16.000000</td>\n",
       "      <td>2272.000000</td>\n",
       "      <td>16.000000</td>\n",
       "    </tr>\n",
       "  </tbody>\n",
       "</table>\n",
       "</div>"
      ],
      "text/plain": [
       "        Lead Number    Converted  TotalVisits  Total Time Spent on Website  \\\n",
       "count    9141.00000  9141.000000  9141.000000                  9141.000000   \n",
       "mean   617233.45192     0.385406     3.179740                   486.074609   \n",
       "std     23413.72193     0.486718     2.913631                   547.856302   \n",
       "min    579533.00000     0.000000     0.000000                     0.000000   \n",
       "25%    596519.00000     0.000000     1.000000                    10.000000   \n",
       "50%    615563.00000     0.000000     3.000000                   247.000000   \n",
       "75%    637414.00000     1.000000     5.000000                   933.000000   \n",
       "90%    650514.00000     1.000000     7.000000                  1379.000000   \n",
       "95%    655406.00000     1.000000     9.000000                  1561.000000   \n",
       "99%    659592.80000     1.000000    13.000000                  1839.600000   \n",
       "max    660737.00000     1.000000    16.000000                  2272.000000   \n",
       "\n",
       "       Page Views Per Visit  \n",
       "count           9141.000000  \n",
       "mean               2.329506  \n",
       "std                2.046673  \n",
       "min                0.000000  \n",
       "25%                1.000000  \n",
       "50%                2.000000  \n",
       "75%                3.000000  \n",
       "90%                5.000000  \n",
       "95%                6.000000  \n",
       "99%                9.000000  \n",
       "max               16.000000  "
      ]
     },
     "execution_count": 37,
     "metadata": {},
     "output_type": "execute_result"
    }
   ],
   "source": [
    "# Checking outliers at 25%,50%,75%,90%,95% and above\n",
    "\n",
    "leadInfo.describe(percentiles=[.25,.5,.75,.90,.95,.99])"
   ]
  },
  {
   "cell_type": "code",
   "execution_count": 38,
   "metadata": {},
   "outputs": [
    {
     "data": {
      "text/plain": [
       "count    9029.000000\n",
       "mean        2.226383\n",
       "std         1.823395\n",
       "min         0.000000\n",
       "25%         1.000000\n",
       "50%         2.000000\n",
       "75%         3.000000\n",
       "90%         5.000000\n",
       "95%         6.000000\n",
       "99%         7.000000\n",
       "max         8.000000\n",
       "Name: Page Views Per Visit, dtype: float64"
      ]
     },
     "execution_count": 38,
     "metadata": {},
     "output_type": "execute_result"
    }
   ],
   "source": [
    "# Removing values beyond 99% for page Views Per Visit\n",
    "\n",
    "nn_quartile_page_visits = leadInfo['Page Views Per Visit'].quantile(0.99)\n",
    "leadInfo = leadInfo[leadInfo[\"Page Views Per Visit\"] < nn_quartile_page_visits]\n",
    "leadInfo[\"Page Views Per Visit\"].describe(percentiles=[.25,.5,.75,.90,.95,.99])"
   ]
  },
  {
   "cell_type": "code",
   "execution_count": 39,
   "metadata": {},
   "outputs": [
    {
     "data": {
      "text/html": [
       "<div>\n",
       "<style scoped>\n",
       "    .dataframe tbody tr th:only-of-type {\n",
       "        vertical-align: middle;\n",
       "    }\n",
       "\n",
       "    .dataframe tbody tr th {\n",
       "        vertical-align: top;\n",
       "    }\n",
       "\n",
       "    .dataframe thead th {\n",
       "        text-align: right;\n",
       "    }\n",
       "</style>\n",
       "<table border=\"1\" class=\"dataframe\">\n",
       "  <thead>\n",
       "    <tr style=\"text-align: right;\">\n",
       "      <th></th>\n",
       "      <th>Lead Number</th>\n",
       "      <th>Converted</th>\n",
       "      <th>TotalVisits</th>\n",
       "      <th>Total Time Spent on Website</th>\n",
       "      <th>Page Views Per Visit</th>\n",
       "    </tr>\n",
       "  </thead>\n",
       "  <tbody>\n",
       "    <tr>\n",
       "      <th>count</th>\n",
       "      <td>9029.000000</td>\n",
       "      <td>9029.000000</td>\n",
       "      <td>9029.000000</td>\n",
       "      <td>9029.000000</td>\n",
       "      <td>9029.000000</td>\n",
       "    </tr>\n",
       "    <tr>\n",
       "      <th>mean</th>\n",
       "      <td>617223.248422</td>\n",
       "      <td>0.385092</td>\n",
       "      <td>3.087164</td>\n",
       "      <td>483.133016</td>\n",
       "      <td>2.226383</td>\n",
       "    </tr>\n",
       "    <tr>\n",
       "      <th>std</th>\n",
       "      <td>23372.383121</td>\n",
       "      <td>0.486644</td>\n",
       "      <td>2.801244</td>\n",
       "      <td>547.420675</td>\n",
       "      <td>1.823395</td>\n",
       "    </tr>\n",
       "    <tr>\n",
       "      <th>min</th>\n",
       "      <td>579533.000000</td>\n",
       "      <td>0.000000</td>\n",
       "      <td>0.000000</td>\n",
       "      <td>0.000000</td>\n",
       "      <td>0.000000</td>\n",
       "    </tr>\n",
       "    <tr>\n",
       "      <th>25%</th>\n",
       "      <td>596530.000000</td>\n",
       "      <td>0.000000</td>\n",
       "      <td>1.000000</td>\n",
       "      <td>7.000000</td>\n",
       "      <td>1.000000</td>\n",
       "    </tr>\n",
       "    <tr>\n",
       "      <th>50%</th>\n",
       "      <td>615645.000000</td>\n",
       "      <td>0.000000</td>\n",
       "      <td>3.000000</td>\n",
       "      <td>245.000000</td>\n",
       "      <td>2.000000</td>\n",
       "    </tr>\n",
       "    <tr>\n",
       "      <th>75%</th>\n",
       "      <td>637360.000000</td>\n",
       "      <td>1.000000</td>\n",
       "      <td>4.000000</td>\n",
       "      <td>929.000000</td>\n",
       "      <td>3.000000</td>\n",
       "    </tr>\n",
       "    <tr>\n",
       "      <th>90%</th>\n",
       "      <td>650463.200000</td>\n",
       "      <td>1.000000</td>\n",
       "      <td>7.000000</td>\n",
       "      <td>1378.000000</td>\n",
       "      <td>5.000000</td>\n",
       "    </tr>\n",
       "    <tr>\n",
       "      <th>95%</th>\n",
       "      <td>655351.600000</td>\n",
       "      <td>1.000000</td>\n",
       "      <td>8.000000</td>\n",
       "      <td>1558.000000</td>\n",
       "      <td>6.000000</td>\n",
       "    </tr>\n",
       "    <tr>\n",
       "      <th>99%</th>\n",
       "      <td>659577.800000</td>\n",
       "      <td>1.000000</td>\n",
       "      <td>13.000000</td>\n",
       "      <td>1839.720000</td>\n",
       "      <td>7.000000</td>\n",
       "    </tr>\n",
       "    <tr>\n",
       "      <th>max</th>\n",
       "      <td>660737.000000</td>\n",
       "      <td>1.000000</td>\n",
       "      <td>16.000000</td>\n",
       "      <td>2272.000000</td>\n",
       "      <td>8.000000</td>\n",
       "    </tr>\n",
       "  </tbody>\n",
       "</table>\n",
       "</div>"
      ],
      "text/plain": [
       "         Lead Number    Converted  TotalVisits  Total Time Spent on Website  \\\n",
       "count    9029.000000  9029.000000  9029.000000                  9029.000000   \n",
       "mean   617223.248422     0.385092     3.087164                   483.133016   \n",
       "std     23372.383121     0.486644     2.801244                   547.420675   \n",
       "min    579533.000000     0.000000     0.000000                     0.000000   \n",
       "25%    596530.000000     0.000000     1.000000                     7.000000   \n",
       "50%    615645.000000     0.000000     3.000000                   245.000000   \n",
       "75%    637360.000000     1.000000     4.000000                   929.000000   \n",
       "90%    650463.200000     1.000000     7.000000                  1378.000000   \n",
       "95%    655351.600000     1.000000     8.000000                  1558.000000   \n",
       "99%    659577.800000     1.000000    13.000000                  1839.720000   \n",
       "max    660737.000000     1.000000    16.000000                  2272.000000   \n",
       "\n",
       "       Page Views Per Visit  \n",
       "count           9029.000000  \n",
       "mean               2.226383  \n",
       "std                1.823395  \n",
       "min                0.000000  \n",
       "25%                1.000000  \n",
       "50%                2.000000  \n",
       "75%                3.000000  \n",
       "90%                5.000000  \n",
       "95%                6.000000  \n",
       "99%                7.000000  \n",
       "max                8.000000  "
      ]
     },
     "execution_count": 39,
     "metadata": {},
     "output_type": "execute_result"
    }
   ],
   "source": [
    "# Checking outliers at 25%,50%,75%,90%,95% and above\n",
    "leadInfo.describe(percentiles=[.25,.5,.75,.90,.95,.99])"
   ]
  },
  {
   "cell_type": "code",
   "execution_count": 40,
   "metadata": {},
   "outputs": [
    {
     "name": "stdout",
     "output_type": "stream",
     "text": [
      "97.72\n"
     ]
    }
   ],
   "source": [
    "# Determine the percentage of data retained\n",
    "\n",
    "num_data = round(100*(len(leadInfo)/9240),2)\n",
    "print(num_data)"
   ]
  },
  {
   "cell_type": "markdown",
   "metadata": {},
   "source": [
    "At this point, the data has been cleaned and around 98% of data has been retained"
   ]
  },
  {
   "cell_type": "markdown",
   "metadata": {},
   "source": [
    "### Step 3: Data Analysis\n",
    "Let us try and understand the data now based on each columns effect on the conversion rates"
   ]
  },
  {
   "cell_type": "code",
   "execution_count": 41,
   "metadata": {},
   "outputs": [
    {
     "data": {
      "image/png": "[encoded data removed]",
      "text/plain": [
       "<Figure size 144x360 with 1 Axes>"
      ]
     },
     "metadata": {
      "needs_background": "light"
     },
     "output_type": "display_data"
    }
   ],
   "source": [
    "# Conversion Rate \n",
    "\n",
    "plot = sns.catplot(x=\"Converted\", kind=\"count\", data=leadInfo, palette=\"Set2\", aspect= 0.4);\n",
    "\n",
    "plt.title('Converted', fontsize = 14)\n",
    "plt.xlabel(\"Converted\", fontsize = 12)\n",
    "plt.ylabel(\"Count\", fontsize = 12)\n",
    "\n",
    "# Print the counts\n",
    "\n",
    "ax = plot.facet_axis(0,0)\n",
    "for p in ax.patches:        \n",
    "    ax.text(p.get_x() + p.get_width()/2., p.get_height(), p.get_height(), fontsize=12, color='blue', ha='center', va='bottom')\n",
    "    \n",
    "plt.show()"
   ]
  },
  {
   "cell_type": "markdown",
   "metadata": {},
   "source": [
    "From the above graph, there has been a overall conversion rate of around 39%"
   ]
  },
  {
   "cell_type": "code",
   "execution_count": 42,
   "metadata": {},
   "outputs": [
    {
     "data": {
      "image/png": "[encoded data removed]",
      "text/plain": [
       "<Figure size 671.75x360 with 1 Axes>"
      ]
     },
     "metadata": {
      "needs_background": "light"
     },
     "output_type": "display_data"
    }
   ],
   "source": [
    "# Lead Origin\n",
    "\n",
    "plot = sns.catplot(x=\"Lead Origin\", hue = \"Converted\", kind=\"count\", data=leadInfo, palette=\"Set2\", aspect= 1.7);\n",
    "\n",
    "plt.title('Lead Origin Vs Converted', fontsize = 14)\n",
    "plt.xlabel(\"Lead Origin\", fontsize = 12)\n",
    "plt.ylabel(\"Count\", fontsize = 12)\n",
    "\n",
    "# Print the counts\n",
    "\n",
    "ax = plot.facet_axis(0,0)\n",
    "for p in ax.patches:\n",
    "    \n",
    "    if np.isnan(p.get_height()):\n",
    "        height = 0\n",
    "    else:\n",
    "        height = p.get_height()\n",
    "    \n",
    "    height = int(height)\n",
    "    ax.text(p.get_x()+p.get_width()/2., height, height, fontsize=12, color='blue', ha='center', va='bottom')\n",
    "    \n",
    "plt.show()"
   ]
  },
  {
   "cell_type": "markdown",
   "metadata": {},
   "source": [
    "From the above graph, it can be seen that the maximum conversion happened from Landing Page Submission\n",
    "Also there was only one request from quick add form which got converted."
   ]
  },
  {
   "cell_type": "code",
   "execution_count": 43,
   "metadata": {},
   "outputs": [
    {
     "data": {
      "image/png": "[encoded data removed]",
      "text/plain": [
       "<Figure size 1319.75x360 with 1 Axes>"
      ]
     },
     "metadata": {
      "needs_background": "light"
     },
     "output_type": "display_data"
    }
   ],
   "source": [
    "# Lead Source\n",
    "\n",
    "plot = sns.catplot(x=\"Lead Source\", hue = \"Converted\", kind=\"count\", data=leadInfo, palette=\"Set2\", aspect = 3.5);\n",
    "\n",
    "plt.title('Lead Source Vs Converted', fontsize = 14)\n",
    "plt.xlabel(\"Lead Source\", fontsize = 12)\n",
    "plt.ylabel(\"Count\", fontsize = 12)\n",
    "plt.xticks(rotation=90)\n",
    "\n",
    "# Print the counts\n",
    "\n",
    "ax = plot.facet_axis(0,0)\n",
    "for p in ax.patches:\n",
    "    \n",
    "    if np.isnan(p.get_height()):\n",
    "        height = 0\n",
    "    else:\n",
    "        height = p.get_height()\n",
    "    \n",
    "    height = int(height)\n",
    "    ax.text(p.get_x()+p.get_width()/2., height, height, fontsize=12, color='blue', ha='center', va='bottom')\n",
    "   \n",
    "plt.show()"
   ]
  },
  {
   "cell_type": "markdown",
   "metadata": {},
   "source": [
    "From the above graph, it can be seen that major conversion in the lead source is from google"
   ]
  },
  {
   "cell_type": "code",
   "execution_count": 44,
   "metadata": {},
   "outputs": [
    {
     "data": {
      "image/png": "[encoded data removed]",
      "text/plain": [
       "<Figure size 275.75x360 with 1 Axes>"
      ]
     },
     "metadata": {
      "needs_background": "light"
     },
     "output_type": "display_data"
    }
   ],
   "source": [
    "# Do not Email\n",
    "\n",
    "plot = sns.catplot(x=\"Do Not Email\", hue = \"Converted\", kind=\"count\", data=leadInfo, palette=\"Set2\", aspect = 0.6);\n",
    "\n",
    "plt.title('Do Not Email Vs Converted', fontsize = 14)\n",
    "plt.xlabel(\"Do Not Email\", fontsize = 12)\n",
    "plt.ylabel(\"Count\", fontsize = 12)\n",
    "\n",
    "ax = plot.facet_axis(0,0)\n",
    "for p in ax.patches:        \n",
    "    ax.text(p.get_x() + p.get_width()/2., p.get_height(), p.get_height(), fontsize=12, color='blue', ha='center', va='bottom')\n",
    "\n",
    "plt.show()"
   ]
  },
  {
   "cell_type": "markdown",
   "metadata": {},
   "source": [
    "Based on the above graph, major conversion has happend from the emails that have been sent"
   ]
  },
  {
   "cell_type": "code",
   "execution_count": 45,
   "metadata": {},
   "outputs": [
    {
     "data": {
      "image/png": "[encoded data removed]",
      "text/plain": [
       "<Figure size 275.75x360 with 1 Axes>"
      ]
     },
     "metadata": {
      "needs_background": "light"
     },
     "output_type": "display_data"
    }
   ],
   "source": [
    "# Do not Call\n",
    "\n",
    "plot = sns.catplot(x=\"Do Not Call\", hue = \"Converted\", kind=\"count\", data=leadInfo, palette=\"Set2\", aspect = 0.6);\n",
    "\n",
    "plt.title('Do Not Call Vs Converted', fontsize = 14)\n",
    "plt.xlabel(\"Do Not Call\", fontsize = 12)\n",
    "plt.ylabel(\"Count\", fontsize = 12)\n",
    "\n",
    "# Print the counts\n",
    "\n",
    "ax = plot.facet_axis(0,0)\n",
    "for p in ax.patches:\n",
    "    \n",
    "    if np.isnan(p.get_height()):\n",
    "        height = 0\n",
    "    else:\n",
    "        height = p.get_height()\n",
    "    \n",
    "    height = int(height)\n",
    "    ax.text(p.get_x()+p.get_width()/2., height, height, fontsize=12, color='blue', ha='center', va='bottom')\n",
    "\n",
    "plt.show()"
   ]
  },
  {
   "cell_type": "markdown",
   "metadata": {},
   "source": [
    "From the above graph , it can be noticed that major conversions happened when calls were made.\n",
    "However, it can also be seen that 2 leads opted for \"Do Not Call\", but they still got converted."
   ]
  },
  {
   "cell_type": "code",
   "execution_count": 46,
   "metadata": {},
   "outputs": [
    {
     "data": {
      "image/png": "[encoded data removed]",
      "text/plain": [
       "<Figure size 1139.75x360 with 1 Axes>"
      ]
     },
     "metadata": {
      "needs_background": "light"
     },
     "output_type": "display_data"
    }
   ],
   "source": [
    "# Last Activity\n",
    "\n",
    "plot = sns.catplot(x=\"Last Activity\", hue = \"Converted\", kind=\"count\", data=leadInfo, palette=\"Set2\", aspect = 3.0);\n",
    "\n",
    "plt.title('Last Activity Vs Converted', fontsize = 14)\n",
    "plt.xlabel(\"Last Activity\", fontsize = 12)\n",
    "plt.ylabel(\"Count\", fontsize = 12)\n",
    "plt.xticks(rotation=90)\n",
    "\n",
    "# Print the counts\n",
    "\n",
    "ax = plot.facet_axis(0,0)\n",
    "for p in ax.patches:\n",
    "    \n",
    "    if np.isnan(p.get_height()):\n",
    "        height = 0\n",
    "    else:\n",
    "        height = p.get_height()\n",
    "    \n",
    "    height = int(height)\n",
    "    ax.text(p.get_x()+p.get_width()/2., height, height, fontsize=12, color='blue', ha='center', va='bottom')\n",
    "\n",
    "plt.show()"
   ]
  },
  {
   "cell_type": "markdown",
   "metadata": {},
   "source": [
    "As per the above graph, last activity value of 'SMS Sent' had more conversion"
   ]
  },
  {
   "cell_type": "code",
   "execution_count": 47,
   "metadata": {},
   "outputs": [
    {
     "data": {
      "image/png": "[encoded data removed]",
      "text/plain": [
       "<Figure size 779.75x360 with 1 Axes>"
      ]
     },
     "metadata": {
      "needs_background": "light"
     },
     "output_type": "display_data"
    }
   ],
   "source": [
    "# What is your current occupation\n",
    "\n",
    "plot = sns.catplot(x=\"What is your current occupation\", hue = \"Converted\", kind=\"count\", data=leadInfo, palette=\"Set2\", \n",
    "                   aspect = 2.0);\n",
    "\n",
    "plt.title('Current Occupation Vs Converted', fontsize = 14)\n",
    "plt.xlabel(\"Current Occupation\", fontsize = 12)\n",
    "plt.ylabel(\"Count\", fontsize = 12)\n",
    "\n",
    "# Print the counts\n",
    "\n",
    "ax = plot.facet_axis(0,0)\n",
    "for p in ax.patches:\n",
    "    \n",
    "    if np.isnan(p.get_height()):\n",
    "        height = 0\n",
    "    else:\n",
    "        height = p.get_height()\n",
    "    \n",
    "    height = int(height)\n",
    "    ax.text(p.get_x()+p.get_width()/2., height, height, fontsize=12, color='blue', ha='center', va='bottom')\n",
    "\n",
    "plt.show()"
   ]
  },
  {
   "cell_type": "markdown",
   "metadata": {},
   "source": [
    "More conversion happend with people who are unemployed. It can also be noticed from the above data that \n",
    "    - Out of 7 business men, 4 got converted\n",
    "    - Out 10 housewives, all 10 leads got converted."
   ]
  },
  {
   "cell_type": "code",
   "execution_count": 48,
   "metadata": {},
   "outputs": [
    {
     "data": {
      "image/png": "[encoded data removed]",
      "text/plain": [
       "<Figure size 311.75x360 with 1 Axes>"
      ]
     },
     "metadata": {
      "needs_background": "light"
     },
     "output_type": "display_data"
    }
   ],
   "source": [
    "# Search\n",
    "\n",
    "plot = sns.catplot(x=\"Search\", hue = \"Converted\", kind=\"count\", data=leadInfo, palette=\"Set2\", aspect = 0.7);\n",
    "\n",
    "plt.title('Search Vs Converted', fontsize = 14)\n",
    "plt.xlabel(\"Search\", fontsize = 12)\n",
    "plt.ylabel(\"Count\", fontsize = 12)\n",
    "\n",
    "ax = plot.facet_axis(0,0)\n",
    "for p in ax.patches:        \n",
    "    ax.text(p.get_x() + p.get_width()/2., p.get_height(), p.get_height(), fontsize=12, color='blue', ha='center', va='bottom')\n",
    "\n",
    "plt.show()"
   ]
  },
  {
   "cell_type": "markdown",
   "metadata": {},
   "source": [
    "Conversion rate is high on leads who are not through search"
   ]
  },
  {
   "cell_type": "code",
   "execution_count": 49,
   "metadata": {},
   "outputs": [
    {
     "data": {
      "image/png": "[encoded data removed]",
      "text/plain": [
       "<Figure size 239.75x360 with 1 Axes>"
      ]
     },
     "metadata": {
      "needs_background": "light"
     },
     "output_type": "display_data"
    }
   ],
   "source": [
    "# Newspaper Article\n",
    "\n",
    "plot = sns.catplot(x=\"Newspaper Article\", hue = \"Converted\", kind=\"count\", data=leadInfo, palette=\"Set2\", aspect = 0.5);\n",
    "\n",
    "plt.title('Newspaper Article Vs Converted', fontsize = 14)\n",
    "plt.xlabel(\"Newspaper Article\", fontsize = 12)\n",
    "plt.ylabel(\"Count\", fontsize = 12)\n",
    "\n",
    "ax = plot.facet_axis(0,0)\n",
    "for p in ax.patches:        \n",
    "    ax.text(p.get_x() + p.get_width()/2., p.get_height(), p.get_height(), fontsize=12, color='blue', ha='center', va='bottom')\n",
    "\n",
    "plt.show()"
   ]
  },
  {
   "cell_type": "markdown",
   "metadata": {},
   "source": [
    "Since \"Newspaper Article\" column now has only one value for all rows - \"No\" , it is safe to drop this column"
   ]
  },
  {
   "cell_type": "code",
   "execution_count": 50,
   "metadata": {},
   "outputs": [],
   "source": [
    "# Dropping Newspaper Article\n",
    "\n",
    "leadInfo = leadInfo.drop(['Newspaper Article'], axis=1)"
   ]
  },
  {
   "cell_type": "code",
   "execution_count": 51,
   "metadata": {},
   "outputs": [
    {
     "data": {
      "image/png": "[encoded data removed]",
      "text/plain": [
       "<Figure size 239.75x360 with 1 Axes>"
      ]
     },
     "metadata": {
      "needs_background": "light"
     },
     "output_type": "display_data"
    }
   ],
   "source": [
    "# X Education Forums\n",
    "\n",
    "plot = sns.catplot(x=\"X Education Forums\", hue = \"Converted\", kind=\"count\", data=leadInfo, palette=\"Set2\", aspect = 0.5);\n",
    "\n",
    "plt.title('X Education Forums Vs Converted', fontsize = 14)\n",
    "plt.xlabel(\"X Education Forums\", fontsize = 12)\n",
    "plt.ylabel(\"Count\", fontsize = 12)\n",
    "\n",
    "ax = plot.facet_axis(0,0)\n",
    "for p in ax.patches:        \n",
    "    ax.text(p.get_x() + p.get_width()/2., p.get_height(), p.get_height(), fontsize=12, color='blue', ha='center', va='bottom')\n",
    "\n",
    "plt.show()"
   ]
  },
  {
   "cell_type": "markdown",
   "metadata": {},
   "source": [
    "Since \"X Education Forums\" column now has only one value for all rows - \"No\" , it is safe to drop this column"
   ]
  },
  {
   "cell_type": "code",
   "execution_count": 52,
   "metadata": {},
   "outputs": [],
   "source": [
    "# Dropping X Education Forum column\n",
    "\n",
    "leadInfo = leadInfo.drop(['X Education Forums'], axis=1)"
   ]
  },
  {
   "cell_type": "code",
   "execution_count": 53,
   "metadata": {},
   "outputs": [
    {
     "data": {
      "image/png": "[encoded data removed]",
      "text/plain": [
       "<Figure size 311.75x360 with 1 Axes>"
      ]
     },
     "metadata": {
      "needs_background": "light"
     },
     "output_type": "display_data"
    }
   ],
   "source": [
    "plot = sns.catplot(x=\"Newspaper\", hue = \"Converted\", kind=\"count\", data=leadInfo, palette=\"Set2\", aspect = 0.7);\n",
    "\n",
    "plt.title('Newspaper Vs Converted', fontsize = 14)\n",
    "plt.xlabel(\"Newspaper\", fontsize = 12)\n",
    "plt.ylabel(\"Count\", fontsize = 12)\n",
    "\n",
    "# Print the counts\n",
    "\n",
    "ax = plot.facet_axis(0,0)\n",
    "for p in ax.patches:\n",
    "    \n",
    "    if np.isnan(p.get_height()):\n",
    "        height = 0\n",
    "    else:\n",
    "        height = p.get_height()\n",
    "    \n",
    "    height = int(height)\n",
    "    ax.text(p.get_x()+p.get_width()/2., height, height, fontsize=12, color='blue', ha='center', va='bottom')\n",
    "\n",
    "plt.show()"
   ]
  },
  {
   "cell_type": "markdown",
   "metadata": {},
   "source": [
    "Since Newspaper column has only one row with \"Yes\" as the value and further since this lead did not get converted and rest of all the values are \"No\", we can safely drop the column"
   ]
  },
  {
   "cell_type": "code",
   "execution_count": 54,
   "metadata": {},
   "outputs": [],
   "source": [
    "# Dropping Newspaper column\n",
    "\n",
    "leadInfo = leadInfo.drop(['Newspaper'], axis=1)"
   ]
  },
  {
   "cell_type": "code",
   "execution_count": 55,
   "metadata": {},
   "outputs": [
    {
     "data": {
      "image/png": "[encoded data removed]",
      "text/plain": [
       "<Figure size 311.75x360 with 1 Axes>"
      ]
     },
     "metadata": {
      "needs_background": "light"
     },
     "output_type": "display_data"
    }
   ],
   "source": [
    "# Digital Advertisement\n",
    "\n",
    "plot = sns.catplot(x=\"Digital Advertisement\", hue = \"Converted\", kind=\"count\", data=leadInfo, palette=\"Set2\", aspect = 0.7);\n",
    "\n",
    "plt.title('Digital Advertisement Vs Converted', fontsize = 14)\n",
    "plt.xlabel(\"Digital Advertisement\", fontsize = 12)\n",
    "plt.ylabel(\"Count\", fontsize = 12)\n",
    "\n",
    "ax = plot.facet_axis(0,0)\n",
    "for p in ax.patches:        \n",
    "    ax.text(p.get_x() + p.get_width()/2., p.get_height(), p.get_height(), fontsize=12, color='blue', ha='center', va='bottom')\n",
    "\n",
    "plt.show()"
   ]
  },
  {
   "cell_type": "markdown",
   "metadata": {},
   "source": [
    "It can be noticed above that there were 2 leads that came from digital advertisement of which one lead got converted"
   ]
  },
  {
   "cell_type": "code",
   "execution_count": 56,
   "metadata": {},
   "outputs": [
    {
     "data": {
      "image/png": "[encoded data removed]",
      "text/plain": [
       "<Figure size 311.75x360 with 1 Axes>"
      ]
     },
     "metadata": {
      "needs_background": "light"
     },
     "output_type": "display_data"
    }
   ],
   "source": [
    "# Through Recommendations\n",
    "\n",
    "plot = sns.catplot(x=\"Through Recommendations\", hue = \"Converted\", kind=\"count\", data=leadInfo, palette=\"Set2\", aspect = 0.7);\n",
    "\n",
    "plt.title('Through Recommendations Vs Converted', fontsize = 14)\n",
    "plt.xlabel(\"Through Recommendations\", fontsize = 12)\n",
    "plt.ylabel(\"Count\", fontsize = 12)\n",
    "\n",
    "ax = plot.facet_axis(0,0)\n",
    "for p in ax.patches:        \n",
    "    ax.text(p.get_x() + p.get_width()/2., p.get_height(), p.get_height(), fontsize=12, color='blue', ha='center', va='bottom')\n",
    "\n",
    "plt.show()"
   ]
  },
  {
   "cell_type": "markdown",
   "metadata": {},
   "source": [
    "It can be seen that a total of 6 leads came through recommendations of which 5 leads got converted"
   ]
  },
  {
   "cell_type": "code",
   "execution_count": 57,
   "metadata": {},
   "outputs": [
    {
     "data": {
      "image/png": "[encoded data removed]",
      "text/plain": [
       "<Figure size 311.75x360 with 1 Axes>"
      ]
     },
     "metadata": {
      "needs_background": "light"
     },
     "output_type": "display_data"
    }
   ],
   "source": [
    "# A free copy of Mastering The Interview\n",
    "\n",
    "plot = sns.catplot(x=\"A free copy of Mastering The Interview\", hue = \"Converted\", kind=\"count\", data=leadInfo, palette=\"Set2\",\n",
    "                   aspect = 0.7);\n",
    "\n",
    "plt.title('Mastering Interview Copy Vs Converted', fontsize = 14)\n",
    "plt.xlabel(\"Mastering Interview Copy\", fontsize = 12)\n",
    "plt.ylabel(\"Count\", fontsize = 12)\n",
    "\n",
    "ax = plot.facet_axis(0,0)\n",
    "for p in ax.patches:        \n",
    "    ax.text(p.get_x() + p.get_width()/2., p.get_height(), p.get_height(), fontsize=12, color='blue', ha='center', va='bottom')\n",
    "\n",
    "plt.show()"
   ]
  },
  {
   "cell_type": "markdown",
   "metadata": {},
   "source": [
    "Conversion rate is high on leads who do not want a free copy of Mastering Interviews"
   ]
  },
  {
   "cell_type": "code",
   "execution_count": 58,
   "metadata": {},
   "outputs": [
    {
     "data": {
      "image/png": "[encoded data removed]",
      "text/plain": [
       "<Figure size 1139.75x360 with 1 Axes>"
      ]
     },
     "metadata": {
      "needs_background": "light"
     },
     "output_type": "display_data"
    }
   ],
   "source": [
    "# Last Notable Activity\n",
    "\n",
    "plot = sns.catplot(x=\"Last Notable Activity\", hue = \"Converted\", kind=\"count\", data=leadInfo, palette=\"Set2\", aspect = 3.0);\n",
    "\n",
    "plt.title('Last Notable Activity Vs Converted', fontsize = 14)\n",
    "plt.xlabel(\"Last Notable Activity\", fontsize = 12)\n",
    "plt.ylabel(\"Count\", fontsize = 12)\n",
    "plt.xticks(rotation=90)\n",
    "\n",
    "# Print the counts\n",
    "\n",
    "ax = plot.facet_axis(0,0)\n",
    "for p in ax.patches:\n",
    "    \n",
    "    if np.isnan(p.get_height()):\n",
    "        height = 0\n",
    "    else:\n",
    "        height = p.get_height()\n",
    "    \n",
    "    height = int(height)\n",
    "    ax.text(p.get_x()+p.get_width()/2., height, height, fontsize=12, color='blue', ha='center', va='bottom')\n",
    "\n",
    "plt.show()"
   ]
  },
  {
   "cell_type": "markdown",
   "metadata": {},
   "source": [
    "It can be noticed that the conversion rate is high for \"SMS Sent\""
   ]
  },
  {
   "cell_type": "code",
   "execution_count": 59,
   "metadata": {},
   "outputs": [
    {
     "data": {
      "image/png": "[encoded data removed]",
      "text/plain": [
       "<Figure size 1440x1440 with 3 Axes>"
      ]
     },
     "metadata": {
      "needs_background": "light"
     },
     "output_type": "display_data"
    }
   ],
   "source": [
    "# Now check the conversions for all numeric values\n",
    "\n",
    "plt.figure(figsize=(20,20))\n",
    "plt.subplot(4,3,1)\n",
    "sns.barplot(y = 'TotalVisits', x='Converted', palette='Set2', data = leadInfo)\n",
    "plt.subplot(4,3,2)\n",
    "sns.barplot(y = 'Total Time Spent on Website', x='Converted', palette='Set2', data = leadInfo)\n",
    "plt.subplot(4,3,3)\n",
    "sns.barplot(y = 'Page Views Per Visit', x='Converted', palette='Set2', data = leadInfo)\n",
    "plt.show()"
   ]
  },
  {
   "cell_type": "markdown",
   "metadata": {},
   "source": [
    "The conversion rated were high for Total Visits, Total Time Spent on Website and Page Views Per Visit"
   ]
  },
  {
   "cell_type": "markdown",
   "metadata": {},
   "source": [
    "## Step 4: Data Preparation - Creating Dummies"
   ]
  },
  {
   "cell_type": "markdown",
   "metadata": {},
   "source": [
    "Converting some binary variables (Yes/No) to 0/1"
   ]
  },
  {
   "cell_type": "code",
   "execution_count": 60,
   "metadata": {},
   "outputs": [],
   "source": [
    "variablelist =  variablelist =  ['Do Not Email', 'Do Not Call', 'Search', 'Digital Advertisement', 'Through Recommendations', \n",
    "                                 'A free copy of Mastering The Interview']\n",
    "\n",
    "# Defining the map function\n",
    "def binary_map(x):\n",
    "    return x.map({'Yes': 1, \"No\": 0})\n",
    "\n",
    "# Applying the function to the columns\n",
    "leadInfo[variablelist] = leadInfo[variablelist].apply(binary_map)"
   ]
  },
  {
   "cell_type": "code",
   "execution_count": 61,
   "metadata": {},
   "outputs": [
    {
     "data": {
      "text/html": [
       "<div>\n",
       "<style scoped>\n",
       "    .dataframe tbody tr th:only-of-type {\n",
       "        vertical-align: middle;\n",
       "    }\n",
       "\n",
       "    .dataframe tbody tr th {\n",
       "        vertical-align: top;\n",
       "    }\n",
       "\n",
       "    .dataframe thead th {\n",
       "        text-align: right;\n",
       "    }\n",
       "</style>\n",
       "<table border=\"1\" class=\"dataframe\">\n",
       "  <thead>\n",
       "    <tr style=\"text-align: right;\">\n",
       "      <th></th>\n",
       "      <th>Prospect ID</th>\n",
       "      <th>Lead Number</th>\n",
       "      <th>Lead Origin</th>\n",
       "      <th>Lead Source</th>\n",
       "      <th>Do Not Email</th>\n",
       "      <th>Do Not Call</th>\n",
       "      <th>Converted</th>\n",
       "      <th>TotalVisits</th>\n",
       "      <th>Total Time Spent on Website</th>\n",
       "      <th>Page Views Per Visit</th>\n",
       "      <th>...</th>\n",
       "      <th>LastNotableActivity_Email Received</th>\n",
       "      <th>LastNotableActivity_Form Submitted on Website</th>\n",
       "      <th>LastNotableActivity_Had a Phone Conversation</th>\n",
       "      <th>LastNotableActivity_Modified</th>\n",
       "      <th>LastNotableActivity_Olark Chat Conversation</th>\n",
       "      <th>LastNotableActivity_Page Visited on Website</th>\n",
       "      <th>LastNotableActivity_SMS Sent</th>\n",
       "      <th>LastNotableActivity_Unreachable</th>\n",
       "      <th>LastNotableActivity_Unsubscribed</th>\n",
       "      <th>LastNotableActivity_View in browser link Clicked</th>\n",
       "    </tr>\n",
       "  </thead>\n",
       "  <tbody>\n",
       "    <tr>\n",
       "      <th>0</th>\n",
       "      <td>7927b2df-8bba-4d29-b9a2-b6e0beafe620</td>\n",
       "      <td>660737</td>\n",
       "      <td>API</td>\n",
       "      <td>Olark Chat</td>\n",
       "      <td>0</td>\n",
       "      <td>0</td>\n",
       "      <td>0</td>\n",
       "      <td>0.0</td>\n",
       "      <td>0</td>\n",
       "      <td>0.0</td>\n",
       "      <td>...</td>\n",
       "      <td>0</td>\n",
       "      <td>0</td>\n",
       "      <td>0</td>\n",
       "      <td>1</td>\n",
       "      <td>0</td>\n",
       "      <td>0</td>\n",
       "      <td>0</td>\n",
       "      <td>0</td>\n",
       "      <td>0</td>\n",
       "      <td>0</td>\n",
       "    </tr>\n",
       "    <tr>\n",
       "      <th>1</th>\n",
       "      <td>2a272436-5132-4136-86fa-dcc88c88f482</td>\n",
       "      <td>660728</td>\n",
       "      <td>API</td>\n",
       "      <td>Organic Search</td>\n",
       "      <td>0</td>\n",
       "      <td>0</td>\n",
       "      <td>0</td>\n",
       "      <td>5.0</td>\n",
       "      <td>674</td>\n",
       "      <td>2.5</td>\n",
       "      <td>...</td>\n",
       "      <td>0</td>\n",
       "      <td>0</td>\n",
       "      <td>0</td>\n",
       "      <td>0</td>\n",
       "      <td>0</td>\n",
       "      <td>0</td>\n",
       "      <td>0</td>\n",
       "      <td>0</td>\n",
       "      <td>0</td>\n",
       "      <td>0</td>\n",
       "    </tr>\n",
       "    <tr>\n",
       "      <th>2</th>\n",
       "      <td>8cc8c611-a219-4f35-ad23-fdfd2656bd8a</td>\n",
       "      <td>660727</td>\n",
       "      <td>Landing Page Submission</td>\n",
       "      <td>Direct Traffic</td>\n",
       "      <td>0</td>\n",
       "      <td>0</td>\n",
       "      <td>1</td>\n",
       "      <td>2.0</td>\n",
       "      <td>1532</td>\n",
       "      <td>2.0</td>\n",
       "      <td>...</td>\n",
       "      <td>0</td>\n",
       "      <td>0</td>\n",
       "      <td>0</td>\n",
       "      <td>0</td>\n",
       "      <td>0</td>\n",
       "      <td>0</td>\n",
       "      <td>0</td>\n",
       "      <td>0</td>\n",
       "      <td>0</td>\n",
       "      <td>0</td>\n",
       "    </tr>\n",
       "    <tr>\n",
       "      <th>3</th>\n",
       "      <td>0cc2df48-7cf4-4e39-9de9-19797f9b38cc</td>\n",
       "      <td>660719</td>\n",
       "      <td>Landing Page Submission</td>\n",
       "      <td>Direct Traffic</td>\n",
       "      <td>0</td>\n",
       "      <td>0</td>\n",
       "      <td>0</td>\n",
       "      <td>1.0</td>\n",
       "      <td>305</td>\n",
       "      <td>1.0</td>\n",
       "      <td>...</td>\n",
       "      <td>0</td>\n",
       "      <td>0</td>\n",
       "      <td>0</td>\n",
       "      <td>1</td>\n",
       "      <td>0</td>\n",
       "      <td>0</td>\n",
       "      <td>0</td>\n",
       "      <td>0</td>\n",
       "      <td>0</td>\n",
       "      <td>0</td>\n",
       "    </tr>\n",
       "    <tr>\n",
       "      <th>4</th>\n",
       "      <td>3256f628-e534-4826-9d63-4a8b88782852</td>\n",
       "      <td>660681</td>\n",
       "      <td>Landing Page Submission</td>\n",
       "      <td>Google</td>\n",
       "      <td>0</td>\n",
       "      <td>0</td>\n",
       "      <td>1</td>\n",
       "      <td>2.0</td>\n",
       "      <td>1428</td>\n",
       "      <td>1.0</td>\n",
       "      <td>...</td>\n",
       "      <td>0</td>\n",
       "      <td>0</td>\n",
       "      <td>0</td>\n",
       "      <td>1</td>\n",
       "      <td>0</td>\n",
       "      <td>0</td>\n",
       "      <td>0</td>\n",
       "      <td>0</td>\n",
       "      <td>0</td>\n",
       "      <td>0</td>\n",
       "    </tr>\n",
       "  </tbody>\n",
       "</table>\n",
       "<p>5 rows × 78 columns</p>\n",
       "</div>"
      ],
      "text/plain": [
       "                            Prospect ID  Lead Number              Lead Origin  \\\n",
       "0  7927b2df-8bba-4d29-b9a2-b6e0beafe620       660737                      API   \n",
       "1  2a272436-5132-4136-86fa-dcc88c88f482       660728                      API   \n",
       "2  8cc8c611-a219-4f35-ad23-fdfd2656bd8a       660727  Landing Page Submission   \n",
       "3  0cc2df48-7cf4-4e39-9de9-19797f9b38cc       660719  Landing Page Submission   \n",
       "4  3256f628-e534-4826-9d63-4a8b88782852       660681  Landing Page Submission   \n",
       "\n",
       "      Lead Source  Do Not Email  Do Not Call  Converted  TotalVisits  \\\n",
       "0      Olark Chat             0            0          0          0.0   \n",
       "1  Organic Search             0            0          0          5.0   \n",
       "2  Direct Traffic             0            0          1          2.0   \n",
       "3  Direct Traffic             0            0          0          1.0   \n",
       "4          Google             0            0          1          2.0   \n",
       "\n",
       "   Total Time Spent on Website  Page Views Per Visit  ...  \\\n",
       "0                            0                   0.0  ...   \n",
       "1                          674                   2.5  ...   \n",
       "2                         1532                   2.0  ...   \n",
       "3                          305                   1.0  ...   \n",
       "4                         1428                   1.0  ...   \n",
       "\n",
       "  LastNotableActivity_Email Received  \\\n",
       "0                                  0   \n",
       "1                                  0   \n",
       "2                                  0   \n",
       "3                                  0   \n",
       "4                                  0   \n",
       "\n",
       "  LastNotableActivity_Form Submitted on Website  \\\n",
       "0                                             0   \n",
       "1                                             0   \n",
       "2                                             0   \n",
       "3                                             0   \n",
       "4                                             0   \n",
       "\n",
       "   LastNotableActivity_Had a Phone Conversation  LastNotableActivity_Modified  \\\n",
       "0                                             0                             1   \n",
       "1                                             0                             0   \n",
       "2                                             0                             0   \n",
       "3                                             0                             1   \n",
       "4                                             0                             1   \n",
       "\n",
       "   LastNotableActivity_Olark Chat Conversation  \\\n",
       "0                                            0   \n",
       "1                                            0   \n",
       "2                                            0   \n",
       "3                                            0   \n",
       "4                                            0   \n",
       "\n",
       "   LastNotableActivity_Page Visited on Website LastNotableActivity_SMS Sent  \\\n",
       "0                                            0                            0   \n",
       "1                                            0                            0   \n",
       "2                                            0                            0   \n",
       "3                                            0                            0   \n",
       "4                                            0                            0   \n",
       "\n",
       "   LastNotableActivity_Unreachable  LastNotableActivity_Unsubscribed  \\\n",
       "0                                0                                 0   \n",
       "1                                0                                 0   \n",
       "2                                0                                 0   \n",
       "3                                0                                 0   \n",
       "4                                0                                 0   \n",
       "\n",
       "   LastNotableActivity_View in browser link Clicked  \n",
       "0                                                 0  \n",
       "1                                                 0  \n",
       "2                                                 0  \n",
       "3                                                 0  \n",
       "4                                                 0  \n",
       "\n",
       "[5 rows x 78 columns]"
      ]
     },
     "execution_count": 61,
     "metadata": {},
     "output_type": "execute_result"
    }
   ],
   "source": [
    "# Creating dummies for the following columns below\n",
    "\n",
    "# Lead Origin : \n",
    "\n",
    "d_lead_origin = pd.get_dummies(leadInfo['Lead Origin'], prefix='LeadOrigin')\n",
    "# Dropping quick Add Form column\n",
    "d_lead_origin1 = d_lead_origin.drop(['LeadOrigin_Quick Add Form'], 1)\n",
    "#Adding the results to the master dataframe\n",
    "leadInfo = pd.concat([leadInfo, d_lead_origin1], axis = 1)\n",
    "\n",
    "# Lead Source :\n",
    "\n",
    "d_lead_source = pd.get_dummies(leadInfo['Lead Source'], prefix='LeadSource')\n",
    "# Dropping blog column\n",
    "d_lead_source1 = d_lead_source.drop(['LeadSource_NC_EDM'], 1)\n",
    "# Adding the results to the master dataframe\n",
    "leadInfo = pd.concat([leadInfo,d_lead_source1], axis=1)\n",
    "\n",
    "# last Activity\n",
    "\n",
    "d_last_activity = pd.get_dummies(leadInfo['Last Activity'], prefix='LastActivity')\n",
    "# Dropping Resubscribed to emails column\n",
    "d_last_activity1 = d_last_activity.drop(['LastActivity_Resubscribed to emails'], 1)\n",
    "# Adding the results to the master dataframe\n",
    "leadInfo = pd.concat([leadInfo,d_last_activity1], axis=1)\n",
    "\n",
    "# What is your current occupation\n",
    "\n",
    "d_curr_occupation = pd.get_dummies(leadInfo['What is your current occupation'], prefix='CurrentOccupation')\n",
    "# Dropping No Information column\n",
    "d_curr_occupation1 = d_curr_occupation.drop(['CurrentOccupation_Businessman'], 1)\n",
    "# Adding the results to the master dataframe\n",
    "leadInfo = pd.concat([leadInfo,d_curr_occupation1], axis=1)\n",
    "\n",
    "# Last Notable Activity\n",
    "\n",
    "d_last_notable_activity = pd.get_dummies(leadInfo['Last Notable Activity'], prefix='LastNotableActivity')\n",
    "# Dropping Resubscribed to emails column\n",
    "d_last_notable_activity1 = d_last_notable_activity.drop(['LastNotableActivity_Resubscribed to emails'], 1)\n",
    "# Adding the results to the master dataframe\n",
    "leadInfo = pd.concat([leadInfo,d_last_notable_activity1], axis=1)\n",
    "\n",
    "leadInfo.head()"
   ]
  },
  {
   "cell_type": "code",
   "execution_count": 62,
   "metadata": {},
   "outputs": [],
   "source": [
    "# Remove following columns from the leadInfo\n",
    "\n",
    "# a) Prospect ID\n",
    "# b) Lead Numbers\n",
    "# c) Lead Origin\n",
    "# d) Lead Source\n",
    "# e) Last Activity\n",
    "# f) What is your current occupation\n",
    "# g) Last Notable Activity\n",
    "\n",
    "leadInfo = leadInfo.drop(['Prospect ID', 'Lead Number', 'Lead Origin', 'Lead Source', 'Last Activity',\n",
    "                          'What is your current occupation', 'Last Notable Activity'], axis=1)\n"
   ]
  },
  {
   "cell_type": "code",
   "execution_count": 63,
   "metadata": {
    "scrolled": true
   },
   "outputs": [
    {
     "name": "stdout",
     "output_type": "stream",
     "text": [
      "<class 'pandas.core.frame.DataFrame'>\n",
      "Int64Index: 9029 entries, 0 to 9239\n",
      "Data columns (total 71 columns):\n",
      " #   Column                                            Non-Null Count  Dtype  \n",
      "---  ------                                            --------------  -----  \n",
      " 0   Do Not Email                                      9029 non-null   int64  \n",
      " 1   Do Not Call                                       9029 non-null   int64  \n",
      " 2   Converted                                         9029 non-null   int64  \n",
      " 3   TotalVisits                                       9029 non-null   float64\n",
      " 4   Total Time Spent on Website                       9029 non-null   int64  \n",
      " 5   Page Views Per Visit                              9029 non-null   float64\n",
      " 6   Search                                            9029 non-null   int64  \n",
      " 7   Digital Advertisement                             9029 non-null   int64  \n",
      " 8   Through Recommendations                           9029 non-null   int64  \n",
      " 9   A free copy of Mastering The Interview            9029 non-null   int64  \n",
      " 10  LeadOrigin_API                                    9029 non-null   uint8  \n",
      " 11  LeadOrigin_Landing Page Submission                9029 non-null   uint8  \n",
      " 12  LeadOrigin_Lead Add Form                          9029 non-null   uint8  \n",
      " 13  LeadOrigin_Lead Import                            9029 non-null   uint8  \n",
      " 14  LeadSource_Click2call                             9029 non-null   uint8  \n",
      " 15  LeadSource_Direct Traffic                         9029 non-null   uint8  \n",
      " 16  LeadSource_Facebook                               9029 non-null   uint8  \n",
      " 17  LeadSource_Google                                 9029 non-null   uint8  \n",
      " 18  LeadSource_Live Chat                              9029 non-null   uint8  \n",
      " 19  LeadSource_Olark Chat                             9029 non-null   uint8  \n",
      " 20  LeadSource_Organic Search                         9029 non-null   uint8  \n",
      " 21  LeadSource_Pay per Click Ads                      9029 non-null   uint8  \n",
      " 22  LeadSource_Press_Release                          9029 non-null   uint8  \n",
      " 23  LeadSource_Reference                              9029 non-null   uint8  \n",
      " 24  LeadSource_Referral Sites                         9029 non-null   uint8  \n",
      " 25  LeadSource_Social Media                           9029 non-null   uint8  \n",
      " 26  LeadSource_WeLearn                                9029 non-null   uint8  \n",
      " 27  LeadSource_Welingak Website                       9029 non-null   uint8  \n",
      " 28  LeadSource_bing                                   9029 non-null   uint8  \n",
      " 29  LeadSource_blog                                   9029 non-null   uint8  \n",
      " 30  LeadSource_testone                                9029 non-null   uint8  \n",
      " 31  LeadSource_welearnblog_Home                       9029 non-null   uint8  \n",
      " 32  LeadSource_youtubechannel                         9029 non-null   uint8  \n",
      " 33  LastActivity_Approached upfront                   9029 non-null   uint8  \n",
      " 34  LastActivity_Converted to Lead                    9029 non-null   uint8  \n",
      " 35  LastActivity_Email Bounced                        9029 non-null   uint8  \n",
      " 36  LastActivity_Email Link Clicked                   9029 non-null   uint8  \n",
      " 37  LastActivity_Email Marked Spam                    9029 non-null   uint8  \n",
      " 38  LastActivity_Email Opened                         9029 non-null   uint8  \n",
      " 39  LastActivity_Email Received                       9029 non-null   uint8  \n",
      " 40  LastActivity_Form Submitted on Website            9029 non-null   uint8  \n",
      " 41  LastActivity_Had a Phone Conversation             9029 non-null   uint8  \n",
      " 42  LastActivity_Not Sure                             9029 non-null   uint8  \n",
      " 43  LastActivity_Olark Chat Conversation              9029 non-null   uint8  \n",
      " 44  LastActivity_Page Visited on Website              9029 non-null   uint8  \n",
      " 45  LastActivity_SMS Sent                             9029 non-null   uint8  \n",
      " 46  LastActivity_Unreachable                          9029 non-null   uint8  \n",
      " 47  LastActivity_Unsubscribed                         9029 non-null   uint8  \n",
      " 48  LastActivity_View in browser link Clicked         9029 non-null   uint8  \n",
      " 49  LastActivity_Visited Booth in Tradeshow           9029 non-null   uint8  \n",
      " 50  CurrentOccupation_Housewife                       9029 non-null   uint8  \n",
      " 51  CurrentOccupation_No Information                  9029 non-null   uint8  \n",
      " 52  CurrentOccupation_Other                           9029 non-null   uint8  \n",
      " 53  CurrentOccupation_Student                         9029 non-null   uint8  \n",
      " 54  CurrentOccupation_Unemployed                      9029 non-null   uint8  \n",
      " 55  CurrentOccupation_Working Professional            9029 non-null   uint8  \n",
      " 56  LastNotableActivity_Approached upfront            9029 non-null   uint8  \n",
      " 57  LastNotableActivity_Email Bounced                 9029 non-null   uint8  \n",
      " 58  LastNotableActivity_Email Link Clicked            9029 non-null   uint8  \n",
      " 59  LastNotableActivity_Email Marked Spam             9029 non-null   uint8  \n",
      " 60  LastNotableActivity_Email Opened                  9029 non-null   uint8  \n",
      " 61  LastNotableActivity_Email Received                9029 non-null   uint8  \n",
      " 62  LastNotableActivity_Form Submitted on Website     9029 non-null   uint8  \n",
      " 63  LastNotableActivity_Had a Phone Conversation      9029 non-null   uint8  \n",
      " 64  LastNotableActivity_Modified                      9029 non-null   uint8  \n",
      " 65  LastNotableActivity_Olark Chat Conversation       9029 non-null   uint8  \n",
      " 66  LastNotableActivity_Page Visited on Website       9029 non-null   uint8  \n",
      " 67  LastNotableActivity_SMS Sent                      9029 non-null   uint8  \n",
      " 68  LastNotableActivity_Unreachable                   9029 non-null   uint8  \n",
      " 69  LastNotableActivity_Unsubscribed                  9029 non-null   uint8  \n",
      " 70  LastNotableActivity_View in browser link Clicked  9029 non-null   uint8  \n",
      "dtypes: float64(2), int64(8), uint8(61)\n",
      "memory usage: 1.6 MB\n"
     ]
    }
   ],
   "source": [
    "leadInfo.info()"
   ]
  },
  {
   "cell_type": "code",
   "execution_count": 64,
   "metadata": {
    "scrolled": true
   },
   "outputs": [
    {
     "name": "stdout",
     "output_type": "stream",
     "text": [
      "Do Not Email                                        0.0\n",
      "Do Not Call                                         0.0\n",
      "Converted                                           0.0\n",
      "TotalVisits                                         0.0\n",
      "Total Time Spent on Website                         0.0\n",
      "                                                   ... \n",
      "LastNotableActivity_Page Visited on Website         0.0\n",
      "LastNotableActivity_SMS Sent                        0.0\n",
      "LastNotableActivity_Unreachable                     0.0\n",
      "LastNotableActivity_Unsubscribed                    0.0\n",
      "LastNotableActivity_View in browser link Clicked    0.0\n",
      "Length: 71, dtype: float64\n"
     ]
    }
   ],
   "source": [
    "# check for percentage of null values in each column\n",
    "\n",
    "percent_missing = round(100*(leadInfo.isnull().sum()/len(leadInfo.index)), 2)\n",
    "print(percent_missing)"
   ]
  },
  {
   "cell_type": "code",
   "execution_count": 65,
   "metadata": {},
   "outputs": [
    {
     "data": {
      "text/plain": [
       "(9029, 71)"
      ]
     },
     "execution_count": 65,
     "metadata": {},
     "output_type": "execute_result"
    }
   ],
   "source": [
    "# check shape of the data frame\n",
    "\n",
    "leadInfo.shape"
   ]
  },
  {
   "cell_type": "markdown",
   "metadata": {},
   "source": [
    "Since there are around 71 columns, we will not be looking at the correlation using heat map as we will not be able to infer anything from the heat map due to huge data"
   ]
  },
  {
   "cell_type": "markdown",
   "metadata": {},
   "source": [
    "### Step 5: Test-Train Split"
   ]
  },
  {
   "cell_type": "code",
   "execution_count": 66,
   "metadata": {},
   "outputs": [],
   "source": [
    "from sklearn.model_selection import train_test_split"
   ]
  },
  {
   "cell_type": "code",
   "execution_count": 67,
   "metadata": {},
   "outputs": [
    {
     "data": {
      "text/html": [
       "<div>\n",
       "<style scoped>\n",
       "    .dataframe tbody tr th:only-of-type {\n",
       "        vertical-align: middle;\n",
       "    }\n",
       "\n",
       "    .dataframe tbody tr th {\n",
       "        vertical-align: top;\n",
       "    }\n",
       "\n",
       "    .dataframe thead th {\n",
       "        text-align: right;\n",
       "    }\n",
       "</style>\n",
       "<table border=\"1\" class=\"dataframe\">\n",
       "  <thead>\n",
       "    <tr style=\"text-align: right;\">\n",
       "      <th></th>\n",
       "      <th>Do Not Email</th>\n",
       "      <th>Do Not Call</th>\n",
       "      <th>TotalVisits</th>\n",
       "      <th>Total Time Spent on Website</th>\n",
       "      <th>Page Views Per Visit</th>\n",
       "      <th>Search</th>\n",
       "      <th>Digital Advertisement</th>\n",
       "      <th>Through Recommendations</th>\n",
       "      <th>A free copy of Mastering The Interview</th>\n",
       "      <th>LeadOrigin_API</th>\n",
       "      <th>...</th>\n",
       "      <th>LastNotableActivity_Email Received</th>\n",
       "      <th>LastNotableActivity_Form Submitted on Website</th>\n",
       "      <th>LastNotableActivity_Had a Phone Conversation</th>\n",
       "      <th>LastNotableActivity_Modified</th>\n",
       "      <th>LastNotableActivity_Olark Chat Conversation</th>\n",
       "      <th>LastNotableActivity_Page Visited on Website</th>\n",
       "      <th>LastNotableActivity_SMS Sent</th>\n",
       "      <th>LastNotableActivity_Unreachable</th>\n",
       "      <th>LastNotableActivity_Unsubscribed</th>\n",
       "      <th>LastNotableActivity_View in browser link Clicked</th>\n",
       "    </tr>\n",
       "  </thead>\n",
       "  <tbody>\n",
       "    <tr>\n",
       "      <th>0</th>\n",
       "      <td>0</td>\n",
       "      <td>0</td>\n",
       "      <td>0.0</td>\n",
       "      <td>0</td>\n",
       "      <td>0.0</td>\n",
       "      <td>0</td>\n",
       "      <td>0</td>\n",
       "      <td>0</td>\n",
       "      <td>0</td>\n",
       "      <td>1</td>\n",
       "      <td>...</td>\n",
       "      <td>0</td>\n",
       "      <td>0</td>\n",
       "      <td>0</td>\n",
       "      <td>1</td>\n",
       "      <td>0</td>\n",
       "      <td>0</td>\n",
       "      <td>0</td>\n",
       "      <td>0</td>\n",
       "      <td>0</td>\n",
       "      <td>0</td>\n",
       "    </tr>\n",
       "    <tr>\n",
       "      <th>1</th>\n",
       "      <td>0</td>\n",
       "      <td>0</td>\n",
       "      <td>5.0</td>\n",
       "      <td>674</td>\n",
       "      <td>2.5</td>\n",
       "      <td>0</td>\n",
       "      <td>0</td>\n",
       "      <td>0</td>\n",
       "      <td>0</td>\n",
       "      <td>1</td>\n",
       "      <td>...</td>\n",
       "      <td>0</td>\n",
       "      <td>0</td>\n",
       "      <td>0</td>\n",
       "      <td>0</td>\n",
       "      <td>0</td>\n",
       "      <td>0</td>\n",
       "      <td>0</td>\n",
       "      <td>0</td>\n",
       "      <td>0</td>\n",
       "      <td>0</td>\n",
       "    </tr>\n",
       "    <tr>\n",
       "      <th>2</th>\n",
       "      <td>0</td>\n",
       "      <td>0</td>\n",
       "      <td>2.0</td>\n",
       "      <td>1532</td>\n",
       "      <td>2.0</td>\n",
       "      <td>0</td>\n",
       "      <td>0</td>\n",
       "      <td>0</td>\n",
       "      <td>1</td>\n",
       "      <td>0</td>\n",
       "      <td>...</td>\n",
       "      <td>0</td>\n",
       "      <td>0</td>\n",
       "      <td>0</td>\n",
       "      <td>0</td>\n",
       "      <td>0</td>\n",
       "      <td>0</td>\n",
       "      <td>0</td>\n",
       "      <td>0</td>\n",
       "      <td>0</td>\n",
       "      <td>0</td>\n",
       "    </tr>\n",
       "    <tr>\n",
       "      <th>3</th>\n",
       "      <td>0</td>\n",
       "      <td>0</td>\n",
       "      <td>1.0</td>\n",
       "      <td>305</td>\n",
       "      <td>1.0</td>\n",
       "      <td>0</td>\n",
       "      <td>0</td>\n",
       "      <td>0</td>\n",
       "      <td>0</td>\n",
       "      <td>0</td>\n",
       "      <td>...</td>\n",
       "      <td>0</td>\n",
       "      <td>0</td>\n",
       "      <td>0</td>\n",
       "      <td>1</td>\n",
       "      <td>0</td>\n",
       "      <td>0</td>\n",
       "      <td>0</td>\n",
       "      <td>0</td>\n",
       "      <td>0</td>\n",
       "      <td>0</td>\n",
       "    </tr>\n",
       "    <tr>\n",
       "      <th>4</th>\n",
       "      <td>0</td>\n",
       "      <td>0</td>\n",
       "      <td>2.0</td>\n",
       "      <td>1428</td>\n",
       "      <td>1.0</td>\n",
       "      <td>0</td>\n",
       "      <td>0</td>\n",
       "      <td>0</td>\n",
       "      <td>0</td>\n",
       "      <td>0</td>\n",
       "      <td>...</td>\n",
       "      <td>0</td>\n",
       "      <td>0</td>\n",
       "      <td>0</td>\n",
       "      <td>1</td>\n",
       "      <td>0</td>\n",
       "      <td>0</td>\n",
       "      <td>0</td>\n",
       "      <td>0</td>\n",
       "      <td>0</td>\n",
       "      <td>0</td>\n",
       "    </tr>\n",
       "  </tbody>\n",
       "</table>\n",
       "<p>5 rows × 70 columns</p>\n",
       "</div>"
      ],
      "text/plain": [
       "   Do Not Email  Do Not Call  TotalVisits  Total Time Spent on Website  \\\n",
       "0             0            0          0.0                            0   \n",
       "1             0            0          5.0                          674   \n",
       "2             0            0          2.0                         1532   \n",
       "3             0            0          1.0                          305   \n",
       "4             0            0          2.0                         1428   \n",
       "\n",
       "   Page Views Per Visit  Search  Digital Advertisement  \\\n",
       "0                   0.0       0                      0   \n",
       "1                   2.5       0                      0   \n",
       "2                   2.0       0                      0   \n",
       "3                   1.0       0                      0   \n",
       "4                   1.0       0                      0   \n",
       "\n",
       "   Through Recommendations  A free copy of Mastering The Interview  \\\n",
       "0                        0                                       0   \n",
       "1                        0                                       0   \n",
       "2                        0                                       1   \n",
       "3                        0                                       0   \n",
       "4                        0                                       0   \n",
       "\n",
       "   LeadOrigin_API  ...  LastNotableActivity_Email Received  \\\n",
       "0               1  ...                                   0   \n",
       "1               1  ...                                   0   \n",
       "2               0  ...                                   0   \n",
       "3               0  ...                                   0   \n",
       "4               0  ...                                   0   \n",
       "\n",
       "   LastNotableActivity_Form Submitted on Website  \\\n",
       "0                                              0   \n",
       "1                                              0   \n",
       "2                                              0   \n",
       "3                                              0   \n",
       "4                                              0   \n",
       "\n",
       "   LastNotableActivity_Had a Phone Conversation  LastNotableActivity_Modified  \\\n",
       "0                                             0                             1   \n",
       "1                                             0                             0   \n",
       "2                                             0                             0   \n",
       "3                                             0                             1   \n",
       "4                                             0                             1   \n",
       "\n",
       "   LastNotableActivity_Olark Chat Conversation  \\\n",
       "0                                            0   \n",
       "1                                            0   \n",
       "2                                            0   \n",
       "3                                            0   \n",
       "4                                            0   \n",
       "\n",
       "   LastNotableActivity_Page Visited on Website  LastNotableActivity_SMS Sent  \\\n",
       "0                                            0                             0   \n",
       "1                                            0                             0   \n",
       "2                                            0                             0   \n",
       "3                                            0                             0   \n",
       "4                                            0                             0   \n",
       "\n",
       "   LastNotableActivity_Unreachable  LastNotableActivity_Unsubscribed  \\\n",
       "0                                0                                 0   \n",
       "1                                0                                 0   \n",
       "2                                0                                 0   \n",
       "3                                0                                 0   \n",
       "4                                0                                 0   \n",
       "\n",
       "   LastNotableActivity_View in browser link Clicked  \n",
       "0                                                 0  \n",
       "1                                                 0  \n",
       "2                                                 0  \n",
       "3                                                 0  \n",
       "4                                                 0  \n",
       "\n",
       "[5 rows x 70 columns]"
      ]
     },
     "execution_count": 67,
     "metadata": {},
     "output_type": "execute_result"
    }
   ],
   "source": [
    "# Putting feature variable to X\n",
    "\n",
    "X = leadInfo.drop(['Converted'], axis=1)\n",
    "X.head()"
   ]
  },
  {
   "cell_type": "code",
   "execution_count": 68,
   "metadata": {},
   "outputs": [
    {
     "data": {
      "text/plain": [
       "0    0\n",
       "1    0\n",
       "2    1\n",
       "3    0\n",
       "4    1\n",
       "Name: Converted, dtype: int64"
      ]
     },
     "execution_count": 68,
     "metadata": {},
     "output_type": "execute_result"
    }
   ],
   "source": [
    "# Putting response variable to y\n",
    "\n",
    "y = leadInfo['Converted']\n",
    "y.head()"
   ]
  },
  {
   "cell_type": "code",
   "execution_count": 69,
   "metadata": {},
   "outputs": [],
   "source": [
    "# Splitting the data into train and test\n",
    "\n",
    "X_train, X_test, y_train, y_test = train_test_split(X, y, train_size=0.7, test_size=0.3, random_state=42)"
   ]
  },
  {
   "cell_type": "markdown",
   "metadata": {},
   "source": [
    "### Step 6: Rescaling the features with MinMax Scaling"
   ]
  },
  {
   "cell_type": "code",
   "execution_count": 70,
   "metadata": {},
   "outputs": [
    {
     "data": {
      "text/html": [
       "<div>\n",
       "<style scoped>\n",
       "    .dataframe tbody tr th:only-of-type {\n",
       "        vertical-align: middle;\n",
       "    }\n",
       "\n",
       "    .dataframe tbody tr th {\n",
       "        vertical-align: top;\n",
       "    }\n",
       "\n",
       "    .dataframe thead th {\n",
       "        text-align: right;\n",
       "    }\n",
       "</style>\n",
       "<table border=\"1\" class=\"dataframe\">\n",
       "  <thead>\n",
       "    <tr style=\"text-align: right;\">\n",
       "      <th></th>\n",
       "      <th>Do Not Email</th>\n",
       "      <th>Do Not Call</th>\n",
       "      <th>TotalVisits</th>\n",
       "      <th>Total Time Spent on Website</th>\n",
       "      <th>Page Views Per Visit</th>\n",
       "      <th>Search</th>\n",
       "      <th>Digital Advertisement</th>\n",
       "      <th>Through Recommendations</th>\n",
       "      <th>A free copy of Mastering The Interview</th>\n",
       "      <th>LeadOrigin_API</th>\n",
       "      <th>...</th>\n",
       "      <th>LastNotableActivity_Email Received</th>\n",
       "      <th>LastNotableActivity_Form Submitted on Website</th>\n",
       "      <th>LastNotableActivity_Had a Phone Conversation</th>\n",
       "      <th>LastNotableActivity_Modified</th>\n",
       "      <th>LastNotableActivity_Olark Chat Conversation</th>\n",
       "      <th>LastNotableActivity_Page Visited on Website</th>\n",
       "      <th>LastNotableActivity_SMS Sent</th>\n",
       "      <th>LastNotableActivity_Unreachable</th>\n",
       "      <th>LastNotableActivity_Unsubscribed</th>\n",
       "      <th>LastNotableActivity_View in browser link Clicked</th>\n",
       "    </tr>\n",
       "  </thead>\n",
       "  <tbody>\n",
       "    <tr>\n",
       "      <th>2240</th>\n",
       "      <td>0</td>\n",
       "      <td>0</td>\n",
       "      <td>0.1875</td>\n",
       "      <td>0.898963</td>\n",
       "      <td>0.375</td>\n",
       "      <td>0</td>\n",
       "      <td>0</td>\n",
       "      <td>0</td>\n",
       "      <td>0</td>\n",
       "      <td>0</td>\n",
       "      <td>...</td>\n",
       "      <td>0</td>\n",
       "      <td>0</td>\n",
       "      <td>0</td>\n",
       "      <td>0</td>\n",
       "      <td>0</td>\n",
       "      <td>0</td>\n",
       "      <td>0</td>\n",
       "      <td>0</td>\n",
       "      <td>0</td>\n",
       "      <td>0</td>\n",
       "    </tr>\n",
       "    <tr>\n",
       "      <th>113</th>\n",
       "      <td>0</td>\n",
       "      <td>0</td>\n",
       "      <td>0.3125</td>\n",
       "      <td>0.706360</td>\n",
       "      <td>0.625</td>\n",
       "      <td>0</td>\n",
       "      <td>0</td>\n",
       "      <td>0</td>\n",
       "      <td>0</td>\n",
       "      <td>1</td>\n",
       "      <td>...</td>\n",
       "      <td>0</td>\n",
       "      <td>0</td>\n",
       "      <td>0</td>\n",
       "      <td>1</td>\n",
       "      <td>0</td>\n",
       "      <td>0</td>\n",
       "      <td>0</td>\n",
       "      <td>0</td>\n",
       "      <td>0</td>\n",
       "      <td>0</td>\n",
       "    </tr>\n",
       "    <tr>\n",
       "      <th>4132</th>\n",
       "      <td>0</td>\n",
       "      <td>0</td>\n",
       "      <td>0.3750</td>\n",
       "      <td>0.768155</td>\n",
       "      <td>0.750</td>\n",
       "      <td>0</td>\n",
       "      <td>0</td>\n",
       "      <td>0</td>\n",
       "      <td>1</td>\n",
       "      <td>0</td>\n",
       "      <td>...</td>\n",
       "      <td>0</td>\n",
       "      <td>0</td>\n",
       "      <td>0</td>\n",
       "      <td>1</td>\n",
       "      <td>0</td>\n",
       "      <td>0</td>\n",
       "      <td>0</td>\n",
       "      <td>0</td>\n",
       "      <td>0</td>\n",
       "      <td>0</td>\n",
       "    </tr>\n",
       "    <tr>\n",
       "      <th>5573</th>\n",
       "      <td>0</td>\n",
       "      <td>0</td>\n",
       "      <td>0.1250</td>\n",
       "      <td>0.028868</td>\n",
       "      <td>0.250</td>\n",
       "      <td>0</td>\n",
       "      <td>0</td>\n",
       "      <td>0</td>\n",
       "      <td>1</td>\n",
       "      <td>0</td>\n",
       "      <td>...</td>\n",
       "      <td>0</td>\n",
       "      <td>0</td>\n",
       "      <td>0</td>\n",
       "      <td>0</td>\n",
       "      <td>0</td>\n",
       "      <td>0</td>\n",
       "      <td>0</td>\n",
       "      <td>0</td>\n",
       "      <td>0</td>\n",
       "      <td>0</td>\n",
       "    </tr>\n",
       "    <tr>\n",
       "      <th>1109</th>\n",
       "      <td>0</td>\n",
       "      <td>0</td>\n",
       "      <td>0.0625</td>\n",
       "      <td>0.009021</td>\n",
       "      <td>0.125</td>\n",
       "      <td>0</td>\n",
       "      <td>0</td>\n",
       "      <td>0</td>\n",
       "      <td>0</td>\n",
       "      <td>1</td>\n",
       "      <td>...</td>\n",
       "      <td>0</td>\n",
       "      <td>0</td>\n",
       "      <td>0</td>\n",
       "      <td>1</td>\n",
       "      <td>0</td>\n",
       "      <td>0</td>\n",
       "      <td>0</td>\n",
       "      <td>0</td>\n",
       "      <td>0</td>\n",
       "      <td>0</td>\n",
       "    </tr>\n",
       "  </tbody>\n",
       "</table>\n",
       "<p>5 rows × 70 columns</p>\n",
       "</div>"
      ],
      "text/plain": [
       "      Do Not Email  Do Not Call  TotalVisits  Total Time Spent on Website  \\\n",
       "2240             0            0       0.1875                     0.898963   \n",
       "113              0            0       0.3125                     0.706360   \n",
       "4132             0            0       0.3750                     0.768155   \n",
       "5573             0            0       0.1250                     0.028868   \n",
       "1109             0            0       0.0625                     0.009021   \n",
       "\n",
       "      Page Views Per Visit  Search  Digital Advertisement  \\\n",
       "2240                 0.375       0                      0   \n",
       "113                  0.625       0                      0   \n",
       "4132                 0.750       0                      0   \n",
       "5573                 0.250       0                      0   \n",
       "1109                 0.125       0                      0   \n",
       "\n",
       "      Through Recommendations  A free copy of Mastering The Interview  \\\n",
       "2240                        0                                       0   \n",
       "113                         0                                       0   \n",
       "4132                        0                                       1   \n",
       "5573                        0                                       1   \n",
       "1109                        0                                       0   \n",
       "\n",
       "      LeadOrigin_API  ...  LastNotableActivity_Email Received  \\\n",
       "2240               0  ...                                   0   \n",
       "113                1  ...                                   0   \n",
       "4132               0  ...                                   0   \n",
       "5573               0  ...                                   0   \n",
       "1109               1  ...                                   0   \n",
       "\n",
       "      LastNotableActivity_Form Submitted on Website  \\\n",
       "2240                                              0   \n",
       "113                                               0   \n",
       "4132                                              0   \n",
       "5573                                              0   \n",
       "1109                                              0   \n",
       "\n",
       "      LastNotableActivity_Had a Phone Conversation  \\\n",
       "2240                                             0   \n",
       "113                                              0   \n",
       "4132                                             0   \n",
       "5573                                             0   \n",
       "1109                                             0   \n",
       "\n",
       "      LastNotableActivity_Modified  \\\n",
       "2240                             0   \n",
       "113                              1   \n",
       "4132                             1   \n",
       "5573                             0   \n",
       "1109                             1   \n",
       "\n",
       "      LastNotableActivity_Olark Chat Conversation  \\\n",
       "2240                                            0   \n",
       "113                                             0   \n",
       "4132                                            0   \n",
       "5573                                            0   \n",
       "1109                                            0   \n",
       "\n",
       "      LastNotableActivity_Page Visited on Website  \\\n",
       "2240                                            0   \n",
       "113                                             0   \n",
       "4132                                            0   \n",
       "5573                                            0   \n",
       "1109                                            0   \n",
       "\n",
       "      LastNotableActivity_SMS Sent  LastNotableActivity_Unreachable  \\\n",
       "2240                             0                                0   \n",
       "113                              0                                0   \n",
       "4132                             0                                0   \n",
       "5573                             0                                0   \n",
       "1109                             0                                0   \n",
       "\n",
       "      LastNotableActivity_Unsubscribed  \\\n",
       "2240                                 0   \n",
       "113                                  0   \n",
       "4132                                 0   \n",
       "5573                                 0   \n",
       "1109                                 0   \n",
       "\n",
       "      LastNotableActivity_View in browser link Clicked  \n",
       "2240                                                 0  \n",
       "113                                                  0  \n",
       "4132                                                 0  \n",
       "5573                                                 0  \n",
       "1109                                                 0  \n",
       "\n",
       "[5 rows x 70 columns]"
      ]
     },
     "execution_count": 70,
     "metadata": {},
     "output_type": "execute_result"
    }
   ],
   "source": [
    "from sklearn.preprocessing import MinMaxScaler\n",
    "\n",
    "scaler = MinMaxScaler()\n",
    "\n",
    "X_train[['TotalVisits','Total Time Spent on Website','Page Views Per Visit']] = scaler.fit_transform(X_train[['TotalVisits',\n",
    "                                                                        'Total Time Spent on Website','Page Views Per Visit']])\n",
    "\n",
    "X_train.head()"
   ]
  },
  {
   "cell_type": "code",
   "execution_count": 71,
   "metadata": {},
   "outputs": [
    {
     "data": {
      "text/plain": [
       "38.50924797873519"
      ]
     },
     "execution_count": 71,
     "metadata": {},
     "output_type": "execute_result"
    }
   ],
   "source": [
    "### Checking the Conversion Rate percentage\n",
    "\n",
    "converted = (sum(leadInfo['Converted'])/len(leadInfo['Converted'].index))*100\n",
    "converted"
   ]
  },
  {
   "cell_type": "markdown",
   "metadata": {},
   "source": [
    "#### We have almost 39% conversion rate"
   ]
  },
  {
   "cell_type": "markdown",
   "metadata": {},
   "source": [
    "### Step 7: Model Building\n",
    "Assessing the model with StatsModels"
   ]
  },
  {
   "cell_type": "markdown",
   "metadata": {},
   "source": [
    "#### Running the Initial Training Model"
   ]
  },
  {
   "cell_type": "code",
   "execution_count": 72,
   "metadata": {},
   "outputs": [],
   "source": [
    "import statsmodels.api as sm"
   ]
  },
  {
   "cell_type": "code",
   "execution_count": 73,
   "metadata": {},
   "outputs": [
    {
     "data": {
      "text/html": [
       "<table class=\"simpletable\">\n",
       "<caption>Generalized Linear Model Regression Results</caption>\n",
       "<tr>\n",
       "  <th>Dep. Variable:</th>       <td>Converted</td>    <th>  No. Observations:  </th>  <td>  6320</td> \n",
       "</tr>\n",
       "<tr>\n",
       "  <th>Model:</th>                  <td>GLM</td>       <th>  Df Residuals:      </th>  <td>  6259</td> \n",
       "</tr>\n",
       "<tr>\n",
       "  <th>Model Family:</th>        <td>Binomial</td>     <th>  Df Model:          </th>  <td>    60</td> \n",
       "</tr>\n",
       "<tr>\n",
       "  <th>Link Function:</th>         <td>logit</td>      <th>  Scale:             </th> <td>  1.0000</td>\n",
       "</tr>\n",
       "<tr>\n",
       "  <th>Method:</th>                <td>IRLS</td>       <th>  Log-Likelihood:    </th> <td>     nan</td>\n",
       "</tr>\n",
       "<tr>\n",
       "  <th>Date:</th>            <td>Wed, 08 Sep 2021</td> <th>  Deviance:          </th> <td>     nan</td>\n",
       "</tr>\n",
       "<tr>\n",
       "  <th>Time:</th>                <td>01:16:42</td>     <th>  Pearson chi2:      </th> <td>6.43e+18</td>\n",
       "</tr>\n",
       "<tr>\n",
       "  <th>No. Iterations:</th>         <td>100</td>       <th>                     </th>     <td> </td>   \n",
       "</tr>\n",
       "<tr>\n",
       "  <th>Covariance Type:</th>     <td>nonrobust</td>    <th>                     </th>     <td> </td>   \n",
       "</tr>\n",
       "</table>\n",
       "<table class=\"simpletable\">\n",
       "<tr>\n",
       "                          <td></td>                            <th>coef</th>     <th>std err</th>      <th>z</th>      <th>P>|z|</th>  <th>[0.025</th>    <th>0.975]</th>  \n",
       "</tr>\n",
       "<tr>\n",
       "  <th>const</th>                                            <td>  4.59e+14</td> <td>  6.4e+07</td> <td> 7.17e+06</td> <td> 0.000</td> <td> 4.59e+14</td> <td> 4.59e+14</td>\n",
       "</tr>\n",
       "<tr>\n",
       "  <th>Do Not Email</th>                                     <td>-3.947e+14</td> <td> 4.48e+06</td> <td>-8.81e+07</td> <td> 0.000</td> <td>-3.95e+14</td> <td>-3.95e+14</td>\n",
       "</tr>\n",
       "<tr>\n",
       "  <th>Do Not Call</th>                                      <td> 5.243e+15</td> <td> 4.76e+07</td> <td>  1.1e+08</td> <td> 0.000</td> <td> 5.24e+15</td> <td> 5.24e+15</td>\n",
       "</tr>\n",
       "<tr>\n",
       "  <th>TotalVisits</th>                                      <td> 1.581e+15</td> <td> 7.66e+06</td> <td> 2.07e+08</td> <td> 0.000</td> <td> 1.58e+15</td> <td> 1.58e+15</td>\n",
       "</tr>\n",
       "<tr>\n",
       "  <th>Total Time Spent on Website</th>                      <td> 1.179e+15</td> <td> 4.01e+06</td> <td> 2.94e+08</td> <td> 0.000</td> <td> 1.18e+15</td> <td> 1.18e+15</td>\n",
       "</tr>\n",
       "<tr>\n",
       "  <th>Page Views Per Visit</th>                             <td>-2.383e+15</td> <td> 6.53e+06</td> <td>-3.65e+08</td> <td> 0.000</td> <td>-2.38e+15</td> <td>-2.38e+15</td>\n",
       "</tr>\n",
       "<tr>\n",
       "  <th>Search</th>                                           <td>-8.691e+14</td> <td> 2.44e+07</td> <td>-3.56e+07</td> <td> 0.000</td> <td>-8.69e+14</td> <td>-8.69e+14</td>\n",
       "</tr>\n",
       "<tr>\n",
       "  <th>Digital Advertisement</th>                            <td> 1.294e+15</td> <td> 4.76e+07</td> <td> 2.72e+07</td> <td> 0.000</td> <td> 1.29e+15</td> <td> 1.29e+15</td>\n",
       "</tr>\n",
       "<tr>\n",
       "  <th>Through Recommendations</th>                          <td> 9.593e+14</td> <td>  4.2e+07</td> <td> 2.28e+07</td> <td> 0.000</td> <td> 9.59e+14</td> <td> 9.59e+14</td>\n",
       "</tr>\n",
       "<tr>\n",
       "  <th>A free copy of Mastering The Interview</th>           <td> 1.792e+14</td> <td> 2.69e+06</td> <td> 6.66e+07</td> <td> 0.000</td> <td> 1.79e+14</td> <td> 1.79e+14</td>\n",
       "</tr>\n",
       "<tr>\n",
       "  <th>LeadOrigin_API</th>                                   <td>-3.623e+15</td> <td> 6.74e+07</td> <td>-5.37e+07</td> <td> 0.000</td> <td>-3.62e+15</td> <td>-3.62e+15</td>\n",
       "</tr>\n",
       "<tr>\n",
       "  <th>LeadOrigin_Landing Page Submission</th>               <td> -3.95e+15</td> <td> 6.74e+07</td> <td>-5.86e+07</td> <td> 0.000</td> <td>-3.95e+15</td> <td>-3.95e+15</td>\n",
       "</tr>\n",
       "<tr>\n",
       "  <th>LeadOrigin_Lead Add Form</th>                         <td>-1.785e+15</td> <td> 6.86e+07</td> <td> -2.6e+07</td> <td> 0.000</td> <td>-1.79e+15</td> <td>-1.79e+15</td>\n",
       "</tr>\n",
       "<tr>\n",
       "  <th>LeadOrigin_Lead Import</th>                           <td>-2.482e+15</td> <td> 8.27e+07</td> <td>   -3e+07</td> <td> 0.000</td> <td>-2.48e+15</td> <td>-2.48e+15</td>\n",
       "</tr>\n",
       "<tr>\n",
       "  <th>LeadSource_Click2call</th>                            <td> 2.551e+15</td> <td> 4.69e+07</td> <td> 5.44e+07</td> <td> 0.000</td> <td> 2.55e+15</td> <td> 2.55e+15</td>\n",
       "</tr>\n",
       "<tr>\n",
       "  <th>LeadSource_Direct Traffic</th>                        <td> 1.188e+15</td> <td> 1.17e+07</td> <td> 1.02e+08</td> <td> 0.000</td> <td> 1.19e+15</td> <td> 1.19e+15</td>\n",
       "</tr>\n",
       "<tr>\n",
       "  <th>LeadSource_Facebook</th>                              <td> -6.46e+14</td> <td> 4.62e+07</td> <td> -1.4e+07</td> <td> 0.000</td> <td>-6.46e+14</td> <td>-6.46e+14</td>\n",
       "</tr>\n",
       "<tr>\n",
       "  <th>LeadSource_Google</th>                                <td> 1.348e+15</td> <td> 1.15e+07</td> <td> 1.17e+08</td> <td> 0.000</td> <td> 1.35e+15</td> <td> 1.35e+15</td>\n",
       "</tr>\n",
       "<tr>\n",
       "  <th>LeadSource_Live Chat</th>                             <td> 1.334e+15</td> <td> 4.67e+07</td> <td> 2.86e+07</td> <td> 0.000</td> <td> 1.33e+15</td> <td> 1.33e+15</td>\n",
       "</tr>\n",
       "<tr>\n",
       "  <th>LeadSource_Olark Chat</th>                            <td> 1.405e+15</td> <td> 1.18e+07</td> <td> 1.19e+08</td> <td> 0.000</td> <td> 1.41e+15</td> <td> 1.41e+15</td>\n",
       "</tr>\n",
       "<tr>\n",
       "  <th>LeadSource_Organic Search</th>                        <td> 1.501e+15</td> <td> 1.18e+07</td> <td> 1.27e+08</td> <td> 0.000</td> <td>  1.5e+15</td> <td>  1.5e+15</td>\n",
       "</tr>\n",
       "<tr>\n",
       "  <th>LeadSource_Pay per Click Ads</th>                     <td>   -4.2839</td> <td> 5.27e-07</td> <td>-8.12e+06</td> <td> 0.000</td> <td>   -4.284</td> <td>   -4.284</td>\n",
       "</tr>\n",
       "<tr>\n",
       "  <th>LeadSource_Press_Release</th>                         <td>   -3.8293</td> <td> 2.33e-07</td> <td>-1.64e+07</td> <td> 0.000</td> <td>   -3.829</td> <td>   -3.829</td>\n",
       "</tr>\n",
       "<tr>\n",
       "  <th>LeadSource_Reference</th>                             <td>-6.683e+14</td> <td> 1.51e+07</td> <td>-4.44e+07</td> <td> 0.000</td> <td>-6.68e+14</td> <td>-6.68e+14</td>\n",
       "</tr>\n",
       "<tr>\n",
       "  <th>LeadSource_Referral Sites</th>                        <td> 1.183e+15</td> <td> 1.35e+07</td> <td> 8.74e+07</td> <td> 0.000</td> <td> 1.18e+15</td> <td> 1.18e+15</td>\n",
       "</tr>\n",
       "<tr>\n",
       "  <th>LeadSource_Social Media</th>                          <td>-1.121e+14</td> <td>  6.4e+07</td> <td>-1.75e+06</td> <td> 0.000</td> <td>-1.12e+14</td> <td>-1.12e+14</td>\n",
       "</tr>\n",
       "<tr>\n",
       "  <th>LeadSource_WeLearn</th>                               <td>  -16.3943</td> <td> 3.08e-07</td> <td>-5.32e+07</td> <td> 0.000</td> <td>  -16.394</td> <td>  -16.394</td>\n",
       "</tr>\n",
       "<tr>\n",
       "  <th>LeadSource_Welingak Website</th>                      <td> 6.484e+14</td> <td> 1.58e+07</td> <td>  4.1e+07</td> <td> 0.000</td> <td> 6.48e+14</td> <td> 6.48e+14</td>\n",
       "</tr>\n",
       "<tr>\n",
       "  <th>LeadSource_bing</th>                                  <td>-4.833e+15</td> <td> 3.04e+07</td> <td>-1.59e+08</td> <td> 0.000</td> <td>-4.83e+15</td> <td>-4.83e+15</td>\n",
       "</tr>\n",
       "<tr>\n",
       "  <th>LeadSource_blog</th>                                  <td>-1.855e+15</td> <td> 6.38e+07</td> <td>-2.91e+07</td> <td> 0.000</td> <td>-1.85e+15</td> <td>-1.85e+15</td>\n",
       "</tr>\n",
       "<tr>\n",
       "  <th>LeadSource_testone</th>                               <td>-1.203e+15</td> <td>  6.4e+07</td> <td>-1.88e+07</td> <td> 0.000</td> <td> -1.2e+15</td> <td> -1.2e+15</td>\n",
       "</tr>\n",
       "<tr>\n",
       "  <th>LeadSource_welearnblog_Home</th>                      <td>-1.383e+15</td> <td> 6.38e+07</td> <td>-2.17e+07</td> <td> 0.000</td> <td>-1.38e+15</td> <td>-1.38e+15</td>\n",
       "</tr>\n",
       "<tr>\n",
       "  <th>LeadSource_youtubechannel</th>                        <td>   -1.5078</td> <td> 1.44e-07</td> <td>-1.05e+07</td> <td> 0.000</td> <td>   -1.508</td> <td>   -1.508</td>\n",
       "</tr>\n",
       "<tr>\n",
       "  <th>LastActivity_Approached upfront</th>                  <td> 4.375e+15</td> <td> 2.72e+07</td> <td> 1.61e+08</td> <td> 0.000</td> <td> 4.38e+15</td> <td> 4.38e+15</td>\n",
       "</tr>\n",
       "<tr>\n",
       "  <th>LastActivity_Converted to Lead</th>                   <td>-6.465e+14</td> <td> 9.39e+06</td> <td>-6.89e+07</td> <td> 0.000</td> <td>-6.47e+14</td> <td>-6.47e+14</td>\n",
       "</tr>\n",
       "<tr>\n",
       "  <th>LastActivity_Email Bounced</th>                       <td>-4.108e+14</td> <td> 1.02e+07</td> <td>-4.01e+07</td> <td> 0.000</td> <td>-4.11e+14</td> <td>-4.11e+14</td>\n",
       "</tr>\n",
       "<tr>\n",
       "  <th>LastActivity_Email Link Clicked</th>                  <td>-1.503e+14</td> <td> 1.14e+07</td> <td>-1.32e+07</td> <td> 0.000</td> <td> -1.5e+14</td> <td> -1.5e+14</td>\n",
       "</tr>\n",
       "<tr>\n",
       "  <th>LastActivity_Email Marked Spam</th>                   <td> 2.996e+15</td> <td> 2.32e+07</td> <td> 1.29e+08</td> <td> 0.000</td> <td>    3e+15</td> <td>    3e+15</td>\n",
       "</tr>\n",
       "<tr>\n",
       "  <th>LastActivity_Email Opened</th>                        <td> 5.876e+13</td> <td>  9.1e+06</td> <td> 6.46e+06</td> <td> 0.000</td> <td> 5.88e+13</td> <td> 5.88e+13</td>\n",
       "</tr>\n",
       "<tr>\n",
       "  <th>LastActivity_Email Received</th>                      <td> 1.223e+15</td> <td> 6.38e+07</td> <td> 1.92e+07</td> <td> 0.000</td> <td> 1.22e+15</td> <td> 1.22e+15</td>\n",
       "</tr>\n",
       "<tr>\n",
       "  <th>LastActivity_Form Submitted on Website</th>           <td>-8.389e+13</td> <td> 1.13e+07</td> <td>-7.42e+06</td> <td> 0.000</td> <td>-8.39e+13</td> <td>-8.39e+13</td>\n",
       "</tr>\n",
       "<tr>\n",
       "  <th>LastActivity_Had a Phone Conversation</th>            <td> 9.903e+14</td> <td> 2.26e+07</td> <td> 4.38e+07</td> <td> 0.000</td> <td>  9.9e+14</td> <td>  9.9e+14</td>\n",
       "</tr>\n",
       "<tr>\n",
       "  <th>LastActivity_Not Sure</th>                            <td> 4.449e+14</td> <td> 1.19e+07</td> <td> 3.73e+07</td> <td> 0.000</td> <td> 4.45e+14</td> <td> 4.45e+14</td>\n",
       "</tr>\n",
       "<tr>\n",
       "  <th>LastActivity_Olark Chat Conversation</th>             <td>-8.247e+14</td> <td> 9.09e+06</td> <td>-9.07e+07</td> <td> 0.000</td> <td>-8.25e+14</td> <td>-8.25e+14</td>\n",
       "</tr>\n",
       "<tr>\n",
       "  <th>LastActivity_Page Visited on Website</th>             <td>-1.535e+14</td> <td> 9.54e+06</td> <td>-1.61e+07</td> <td> 0.000</td> <td>-1.53e+14</td> <td>-1.53e+14</td>\n",
       "</tr>\n",
       "<tr>\n",
       "  <th>LastActivity_SMS Sent</th>                            <td> 1.727e+14</td> <td> 9.11e+06</td> <td>  1.9e+07</td> <td> 0.000</td> <td> 1.73e+14</td> <td> 1.73e+14</td>\n",
       "</tr>\n",
       "<tr>\n",
       "  <th>LastActivity_Unreachable</th>                         <td>-3.452e+14</td> <td> 1.29e+07</td> <td>-2.67e+07</td> <td> 0.000</td> <td>-3.45e+14</td> <td>-3.45e+14</td>\n",
       "</tr>\n",
       "<tr>\n",
       "  <th>LastActivity_Unsubscribed</th>                        <td>-7.738e+13</td> <td> 2.39e+07</td> <td>-3.24e+06</td> <td> 0.000</td> <td>-7.74e+13</td> <td>-7.74e+13</td>\n",
       "</tr>\n",
       "<tr>\n",
       "  <th>LastActivity_View in browser link Clicked</th>        <td>-3.856e+15</td> <td> 6.33e+07</td> <td>-6.09e+07</td> <td> 0.000</td> <td>-3.86e+15</td> <td>-3.86e+15</td>\n",
       "</tr>\n",
       "<tr>\n",
       "  <th>LastActivity_Visited Booth in Tradeshow</th>          <td>-3.254e+15</td> <td> 6.37e+07</td> <td>-5.11e+07</td> <td> 0.000</td> <td>-3.25e+15</td> <td>-3.25e+15</td>\n",
       "</tr>\n",
       "<tr>\n",
       "  <th>CurrentOccupation_Housewife</th>                      <td> 4.616e+15</td> <td> 4.12e+07</td> <td> 1.12e+08</td> <td> 0.000</td> <td> 4.62e+15</td> <td> 4.62e+15</td>\n",
       "</tr>\n",
       "<tr>\n",
       "  <th>CurrentOccupation_No Information</th>                 <td> 1.368e+15</td> <td> 3.37e+07</td> <td> 4.06e+07</td> <td> 0.000</td> <td> 1.37e+15</td> <td> 1.37e+15</td>\n",
       "</tr>\n",
       "<tr>\n",
       "  <th>CurrentOccupation_Other</th>                          <td> 3.097e+15</td> <td> 3.89e+07</td> <td> 7.96e+07</td> <td> 0.000</td> <td>  3.1e+15</td> <td>  3.1e+15</td>\n",
       "</tr>\n",
       "<tr>\n",
       "  <th>CurrentOccupation_Student</th>                        <td> 2.177e+15</td> <td> 3.41e+07</td> <td> 6.38e+07</td> <td> 0.000</td> <td> 2.18e+15</td> <td> 2.18e+15</td>\n",
       "</tr>\n",
       "<tr>\n",
       "  <th>CurrentOccupation_Unemployed</th>                     <td> 2.106e+15</td> <td> 3.37e+07</td> <td> 6.25e+07</td> <td> 0.000</td> <td> 2.11e+15</td> <td> 2.11e+15</td>\n",
       "</tr>\n",
       "<tr>\n",
       "  <th>CurrentOccupation_Working Professional</th>           <td> 3.273e+15</td> <td> 3.38e+07</td> <td> 9.67e+07</td> <td> 0.000</td> <td> 3.27e+15</td> <td> 3.27e+15</td>\n",
       "</tr>\n",
       "<tr>\n",
       "  <th>LastNotableActivity_Approached upfront</th>           <td>    0.3496</td> <td> 8.33e-09</td> <td>  4.2e+07</td> <td> 0.000</td> <td>    0.350</td> <td>    0.350</td>\n",
       "</tr>\n",
       "<tr>\n",
       "  <th>LastNotableActivity_Email Bounced</th>                <td>-1.171e+14</td> <td> 1.54e+07</td> <td>-7.58e+06</td> <td> 0.000</td> <td>-1.17e+14</td> <td>-1.17e+14</td>\n",
       "</tr>\n",
       "<tr>\n",
       "  <th>LastNotableActivity_Email Link Clicked</th>           <td>-5.271e+14</td> <td> 1.45e+07</td> <td>-3.62e+07</td> <td> 0.000</td> <td>-5.27e+14</td> <td>-5.27e+14</td>\n",
       "</tr>\n",
       "<tr>\n",
       "  <th>LastNotableActivity_Email Marked Spam</th>            <td> 2.996e+15</td> <td> 2.32e+07</td> <td> 1.29e+08</td> <td> 0.000</td> <td>    3e+15</td> <td>    3e+15</td>\n",
       "</tr>\n",
       "<tr>\n",
       "  <th>LastNotableActivity_Email Opened</th>                 <td>-2.972e+14</td> <td> 1.16e+07</td> <td>-2.56e+07</td> <td> 0.000</td> <td>-2.97e+14</td> <td>-2.97e+14</td>\n",
       "</tr>\n",
       "<tr>\n",
       "  <th>LastNotableActivity_Email Received</th>               <td>    0.3460</td> <td> 8.39e-09</td> <td> 4.12e+07</td> <td> 0.000</td> <td>    0.346</td> <td>    0.346</td>\n",
       "</tr>\n",
       "<tr>\n",
       "  <th>LastNotableActivity_Form Submitted on Website</th>    <td>-2.438e+15</td> <td> 6.33e+07</td> <td>-3.85e+07</td> <td> 0.000</td> <td>-2.44e+15</td> <td>-2.44e+15</td>\n",
       "</tr>\n",
       "<tr>\n",
       "  <th>LastNotableActivity_Had a Phone Conversation</th>     <td>-1.081e+14</td> <td> 3.12e+07</td> <td>-3.47e+06</td> <td> 0.000</td> <td>-1.08e+14</td> <td>-1.08e+14</td>\n",
       "</tr>\n",
       "<tr>\n",
       "  <th>LastNotableActivity_Modified</th>                     <td>-3.319e+14</td> <td> 1.11e+07</td> <td>   -3e+07</td> <td> 0.000</td> <td>-3.32e+14</td> <td>-3.32e+14</td>\n",
       "</tr>\n",
       "<tr>\n",
       "  <th>LastNotableActivity_Olark Chat Conversation</th>      <td> 1.088e+14</td> <td> 1.26e+07</td> <td> 8.63e+06</td> <td> 0.000</td> <td> 1.09e+14</td> <td> 1.09e+14</td>\n",
       "</tr>\n",
       "<tr>\n",
       "  <th>LastNotableActivity_Page Visited on Website</th>      <td>-5.645e+14</td> <td> 1.26e+07</td> <td>-4.48e+07</td> <td> 0.000</td> <td>-5.65e+14</td> <td>-5.65e+14</td>\n",
       "</tr>\n",
       "<tr>\n",
       "  <th>LastNotableActivity_SMS Sent</th>                     <td> 5.053e+14</td> <td> 1.16e+07</td> <td> 4.34e+07</td> <td> 0.000</td> <td> 5.05e+14</td> <td> 5.05e+14</td>\n",
       "</tr>\n",
       "<tr>\n",
       "  <th>LastNotableActivity_Unreachable</th>                  <td> 1.289e+15</td> <td> 1.97e+07</td> <td> 6.55e+07</td> <td> 0.000</td> <td> 1.29e+15</td> <td> 1.29e+15</td>\n",
       "</tr>\n",
       "<tr>\n",
       "  <th>LastNotableActivity_Unsubscribed</th>                 <td>-2.481e+14</td> <td> 2.72e+07</td> <td>-9.12e+06</td> <td> 0.000</td> <td>-2.48e+14</td> <td>-2.48e+14</td>\n",
       "</tr>\n",
       "<tr>\n",
       "  <th>LastNotableActivity_View in browser link Clicked</th> <td>  1.91e+14</td> <td> 8.79e+07</td> <td> 2.17e+06</td> <td> 0.000</td> <td> 1.91e+14</td> <td> 1.91e+14</td>\n",
       "</tr>\n",
       "</table>"
      ],
      "text/plain": [
       "<class 'statsmodels.iolib.summary.Summary'>\n",
       "\"\"\"\n",
       "                 Generalized Linear Model Regression Results                  \n",
       "==============================================================================\n",
       "Dep. Variable:              Converted   No. Observations:                 6320\n",
       "Model:                            GLM   Df Residuals:                     6259\n",
       "Model Family:                Binomial   Df Model:                           60\n",
       "Link Function:                  logit   Scale:                          1.0000\n",
       "Method:                          IRLS   Log-Likelihood:                    nan\n",
       "Date:                Wed, 08 Sep 2021   Deviance:                          nan\n",
       "Time:                        01:16:42   Pearson chi2:                 6.43e+18\n",
       "No. Iterations:                   100                                         \n",
       "Covariance Type:            nonrobust                                         \n",
       "====================================================================================================================\n",
       "                                                       coef    std err          z      P>|z|      [0.025      0.975]\n",
       "--------------------------------------------------------------------------------------------------------------------\n",
       "const                                              4.59e+14    6.4e+07   7.17e+06      0.000    4.59e+14    4.59e+14\n",
       "Do Not Email                                     -3.947e+14   4.48e+06  -8.81e+07      0.000   -3.95e+14   -3.95e+14\n",
       "Do Not Call                                       5.243e+15   4.76e+07    1.1e+08      0.000    5.24e+15    5.24e+15\n",
       "TotalVisits                                       1.581e+15   7.66e+06   2.07e+08      0.000    1.58e+15    1.58e+15\n",
       "Total Time Spent on Website                       1.179e+15   4.01e+06   2.94e+08      0.000    1.18e+15    1.18e+15\n",
       "Page Views Per Visit                             -2.383e+15   6.53e+06  -3.65e+08      0.000   -2.38e+15   -2.38e+15\n",
       "Search                                           -8.691e+14   2.44e+07  -3.56e+07      0.000   -8.69e+14   -8.69e+14\n",
       "Digital Advertisement                             1.294e+15   4.76e+07   2.72e+07      0.000    1.29e+15    1.29e+15\n",
       "Through Recommendations                           9.593e+14    4.2e+07   2.28e+07      0.000    9.59e+14    9.59e+14\n",
       "A free copy of Mastering The Interview            1.792e+14   2.69e+06   6.66e+07      0.000    1.79e+14    1.79e+14\n",
       "LeadOrigin_API                                   -3.623e+15   6.74e+07  -5.37e+07      0.000   -3.62e+15   -3.62e+15\n",
       "LeadOrigin_Landing Page Submission                -3.95e+15   6.74e+07  -5.86e+07      0.000   -3.95e+15   -3.95e+15\n",
       "LeadOrigin_Lead Add Form                         -1.785e+15   6.86e+07   -2.6e+07      0.000   -1.79e+15   -1.79e+15\n",
       "LeadOrigin_Lead Import                           -2.482e+15   8.27e+07     -3e+07      0.000   -2.48e+15   -2.48e+15\n",
       "LeadSource_Click2call                             2.551e+15   4.69e+07   5.44e+07      0.000    2.55e+15    2.55e+15\n",
       "LeadSource_Direct Traffic                         1.188e+15   1.17e+07   1.02e+08      0.000    1.19e+15    1.19e+15\n",
       "LeadSource_Facebook                               -6.46e+14   4.62e+07   -1.4e+07      0.000   -6.46e+14   -6.46e+14\n",
       "LeadSource_Google                                 1.348e+15   1.15e+07   1.17e+08      0.000    1.35e+15    1.35e+15\n",
       "LeadSource_Live Chat                              1.334e+15   4.67e+07   2.86e+07      0.000    1.33e+15    1.33e+15\n",
       "LeadSource_Olark Chat                             1.405e+15   1.18e+07   1.19e+08      0.000    1.41e+15    1.41e+15\n",
       "LeadSource_Organic Search                         1.501e+15   1.18e+07   1.27e+08      0.000     1.5e+15     1.5e+15\n",
       "LeadSource_Pay per Click Ads                        -4.2839   5.27e-07  -8.12e+06      0.000      -4.284      -4.284\n",
       "LeadSource_Press_Release                            -3.8293   2.33e-07  -1.64e+07      0.000      -3.829      -3.829\n",
       "LeadSource_Reference                             -6.683e+14   1.51e+07  -4.44e+07      0.000   -6.68e+14   -6.68e+14\n",
       "LeadSource_Referral Sites                         1.183e+15   1.35e+07   8.74e+07      0.000    1.18e+15    1.18e+15\n",
       "LeadSource_Social Media                          -1.121e+14    6.4e+07  -1.75e+06      0.000   -1.12e+14   -1.12e+14\n",
       "LeadSource_WeLearn                                 -16.3943   3.08e-07  -5.32e+07      0.000     -16.394     -16.394\n",
       "LeadSource_Welingak Website                       6.484e+14   1.58e+07    4.1e+07      0.000    6.48e+14    6.48e+14\n",
       "LeadSource_bing                                  -4.833e+15   3.04e+07  -1.59e+08      0.000   -4.83e+15   -4.83e+15\n",
       "LeadSource_blog                                  -1.855e+15   6.38e+07  -2.91e+07      0.000   -1.85e+15   -1.85e+15\n",
       "LeadSource_testone                               -1.203e+15    6.4e+07  -1.88e+07      0.000    -1.2e+15    -1.2e+15\n",
       "LeadSource_welearnblog_Home                      -1.383e+15   6.38e+07  -2.17e+07      0.000   -1.38e+15   -1.38e+15\n",
       "LeadSource_youtubechannel                           -1.5078   1.44e-07  -1.05e+07      0.000      -1.508      -1.508\n",
       "LastActivity_Approached upfront                   4.375e+15   2.72e+07   1.61e+08      0.000    4.38e+15    4.38e+15\n",
       "LastActivity_Converted to Lead                   -6.465e+14   9.39e+06  -6.89e+07      0.000   -6.47e+14   -6.47e+14\n",
       "LastActivity_Email Bounced                       -4.108e+14   1.02e+07  -4.01e+07      0.000   -4.11e+14   -4.11e+14\n",
       "LastActivity_Email Link Clicked                  -1.503e+14   1.14e+07  -1.32e+07      0.000    -1.5e+14    -1.5e+14\n",
       "LastActivity_Email Marked Spam                    2.996e+15   2.32e+07   1.29e+08      0.000       3e+15       3e+15\n",
       "LastActivity_Email Opened                         5.876e+13    9.1e+06   6.46e+06      0.000    5.88e+13    5.88e+13\n",
       "LastActivity_Email Received                       1.223e+15   6.38e+07   1.92e+07      0.000    1.22e+15    1.22e+15\n",
       "LastActivity_Form Submitted on Website           -8.389e+13   1.13e+07  -7.42e+06      0.000   -8.39e+13   -8.39e+13\n",
       "LastActivity_Had a Phone Conversation             9.903e+14   2.26e+07   4.38e+07      0.000     9.9e+14     9.9e+14\n",
       "LastActivity_Not Sure                             4.449e+14   1.19e+07   3.73e+07      0.000    4.45e+14    4.45e+14\n",
       "LastActivity_Olark Chat Conversation             -8.247e+14   9.09e+06  -9.07e+07      0.000   -8.25e+14   -8.25e+14\n",
       "LastActivity_Page Visited on Website             -1.535e+14   9.54e+06  -1.61e+07      0.000   -1.53e+14   -1.53e+14\n",
       "LastActivity_SMS Sent                             1.727e+14   9.11e+06    1.9e+07      0.000    1.73e+14    1.73e+14\n",
       "LastActivity_Unreachable                         -3.452e+14   1.29e+07  -2.67e+07      0.000   -3.45e+14   -3.45e+14\n",
       "LastActivity_Unsubscribed                        -7.738e+13   2.39e+07  -3.24e+06      0.000   -7.74e+13   -7.74e+13\n",
       "LastActivity_View in browser link Clicked        -3.856e+15   6.33e+07  -6.09e+07      0.000   -3.86e+15   -3.86e+15\n",
       "LastActivity_Visited Booth in Tradeshow          -3.254e+15   6.37e+07  -5.11e+07      0.000   -3.25e+15   -3.25e+15\n",
       "CurrentOccupation_Housewife                       4.616e+15   4.12e+07   1.12e+08      0.000    4.62e+15    4.62e+15\n",
       "CurrentOccupation_No Information                  1.368e+15   3.37e+07   4.06e+07      0.000    1.37e+15    1.37e+15\n",
       "CurrentOccupation_Other                           3.097e+15   3.89e+07   7.96e+07      0.000     3.1e+15     3.1e+15\n",
       "CurrentOccupation_Student                         2.177e+15   3.41e+07   6.38e+07      0.000    2.18e+15    2.18e+15\n",
       "CurrentOccupation_Unemployed                      2.106e+15   3.37e+07   6.25e+07      0.000    2.11e+15    2.11e+15\n",
       "CurrentOccupation_Working Professional            3.273e+15   3.38e+07   9.67e+07      0.000    3.27e+15    3.27e+15\n",
       "LastNotableActivity_Approached upfront               0.3496   8.33e-09    4.2e+07      0.000       0.350       0.350\n",
       "LastNotableActivity_Email Bounced                -1.171e+14   1.54e+07  -7.58e+06      0.000   -1.17e+14   -1.17e+14\n",
       "LastNotableActivity_Email Link Clicked           -5.271e+14   1.45e+07  -3.62e+07      0.000   -5.27e+14   -5.27e+14\n",
       "LastNotableActivity_Email Marked Spam             2.996e+15   2.32e+07   1.29e+08      0.000       3e+15       3e+15\n",
       "LastNotableActivity_Email Opened                 -2.972e+14   1.16e+07  -2.56e+07      0.000   -2.97e+14   -2.97e+14\n",
       "LastNotableActivity_Email Received                   0.3460   8.39e-09   4.12e+07      0.000       0.346       0.346\n",
       "LastNotableActivity_Form Submitted on Website    -2.438e+15   6.33e+07  -3.85e+07      0.000   -2.44e+15   -2.44e+15\n",
       "LastNotableActivity_Had a Phone Conversation     -1.081e+14   3.12e+07  -3.47e+06      0.000   -1.08e+14   -1.08e+14\n",
       "LastNotableActivity_Modified                     -3.319e+14   1.11e+07     -3e+07      0.000   -3.32e+14   -3.32e+14\n",
       "LastNotableActivity_Olark Chat Conversation       1.088e+14   1.26e+07   8.63e+06      0.000    1.09e+14    1.09e+14\n",
       "LastNotableActivity_Page Visited on Website      -5.645e+14   1.26e+07  -4.48e+07      0.000   -5.65e+14   -5.65e+14\n",
       "LastNotableActivity_SMS Sent                      5.053e+14   1.16e+07   4.34e+07      0.000    5.05e+14    5.05e+14\n",
       "LastNotableActivity_Unreachable                   1.289e+15   1.97e+07   6.55e+07      0.000    1.29e+15    1.29e+15\n",
       "LastNotableActivity_Unsubscribed                 -2.481e+14   2.72e+07  -9.12e+06      0.000   -2.48e+14   -2.48e+14\n",
       "LastNotableActivity_View in browser link Clicked   1.91e+14   8.79e+07   2.17e+06      0.000    1.91e+14    1.91e+14\n",
       "====================================================================================================================\n",
       "\"\"\""
      ]
     },
     "execution_count": 73,
     "metadata": {},
     "output_type": "execute_result"
    }
   ],
   "source": [
    "# Logistic regression model\n",
    "logm1 = sm.GLM(y_train,(sm.add_constant(X_train)), family = sm.families.Binomial())\n",
    "logm1.fit().summary()"
   ]
  },
  {
   "cell_type": "markdown",
   "metadata": {},
   "source": [
    "### Step 8: Feature Selection Using RFE"
   ]
  },
  {
   "cell_type": "code",
   "execution_count": 74,
   "metadata": {},
   "outputs": [],
   "source": [
    "from sklearn.linear_model import LogisticRegression\n",
    "logreg = LogisticRegression()"
   ]
  },
  {
   "cell_type": "code",
   "execution_count": 75,
   "metadata": {},
   "outputs": [],
   "source": [
    "from sklearn.feature_selection import RFE\n",
    "\n",
    "# running RFE with 20 variables as output\n",
    "\n",
    "rfe = RFE(logreg, 20)            \n",
    "rfe = rfe.fit(X_train, y_train)"
   ]
  },
  {
   "cell_type": "code",
   "execution_count": 76,
   "metadata": {},
   "outputs": [
    {
     "data": {
      "text/plain": [
       "array([ True, False,  True,  True,  True,  True, False, False, False,\n",
       "       False, False,  True, False, False, False, False, False, False,\n",
       "        True, False, False, False,  True, False, False, False,  True,\n",
       "       False, False, False, False, False,  True, False, False, False,\n",
       "       False,  True, False, False,  True, False,  True, False,  True,\n",
       "       False, False, False, False,  True,  True, False, False, False,\n",
       "        True, False, False, False, False, False, False, False,  True,\n",
       "        True, False, False, False,  True, False, False])"
      ]
     },
     "execution_count": 76,
     "metadata": {},
     "output_type": "execute_result"
    }
   ],
   "source": [
    "rfe.support_"
   ]
  },
  {
   "cell_type": "code",
   "execution_count": 77,
   "metadata": {
    "scrolled": true
   },
   "outputs": [
    {
     "data": {
      "text/plain": [
       "[('Do Not Email', True, 1),\n",
       " ('Do Not Call', False, 13),\n",
       " ('TotalVisits', True, 1),\n",
       " ('Total Time Spent on Website', True, 1),\n",
       " ('Page Views Per Visit', True, 1),\n",
       " ('Search', True, 1),\n",
       " ('Digital Advertisement', False, 45),\n",
       " ('Through Recommendations', False, 30),\n",
       " ('A free copy of Mastering The Interview', False, 37),\n",
       " ('LeadOrigin_API', False, 9),\n",
       " ('LeadOrigin_Landing Page Submission', False, 8),\n",
       " ('LeadOrigin_Lead Add Form', True, 1),\n",
       " ('LeadOrigin_Lead Import', False, 20),\n",
       " ('LeadSource_Click2call', False, 29),\n",
       " ('LeadSource_Direct Traffic', False, 16),\n",
       " ('LeadSource_Facebook', False, 10),\n",
       " ('LeadSource_Google', False, 27),\n",
       " ('LeadSource_Live Chat', False, 38),\n",
       " ('LeadSource_Olark Chat', True, 1),\n",
       " ('LeadSource_Organic Search', False, 26),\n",
       " ('LeadSource_Pay per Click Ads', False, 46),\n",
       " ('LeadSource_Press_Release', False, 50),\n",
       " ('LeadSource_Reference', True, 1),\n",
       " ('LeadSource_Referral Sites', False, 25),\n",
       " ('LeadSource_Social Media', False, 41),\n",
       " ('LeadSource_WeLearn', False, 47),\n",
       " ('LeadSource_Welingak Website', True, 1),\n",
       " ('LeadSource_bing', False, 18),\n",
       " ('LeadSource_blog', False, 35),\n",
       " ('LeadSource_testone', False, 31),\n",
       " ('LeadSource_welearnblog_Home', False, 39),\n",
       " ('LeadSource_youtubechannel', False, 48),\n",
       " ('LastActivity_Approached upfront', True, 1),\n",
       " ('LastActivity_Converted to Lead', False, 19),\n",
       " ('LastActivity_Email Bounced', False, 6),\n",
       " ('LastActivity_Email Link Clicked', False, 14),\n",
       " ('LastActivity_Email Marked Spam', False, 17),\n",
       " ('LastActivity_Email Opened', True, 1),\n",
       " ('LastActivity_Email Received', False, 43),\n",
       " ('LastActivity_Form Submitted on Website', False, 34),\n",
       " ('LastActivity_Had a Phone Conversation', True, 1),\n",
       " ('LastActivity_Not Sure', False, 7),\n",
       " ('LastActivity_Olark Chat Conversation', True, 1),\n",
       " ('LastActivity_Page Visited on Website', False, 33),\n",
       " ('LastActivity_SMS Sent', True, 1),\n",
       " ('LastActivity_Unreachable', False, 28),\n",
       " ('LastActivity_Unsubscribed', False, 22),\n",
       " ('LastActivity_View in browser link Clicked', False, 24),\n",
       " ('LastActivity_Visited Booth in Tradeshow', False, 40),\n",
       " ('CurrentOccupation_Housewife', True, 1),\n",
       " ('CurrentOccupation_No Information', True, 1),\n",
       " ('CurrentOccupation_Other', False, 36),\n",
       " ('CurrentOccupation_Student', False, 11),\n",
       " ('CurrentOccupation_Unemployed', False, 12),\n",
       " ('CurrentOccupation_Working Professional', True, 1),\n",
       " ('LastNotableActivity_Approached upfront', False, 51),\n",
       " ('LastNotableActivity_Email Bounced', False, 21),\n",
       " ('LastNotableActivity_Email Link Clicked', False, 4),\n",
       " ('LastNotableActivity_Email Marked Spam', False, 15),\n",
       " ('LastNotableActivity_Email Opened', False, 2),\n",
       " ('LastNotableActivity_Email Received', False, 49),\n",
       " ('LastNotableActivity_Form Submitted on Website', False, 44),\n",
       " ('LastNotableActivity_Had a Phone Conversation', True, 1),\n",
       " ('LastNotableActivity_Modified', True, 1),\n",
       " ('LastNotableActivity_Olark Chat Conversation', False, 3),\n",
       " ('LastNotableActivity_Page Visited on Website', False, 5),\n",
       " ('LastNotableActivity_SMS Sent', False, 23),\n",
       " ('LastNotableActivity_Unreachable', True, 1),\n",
       " ('LastNotableActivity_Unsubscribed', False, 42),\n",
       " ('LastNotableActivity_View in browser link Clicked', False, 32)]"
      ]
     },
     "execution_count": 77,
     "metadata": {},
     "output_type": "execute_result"
    }
   ],
   "source": [
    "list(zip(X_train.columns, rfe.support_, rfe.ranking_))"
   ]
  },
  {
   "cell_type": "code",
   "execution_count": 78,
   "metadata": {},
   "outputs": [
    {
     "data": {
      "text/plain": [
       "Index(['Do Not Email', 'TotalVisits', 'Total Time Spent on Website',\n",
       "       'Page Views Per Visit', 'Search', 'LeadOrigin_Lead Add Form',\n",
       "       'LeadSource_Olark Chat', 'LeadSource_Reference',\n",
       "       'LeadSource_Welingak Website', 'LastActivity_Approached upfront',\n",
       "       'LastActivity_Email Opened', 'LastActivity_Had a Phone Conversation',\n",
       "       'LastActivity_Olark Chat Conversation', 'LastActivity_SMS Sent',\n",
       "       'CurrentOccupation_Housewife', 'CurrentOccupation_No Information',\n",
       "       'CurrentOccupation_Working Professional',\n",
       "       'LastNotableActivity_Had a Phone Conversation',\n",
       "       'LastNotableActivity_Modified', 'LastNotableActivity_Unreachable'],\n",
       "      dtype='object')"
      ]
     },
     "execution_count": 78,
     "metadata": {},
     "output_type": "execute_result"
    }
   ],
   "source": [
    "# variables shortlisted by RFE\n",
    "\n",
    "col = X_train.columns[rfe.support_]\n",
    "col"
   ]
  },
  {
   "cell_type": "markdown",
   "metadata": {},
   "source": [
    "#### Rebuilding Model - Model 2"
   ]
  },
  {
   "cell_type": "code",
   "execution_count": 79,
   "metadata": {},
   "outputs": [
    {
     "data": {
      "text/html": [
       "<table class=\"simpletable\">\n",
       "<caption>Generalized Linear Model Regression Results</caption>\n",
       "<tr>\n",
       "  <th>Dep. Variable:</th>       <td>Converted</td>    <th>  No. Observations:  </th>  <td>  6320</td> \n",
       "</tr>\n",
       "<tr>\n",
       "  <th>Model:</th>                  <td>GLM</td>       <th>  Df Residuals:      </th>  <td>  6299</td> \n",
       "</tr>\n",
       "<tr>\n",
       "  <th>Model Family:</th>        <td>Binomial</td>     <th>  Df Model:          </th>  <td>    20</td> \n",
       "</tr>\n",
       "<tr>\n",
       "  <th>Link Function:</th>         <td>logit</td>      <th>  Scale:             </th> <td>  1.0000</td>\n",
       "</tr>\n",
       "<tr>\n",
       "  <th>Method:</th>                <td>IRLS</td>       <th>  Log-Likelihood:    </th> <td> -2501.1</td>\n",
       "</tr>\n",
       "<tr>\n",
       "  <th>Date:</th>            <td>Wed, 08 Sep 2021</td> <th>  Deviance:          </th> <td>  5002.3</td>\n",
       "</tr>\n",
       "<tr>\n",
       "  <th>Time:</th>                <td>01:17:11</td>     <th>  Pearson chi2:      </th> <td>6.53e+03</td>\n",
       "</tr>\n",
       "<tr>\n",
       "  <th>No. Iterations:</th>         <td>22</td>        <th>                     </th>     <td> </td>   \n",
       "</tr>\n",
       "<tr>\n",
       "  <th>Covariance Type:</th>     <td>nonrobust</td>    <th>                     </th>     <td> </td>   \n",
       "</tr>\n",
       "</table>\n",
       "<table class=\"simpletable\">\n",
       "<tr>\n",
       "                        <td></td>                          <th>coef</th>     <th>std err</th>      <th>z</th>      <th>P>|z|</th>  <th>[0.025</th>    <th>0.975]</th>  \n",
       "</tr>\n",
       "<tr>\n",
       "  <th>const</th>                                        <td>   -2.5570</td> <td>    0.153</td> <td>  -16.659</td> <td> 0.000</td> <td>   -2.858</td> <td>   -2.256</td>\n",
       "</tr>\n",
       "<tr>\n",
       "  <th>Do Not Email</th>                                 <td>   -1.1023</td> <td>    0.176</td> <td>   -6.276</td> <td> 0.000</td> <td>   -1.447</td> <td>   -0.758</td>\n",
       "</tr>\n",
       "<tr>\n",
       "  <th>TotalVisits</th>                                  <td>    1.7989</td> <td>    0.290</td> <td>    6.206</td> <td> 0.000</td> <td>    1.231</td> <td>    2.367</td>\n",
       "</tr>\n",
       "<tr>\n",
       "  <th>Total Time Spent on Website</th>                  <td>    4.5119</td> <td>    0.169</td> <td>   26.717</td> <td> 0.000</td> <td>    4.181</td> <td>    4.843</td>\n",
       "</tr>\n",
       "<tr>\n",
       "  <th>Page Views Per Visit</th>                         <td>   -0.8642</td> <td>    0.250</td> <td>   -3.453</td> <td> 0.001</td> <td>   -1.355</td> <td>   -0.374</td>\n",
       "</tr>\n",
       "<tr>\n",
       "  <th>Search</th>                                       <td>   -1.6356</td> <td>    1.011</td> <td>   -1.618</td> <td> 0.106</td> <td>   -3.617</td> <td>    0.346</td>\n",
       "</tr>\n",
       "<tr>\n",
       "  <th>LeadOrigin_Lead Add Form</th>                     <td>    3.0358</td> <td>    0.512</td> <td>    5.932</td> <td> 0.000</td> <td>    2.033</td> <td>    4.039</td>\n",
       "</tr>\n",
       "<tr>\n",
       "  <th>LeadSource_Olark Chat</th>                        <td>    1.4699</td> <td>    0.134</td> <td>   10.947</td> <td> 0.000</td> <td>    1.207</td> <td>    1.733</td>\n",
       "</tr>\n",
       "<tr>\n",
       "  <th>LeadSource_Reference</th>                         <td>    0.6403</td> <td>    0.540</td> <td>    1.185</td> <td> 0.236</td> <td>   -0.418</td> <td>    1.699</td>\n",
       "</tr>\n",
       "<tr>\n",
       "  <th>LeadSource_Welingak Website</th>                  <td>    2.6586</td> <td>    0.876</td> <td>    3.036</td> <td> 0.002</td> <td>    0.942</td> <td>    4.375</td>\n",
       "</tr>\n",
       "<tr>\n",
       "  <th>LastActivity_Approached upfront</th>              <td>   23.9469</td> <td> 2.63e+04</td> <td>    0.001</td> <td> 0.999</td> <td>-5.16e+04</td> <td> 5.17e+04</td>\n",
       "</tr>\n",
       "<tr>\n",
       "  <th>LastActivity_Email Opened</th>                    <td>    0.5394</td> <td>    0.117</td> <td>    4.599</td> <td> 0.000</td> <td>    0.310</td> <td>    0.769</td>\n",
       "</tr>\n",
       "<tr>\n",
       "  <th>LastActivity_Had a Phone Conversation</th>        <td>    1.1718</td> <td>    0.939</td> <td>    1.248</td> <td> 0.212</td> <td>   -0.668</td> <td>    3.011</td>\n",
       "</tr>\n",
       "<tr>\n",
       "  <th>LastActivity_Olark Chat Conversation</th>         <td>   -0.5893</td> <td>    0.190</td> <td>   -3.101</td> <td> 0.002</td> <td>   -0.962</td> <td>   -0.217</td>\n",
       "</tr>\n",
       "<tr>\n",
       "  <th>LastActivity_SMS Sent</th>                        <td>    1.7403</td> <td>    0.118</td> <td>   14.697</td> <td> 0.000</td> <td>    1.508</td> <td>    1.972</td>\n",
       "</tr>\n",
       "<tr>\n",
       "  <th>CurrentOccupation_Housewife</th>                  <td>   23.9667</td> <td> 2.43e+04</td> <td>    0.001</td> <td> 0.999</td> <td>-4.76e+04</td> <td> 4.76e+04</td>\n",
       "</tr>\n",
       "<tr>\n",
       "  <th>CurrentOccupation_No Information</th>             <td>   -1.2346</td> <td>    0.090</td> <td>  -13.681</td> <td> 0.000</td> <td>   -1.411</td> <td>   -1.058</td>\n",
       "</tr>\n",
       "<tr>\n",
       "  <th>CurrentOccupation_Working Professional</th>       <td>    2.6225</td> <td>    0.203</td> <td>   12.889</td> <td> 0.000</td> <td>    2.224</td> <td>    3.021</td>\n",
       "</tr>\n",
       "<tr>\n",
       "  <th>LastNotableActivity_Had a Phone Conversation</th> <td>    2.3799</td> <td>    1.501</td> <td>    1.585</td> <td> 0.113</td> <td>   -0.562</td> <td>    5.322</td>\n",
       "</tr>\n",
       "<tr>\n",
       "  <th>LastNotableActivity_Modified</th>                 <td>   -0.5521</td> <td>    0.090</td> <td>   -6.131</td> <td> 0.000</td> <td>   -0.729</td> <td>   -0.376</td>\n",
       "</tr>\n",
       "<tr>\n",
       "  <th>LastNotableActivity_Unreachable</th>              <td>    2.0387</td> <td>    0.556</td> <td>    3.665</td> <td> 0.000</td> <td>    0.948</td> <td>    3.129</td>\n",
       "</tr>\n",
       "</table>"
      ],
      "text/plain": [
       "<class 'statsmodels.iolib.summary.Summary'>\n",
       "\"\"\"\n",
       "                 Generalized Linear Model Regression Results                  \n",
       "==============================================================================\n",
       "Dep. Variable:              Converted   No. Observations:                 6320\n",
       "Model:                            GLM   Df Residuals:                     6299\n",
       "Model Family:                Binomial   Df Model:                           20\n",
       "Link Function:                  logit   Scale:                          1.0000\n",
       "Method:                          IRLS   Log-Likelihood:                -2501.1\n",
       "Date:                Wed, 08 Sep 2021   Deviance:                       5002.3\n",
       "Time:                        01:17:11   Pearson chi2:                 6.53e+03\n",
       "No. Iterations:                    22                                         \n",
       "Covariance Type:            nonrobust                                         \n",
       "================================================================================================================\n",
       "                                                   coef    std err          z      P>|z|      [0.025      0.975]\n",
       "----------------------------------------------------------------------------------------------------------------\n",
       "const                                           -2.5570      0.153    -16.659      0.000      -2.858      -2.256\n",
       "Do Not Email                                    -1.1023      0.176     -6.276      0.000      -1.447      -0.758\n",
       "TotalVisits                                      1.7989      0.290      6.206      0.000       1.231       2.367\n",
       "Total Time Spent on Website                      4.5119      0.169     26.717      0.000       4.181       4.843\n",
       "Page Views Per Visit                            -0.8642      0.250     -3.453      0.001      -1.355      -0.374\n",
       "Search                                          -1.6356      1.011     -1.618      0.106      -3.617       0.346\n",
       "LeadOrigin_Lead Add Form                         3.0358      0.512      5.932      0.000       2.033       4.039\n",
       "LeadSource_Olark Chat                            1.4699      0.134     10.947      0.000       1.207       1.733\n",
       "LeadSource_Reference                             0.6403      0.540      1.185      0.236      -0.418       1.699\n",
       "LeadSource_Welingak Website                      2.6586      0.876      3.036      0.002       0.942       4.375\n",
       "LastActivity_Approached upfront                 23.9469   2.63e+04      0.001      0.999   -5.16e+04    5.17e+04\n",
       "LastActivity_Email Opened                        0.5394      0.117      4.599      0.000       0.310       0.769\n",
       "LastActivity_Had a Phone Conversation            1.1718      0.939      1.248      0.212      -0.668       3.011\n",
       "LastActivity_Olark Chat Conversation            -0.5893      0.190     -3.101      0.002      -0.962      -0.217\n",
       "LastActivity_SMS Sent                            1.7403      0.118     14.697      0.000       1.508       1.972\n",
       "CurrentOccupation_Housewife                     23.9667   2.43e+04      0.001      0.999   -4.76e+04    4.76e+04\n",
       "CurrentOccupation_No Information                -1.2346      0.090    -13.681      0.000      -1.411      -1.058\n",
       "CurrentOccupation_Working Professional           2.6225      0.203     12.889      0.000       2.224       3.021\n",
       "LastNotableActivity_Had a Phone Conversation     2.3799      1.501      1.585      0.113      -0.562       5.322\n",
       "LastNotableActivity_Modified                    -0.5521      0.090     -6.131      0.000      -0.729      -0.376\n",
       "LastNotableActivity_Unreachable                  2.0387      0.556      3.665      0.000       0.948       3.129\n",
       "================================================================================================================\n",
       "\"\"\""
      ]
     },
     "execution_count": 79,
     "metadata": {},
     "output_type": "execute_result"
    }
   ],
   "source": [
    "X_train_sm = sm.add_constant(X_train[col])\n",
    "logm2 = sm.GLM(y_train,X_train_sm, family = sm.families.Binomial())\n",
    "res = logm2.fit()\n",
    "res.summary()"
   ]
  },
  {
   "cell_type": "markdown",
   "metadata": {},
   "source": [
    "Removing column LastActivity_Approached_Upfront as it has a high pvalue and hence is insignificant"
   ]
  },
  {
   "cell_type": "code",
   "execution_count": 80,
   "metadata": {},
   "outputs": [],
   "source": [
    "col = col.drop('LastActivity_Approached upfront',1)"
   ]
  },
  {
   "cell_type": "markdown",
   "metadata": {},
   "source": [
    "#### Rebuilding Model - Model 3"
   ]
  },
  {
   "cell_type": "code",
   "execution_count": 81,
   "metadata": {},
   "outputs": [
    {
     "data": {
      "text/html": [
       "<table class=\"simpletable\">\n",
       "<caption>Generalized Linear Model Regression Results</caption>\n",
       "<tr>\n",
       "  <th>Dep. Variable:</th>       <td>Converted</td>    <th>  No. Observations:  </th>  <td>  6320</td> \n",
       "</tr>\n",
       "<tr>\n",
       "  <th>Model:</th>                  <td>GLM</td>       <th>  Df Residuals:      </th>  <td>  6300</td> \n",
       "</tr>\n",
       "<tr>\n",
       "  <th>Model Family:</th>        <td>Binomial</td>     <th>  Df Model:          </th>  <td>    19</td> \n",
       "</tr>\n",
       "<tr>\n",
       "  <th>Link Function:</th>         <td>logit</td>      <th>  Scale:             </th> <td>  1.0000</td>\n",
       "</tr>\n",
       "<tr>\n",
       "  <th>Method:</th>                <td>IRLS</td>       <th>  Log-Likelihood:    </th> <td> -2506.6</td>\n",
       "</tr>\n",
       "<tr>\n",
       "  <th>Date:</th>            <td>Wed, 08 Sep 2021</td> <th>  Deviance:          </th> <td>  5013.2</td>\n",
       "</tr>\n",
       "<tr>\n",
       "  <th>Time:</th>                <td>01:17:11</td>     <th>  Pearson chi2:      </th> <td>6.53e+03</td>\n",
       "</tr>\n",
       "<tr>\n",
       "  <th>No. Iterations:</th>         <td>21</td>        <th>                     </th>     <td> </td>   \n",
       "</tr>\n",
       "<tr>\n",
       "  <th>Covariance Type:</th>     <td>nonrobust</td>    <th>                     </th>     <td> </td>   \n",
       "</tr>\n",
       "</table>\n",
       "<table class=\"simpletable\">\n",
       "<tr>\n",
       "                        <td></td>                          <th>coef</th>     <th>std err</th>      <th>z</th>      <th>P>|z|</th>  <th>[0.025</th>    <th>0.975]</th>  \n",
       "</tr>\n",
       "<tr>\n",
       "  <th>const</th>                                        <td>   -2.5414</td> <td>    0.153</td> <td>  -16.608</td> <td> 0.000</td> <td>   -2.841</td> <td>   -2.241</td>\n",
       "</tr>\n",
       "<tr>\n",
       "  <th>Do Not Email</th>                                 <td>   -1.1140</td> <td>    0.175</td> <td>   -6.350</td> <td> 0.000</td> <td>   -1.458</td> <td>   -0.770</td>\n",
       "</tr>\n",
       "<tr>\n",
       "  <th>TotalVisits</th>                                  <td>    1.7878</td> <td>    0.290</td> <td>    6.171</td> <td> 0.000</td> <td>    1.220</td> <td>    2.356</td>\n",
       "</tr>\n",
       "<tr>\n",
       "  <th>Total Time Spent on Website</th>                  <td>    4.5173</td> <td>    0.169</td> <td>   26.768</td> <td> 0.000</td> <td>    4.187</td> <td>    4.848</td>\n",
       "</tr>\n",
       "<tr>\n",
       "  <th>Page Views Per Visit</th>                         <td>   -0.8483</td> <td>    0.250</td> <td>   -3.393</td> <td> 0.001</td> <td>   -1.338</td> <td>   -0.358</td>\n",
       "</tr>\n",
       "<tr>\n",
       "  <th>Search</th>                                       <td>   -1.6363</td> <td>    1.012</td> <td>   -1.617</td> <td> 0.106</td> <td>   -3.620</td> <td>    0.347</td>\n",
       "</tr>\n",
       "<tr>\n",
       "  <th>LeadOrigin_Lead Add Form</th>                     <td>    3.0402</td> <td>    0.511</td> <td>    5.946</td> <td> 0.000</td> <td>    2.038</td> <td>    4.042</td>\n",
       "</tr>\n",
       "<tr>\n",
       "  <th>LeadSource_Olark Chat</th>                        <td>    1.4873</td> <td>    0.134</td> <td>   11.087</td> <td> 0.000</td> <td>    1.224</td> <td>    1.750</td>\n",
       "</tr>\n",
       "<tr>\n",
       "  <th>LeadSource_Reference</th>                         <td>    0.6399</td> <td>    0.540</td> <td>    1.186</td> <td> 0.236</td> <td>   -0.418</td> <td>    1.698</td>\n",
       "</tr>\n",
       "<tr>\n",
       "  <th>LeadSource_Welingak Website</th>                  <td>    2.6555</td> <td>    0.875</td> <td>    3.034</td> <td> 0.002</td> <td>    0.940</td> <td>    4.371</td>\n",
       "</tr>\n",
       "<tr>\n",
       "  <th>LastActivity_Email Opened</th>                    <td>    0.5164</td> <td>    0.117</td> <td>    4.424</td> <td> 0.000</td> <td>    0.288</td> <td>    0.745</td>\n",
       "</tr>\n",
       "<tr>\n",
       "  <th>LastActivity_Had a Phone Conversation</th>        <td>    1.1429</td> <td>    0.939</td> <td>    1.218</td> <td> 0.223</td> <td>   -0.697</td> <td>    2.982</td>\n",
       "</tr>\n",
       "<tr>\n",
       "  <th>LastActivity_Olark Chat Conversation</th>         <td>   -0.6220</td> <td>    0.190</td> <td>   -3.282</td> <td> 0.001</td> <td>   -0.994</td> <td>   -0.250</td>\n",
       "</tr>\n",
       "<tr>\n",
       "  <th>LastActivity_SMS Sent</th>                        <td>    1.7182</td> <td>    0.118</td> <td>   14.579</td> <td> 0.000</td> <td>    1.487</td> <td>    1.949</td>\n",
       "</tr>\n",
       "<tr>\n",
       "  <th>CurrentOccupation_Housewife</th>                  <td>   22.9568</td> <td> 1.47e+04</td> <td>    0.002</td> <td> 0.999</td> <td>-2.88e+04</td> <td> 2.89e+04</td>\n",
       "</tr>\n",
       "<tr>\n",
       "  <th>CurrentOccupation_No Information</th>             <td>   -1.2409</td> <td>    0.090</td> <td>  -13.758</td> <td> 0.000</td> <td>   -1.418</td> <td>   -1.064</td>\n",
       "</tr>\n",
       "<tr>\n",
       "  <th>CurrentOccupation_Working Professional</th>       <td>    2.6161</td> <td>    0.203</td> <td>   12.868</td> <td> 0.000</td> <td>    2.218</td> <td>    3.015</td>\n",
       "</tr>\n",
       "<tr>\n",
       "  <th>LastNotableActivity_Had a Phone Conversation</th> <td>    2.3908</td> <td>    1.501</td> <td>    1.592</td> <td> 0.111</td> <td>   -0.552</td> <td>    5.333</td>\n",
       "</tr>\n",
       "<tr>\n",
       "  <th>LastNotableActivity_Modified</th>                 <td>   -0.5431</td> <td>    0.090</td> <td>   -6.041</td> <td> 0.000</td> <td>   -0.719</td> <td>   -0.367</td>\n",
       "</tr>\n",
       "<tr>\n",
       "  <th>LastNotableActivity_Unreachable</th>              <td>    2.0197</td> <td>    0.556</td> <td>    3.630</td> <td> 0.000</td> <td>    0.929</td> <td>    3.110</td>\n",
       "</tr>\n",
       "</table>"
      ],
      "text/plain": [
       "<class 'statsmodels.iolib.summary.Summary'>\n",
       "\"\"\"\n",
       "                 Generalized Linear Model Regression Results                  \n",
       "==============================================================================\n",
       "Dep. Variable:              Converted   No. Observations:                 6320\n",
       "Model:                            GLM   Df Residuals:                     6300\n",
       "Model Family:                Binomial   Df Model:                           19\n",
       "Link Function:                  logit   Scale:                          1.0000\n",
       "Method:                          IRLS   Log-Likelihood:                -2506.6\n",
       "Date:                Wed, 08 Sep 2021   Deviance:                       5013.2\n",
       "Time:                        01:17:11   Pearson chi2:                 6.53e+03\n",
       "No. Iterations:                    21                                         \n",
       "Covariance Type:            nonrobust                                         \n",
       "================================================================================================================\n",
       "                                                   coef    std err          z      P>|z|      [0.025      0.975]\n",
       "----------------------------------------------------------------------------------------------------------------\n",
       "const                                           -2.5414      0.153    -16.608      0.000      -2.841      -2.241\n",
       "Do Not Email                                    -1.1140      0.175     -6.350      0.000      -1.458      -0.770\n",
       "TotalVisits                                      1.7878      0.290      6.171      0.000       1.220       2.356\n",
       "Total Time Spent on Website                      4.5173      0.169     26.768      0.000       4.187       4.848\n",
       "Page Views Per Visit                            -0.8483      0.250     -3.393      0.001      -1.338      -0.358\n",
       "Search                                          -1.6363      1.012     -1.617      0.106      -3.620       0.347\n",
       "LeadOrigin_Lead Add Form                         3.0402      0.511      5.946      0.000       2.038       4.042\n",
       "LeadSource_Olark Chat                            1.4873      0.134     11.087      0.000       1.224       1.750\n",
       "LeadSource_Reference                             0.6399      0.540      1.186      0.236      -0.418       1.698\n",
       "LeadSource_Welingak Website                      2.6555      0.875      3.034      0.002       0.940       4.371\n",
       "LastActivity_Email Opened                        0.5164      0.117      4.424      0.000       0.288       0.745\n",
       "LastActivity_Had a Phone Conversation            1.1429      0.939      1.218      0.223      -0.697       2.982\n",
       "LastActivity_Olark Chat Conversation            -0.6220      0.190     -3.282      0.001      -0.994      -0.250\n",
       "LastActivity_SMS Sent                            1.7182      0.118     14.579      0.000       1.487       1.949\n",
       "CurrentOccupation_Housewife                     22.9568   1.47e+04      0.002      0.999   -2.88e+04    2.89e+04\n",
       "CurrentOccupation_No Information                -1.2409      0.090    -13.758      0.000      -1.418      -1.064\n",
       "CurrentOccupation_Working Professional           2.6161      0.203     12.868      0.000       2.218       3.015\n",
       "LastNotableActivity_Had a Phone Conversation     2.3908      1.501      1.592      0.111      -0.552       5.333\n",
       "LastNotableActivity_Modified                    -0.5431      0.090     -6.041      0.000      -0.719      -0.367\n",
       "LastNotableActivity_Unreachable                  2.0197      0.556      3.630      0.000       0.929       3.110\n",
       "================================================================================================================\n",
       "\"\"\""
      ]
     },
     "execution_count": 81,
     "metadata": {},
     "output_type": "execute_result"
    }
   ],
   "source": [
    "X_train_sm = sm.add_constant(X_train[col])\n",
    "logm3 = sm.GLM(y_train,X_train_sm, family = sm.families.Binomial())\n",
    "res = logm3.fit()\n",
    "res.summary()"
   ]
  },
  {
   "cell_type": "markdown",
   "metadata": {},
   "source": [
    "Removing column CurrentOccupation_Housewife as it has a high pvalue and hence is insignificant"
   ]
  },
  {
   "cell_type": "code",
   "execution_count": 82,
   "metadata": {},
   "outputs": [],
   "source": [
    "col = col.drop('CurrentOccupation_Housewife',1)"
   ]
  },
  {
   "cell_type": "markdown",
   "metadata": {},
   "source": [
    "#### Rebuilding Model - Model 4"
   ]
  },
  {
   "cell_type": "code",
   "execution_count": 83,
   "metadata": {},
   "outputs": [
    {
     "data": {
      "text/html": [
       "<table class=\"simpletable\">\n",
       "<caption>Generalized Linear Model Regression Results</caption>\n",
       "<tr>\n",
       "  <th>Dep. Variable:</th>       <td>Converted</td>    <th>  No. Observations:  </th>  <td>  6320</td> \n",
       "</tr>\n",
       "<tr>\n",
       "  <th>Model:</th>                  <td>GLM</td>       <th>  Df Residuals:      </th>  <td>  6301</td> \n",
       "</tr>\n",
       "<tr>\n",
       "  <th>Model Family:</th>        <td>Binomial</td>     <th>  Df Model:          </th>  <td>    18</td> \n",
       "</tr>\n",
       "<tr>\n",
       "  <th>Link Function:</th>         <td>logit</td>      <th>  Scale:             </th> <td>  1.0000</td>\n",
       "</tr>\n",
       "<tr>\n",
       "  <th>Method:</th>                <td>IRLS</td>       <th>  Log-Likelihood:    </th> <td> -2513.3</td>\n",
       "</tr>\n",
       "<tr>\n",
       "  <th>Date:</th>            <td>Wed, 08 Sep 2021</td> <th>  Deviance:          </th> <td>  5026.7</td>\n",
       "</tr>\n",
       "<tr>\n",
       "  <th>Time:</th>                <td>01:17:11</td>     <th>  Pearson chi2:      </th> <td>6.54e+03</td>\n",
       "</tr>\n",
       "<tr>\n",
       "  <th>No. Iterations:</th>          <td>7</td>        <th>                     </th>     <td> </td>   \n",
       "</tr>\n",
       "<tr>\n",
       "  <th>Covariance Type:</th>     <td>nonrobust</td>    <th>                     </th>     <td> </td>   \n",
       "</tr>\n",
       "</table>\n",
       "<table class=\"simpletable\">\n",
       "<tr>\n",
       "                        <td></td>                          <th>coef</th>     <th>std err</th>      <th>z</th>      <th>P>|z|</th>  <th>[0.025</th>    <th>0.975]</th>  \n",
       "</tr>\n",
       "<tr>\n",
       "  <th>const</th>                                        <td>   -2.5270</td> <td>    0.153</td> <td>  -16.565</td> <td> 0.000</td> <td>   -2.826</td> <td>   -2.228</td>\n",
       "</tr>\n",
       "<tr>\n",
       "  <th>Do Not Email</th>                                 <td>   -1.1188</td> <td>    0.175</td> <td>   -6.380</td> <td> 0.000</td> <td>   -1.463</td> <td>   -0.775</td>\n",
       "</tr>\n",
       "<tr>\n",
       "  <th>TotalVisits</th>                                  <td>    1.7768</td> <td>    0.289</td> <td>    6.139</td> <td> 0.000</td> <td>    1.210</td> <td>    2.344</td>\n",
       "</tr>\n",
       "<tr>\n",
       "  <th>Total Time Spent on Website</th>                  <td>    4.5123</td> <td>    0.169</td> <td>   26.772</td> <td> 0.000</td> <td>    4.182</td> <td>    4.843</td>\n",
       "</tr>\n",
       "<tr>\n",
       "  <th>Page Views Per Visit</th>                         <td>   -0.8528</td> <td>    0.250</td> <td>   -3.414</td> <td> 0.001</td> <td>   -1.342</td> <td>   -0.363</td>\n",
       "</tr>\n",
       "<tr>\n",
       "  <th>Search</th>                                       <td>   -1.6358</td> <td>    1.011</td> <td>   -1.619</td> <td> 0.106</td> <td>   -3.617</td> <td>    0.345</td>\n",
       "</tr>\n",
       "<tr>\n",
       "  <th>LeadOrigin_Lead Add Form</th>                     <td>    3.0313</td> <td>    0.511</td> <td>    5.930</td> <td> 0.000</td> <td>    2.029</td> <td>    4.033</td>\n",
       "</tr>\n",
       "<tr>\n",
       "  <th>LeadSource_Olark Chat</th>                        <td>    1.4768</td> <td>    0.134</td> <td>   11.028</td> <td> 0.000</td> <td>    1.214</td> <td>    1.739</td>\n",
       "</tr>\n",
       "<tr>\n",
       "  <th>LeadSource_Reference</th>                         <td>    0.6579</td> <td>    0.539</td> <td>    1.220</td> <td> 0.223</td> <td>   -0.399</td> <td>    1.715</td>\n",
       "</tr>\n",
       "<tr>\n",
       "  <th>LeadSource_Welingak Website</th>                  <td>    2.6524</td> <td>    0.875</td> <td>    3.030</td> <td> 0.002</td> <td>    0.937</td> <td>    4.368</td>\n",
       "</tr>\n",
       "<tr>\n",
       "  <th>LastActivity_Email Opened</th>                    <td>    0.5166</td> <td>    0.116</td> <td>    4.440</td> <td> 0.000</td> <td>    0.289</td> <td>    0.745</td>\n",
       "</tr>\n",
       "<tr>\n",
       "  <th>LastActivity_Had a Phone Conversation</th>        <td>    1.1276</td> <td>    0.939</td> <td>    1.201</td> <td> 0.230</td> <td>   -0.712</td> <td>    2.967</td>\n",
       "</tr>\n",
       "<tr>\n",
       "  <th>LastActivity_Olark Chat Conversation</th>         <td>   -0.6290</td> <td>    0.189</td> <td>   -3.322</td> <td> 0.001</td> <td>   -1.000</td> <td>   -0.258</td>\n",
       "</tr>\n",
       "<tr>\n",
       "  <th>LastActivity_SMS Sent</th>                        <td>    1.7107</td> <td>    0.118</td> <td>   14.551</td> <td> 0.000</td> <td>    1.480</td> <td>    1.941</td>\n",
       "</tr>\n",
       "<tr>\n",
       "  <th>CurrentOccupation_No Information</th>             <td>   -1.2457</td> <td>    0.090</td> <td>  -13.822</td> <td> 0.000</td> <td>   -1.422</td> <td>   -1.069</td>\n",
       "</tr>\n",
       "<tr>\n",
       "  <th>CurrentOccupation_Working Professional</th>       <td>    2.6078</td> <td>    0.203</td> <td>   12.834</td> <td> 0.000</td> <td>    2.210</td> <td>    3.006</td>\n",
       "</tr>\n",
       "<tr>\n",
       "  <th>LastNotableActivity_Had a Phone Conversation</th> <td>    2.3999</td> <td>    1.501</td> <td>    1.598</td> <td> 0.110</td> <td>   -0.543</td> <td>    5.343</td>\n",
       "</tr>\n",
       "<tr>\n",
       "  <th>LastNotableActivity_Modified</th>                 <td>   -0.5378</td> <td>    0.090</td> <td>   -5.995</td> <td> 0.000</td> <td>   -0.714</td> <td>   -0.362</td>\n",
       "</tr>\n",
       "<tr>\n",
       "  <th>LastNotableActivity_Unreachable</th>              <td>    2.0149</td> <td>    0.556</td> <td>    3.621</td> <td> 0.000</td> <td>    0.924</td> <td>    3.105</td>\n",
       "</tr>\n",
       "</table>"
      ],
      "text/plain": [
       "<class 'statsmodels.iolib.summary.Summary'>\n",
       "\"\"\"\n",
       "                 Generalized Linear Model Regression Results                  \n",
       "==============================================================================\n",
       "Dep. Variable:              Converted   No. Observations:                 6320\n",
       "Model:                            GLM   Df Residuals:                     6301\n",
       "Model Family:                Binomial   Df Model:                           18\n",
       "Link Function:                  logit   Scale:                          1.0000\n",
       "Method:                          IRLS   Log-Likelihood:                -2513.3\n",
       "Date:                Wed, 08 Sep 2021   Deviance:                       5026.7\n",
       "Time:                        01:17:11   Pearson chi2:                 6.54e+03\n",
       "No. Iterations:                     7                                         \n",
       "Covariance Type:            nonrobust                                         \n",
       "================================================================================================================\n",
       "                                                   coef    std err          z      P>|z|      [0.025      0.975]\n",
       "----------------------------------------------------------------------------------------------------------------\n",
       "const                                           -2.5270      0.153    -16.565      0.000      -2.826      -2.228\n",
       "Do Not Email                                    -1.1188      0.175     -6.380      0.000      -1.463      -0.775\n",
       "TotalVisits                                      1.7768      0.289      6.139      0.000       1.210       2.344\n",
       "Total Time Spent on Website                      4.5123      0.169     26.772      0.000       4.182       4.843\n",
       "Page Views Per Visit                            -0.8528      0.250     -3.414      0.001      -1.342      -0.363\n",
       "Search                                          -1.6358      1.011     -1.619      0.106      -3.617       0.345\n",
       "LeadOrigin_Lead Add Form                         3.0313      0.511      5.930      0.000       2.029       4.033\n",
       "LeadSource_Olark Chat                            1.4768      0.134     11.028      0.000       1.214       1.739\n",
       "LeadSource_Reference                             0.6579      0.539      1.220      0.223      -0.399       1.715\n",
       "LeadSource_Welingak Website                      2.6524      0.875      3.030      0.002       0.937       4.368\n",
       "LastActivity_Email Opened                        0.5166      0.116      4.440      0.000       0.289       0.745\n",
       "LastActivity_Had a Phone Conversation            1.1276      0.939      1.201      0.230      -0.712       2.967\n",
       "LastActivity_Olark Chat Conversation            -0.6290      0.189     -3.322      0.001      -1.000      -0.258\n",
       "LastActivity_SMS Sent                            1.7107      0.118     14.551      0.000       1.480       1.941\n",
       "CurrentOccupation_No Information                -1.2457      0.090    -13.822      0.000      -1.422      -1.069\n",
       "CurrentOccupation_Working Professional           2.6078      0.203     12.834      0.000       2.210       3.006\n",
       "LastNotableActivity_Had a Phone Conversation     2.3999      1.501      1.598      0.110      -0.543       5.343\n",
       "LastNotableActivity_Modified                    -0.5378      0.090     -5.995      0.000      -0.714      -0.362\n",
       "LastNotableActivity_Unreachable                  2.0149      0.556      3.621      0.000       0.924       3.105\n",
       "================================================================================================================\n",
       "\"\"\""
      ]
     },
     "execution_count": 83,
     "metadata": {},
     "output_type": "execute_result"
    }
   ],
   "source": [
    "X_train_sm = sm.add_constant(X_train[col])\n",
    "logm4 = sm.GLM(y_train,X_train_sm, family = sm.families.Binomial())\n",
    "res = logm4.fit()\n",
    "res.summary()"
   ]
  },
  {
   "cell_type": "markdown",
   "metadata": {},
   "source": [
    "Removing column LastActivity_Had a Phone Conversation as it has high pvalue and hence is insignificant"
   ]
  },
  {
   "cell_type": "code",
   "execution_count": 84,
   "metadata": {},
   "outputs": [],
   "source": [
    "col = col.drop('LastActivity_Had a Phone Conversation',1)"
   ]
  },
  {
   "cell_type": "markdown",
   "metadata": {},
   "source": [
    "#### Rebuilding Model - Model 5"
   ]
  },
  {
   "cell_type": "code",
   "execution_count": 85,
   "metadata": {},
   "outputs": [
    {
     "data": {
      "text/html": [
       "<table class=\"simpletable\">\n",
       "<caption>Generalized Linear Model Regression Results</caption>\n",
       "<tr>\n",
       "  <th>Dep. Variable:</th>       <td>Converted</td>    <th>  No. Observations:  </th>  <td>  6320</td> \n",
       "</tr>\n",
       "<tr>\n",
       "  <th>Model:</th>                  <td>GLM</td>       <th>  Df Residuals:      </th>  <td>  6302</td> \n",
       "</tr>\n",
       "<tr>\n",
       "  <th>Model Family:</th>        <td>Binomial</td>     <th>  Df Model:          </th>  <td>    17</td> \n",
       "</tr>\n",
       "<tr>\n",
       "  <th>Link Function:</th>         <td>logit</td>      <th>  Scale:             </th> <td>  1.0000</td>\n",
       "</tr>\n",
       "<tr>\n",
       "  <th>Method:</th>                <td>IRLS</td>       <th>  Log-Likelihood:    </th> <td> -2514.1</td>\n",
       "</tr>\n",
       "<tr>\n",
       "  <th>Date:</th>            <td>Wed, 08 Sep 2021</td> <th>  Deviance:          </th> <td>  5028.2</td>\n",
       "</tr>\n",
       "<tr>\n",
       "  <th>Time:</th>                <td>01:17:11</td>     <th>  Pearson chi2:      </th> <td>6.30e+03</td>\n",
       "</tr>\n",
       "<tr>\n",
       "  <th>No. Iterations:</th>          <td>7</td>        <th>                     </th>     <td> </td>   \n",
       "</tr>\n",
       "<tr>\n",
       "  <th>Covariance Type:</th>     <td>nonrobust</td>    <th>                     </th>     <td> </td>   \n",
       "</tr>\n",
       "</table>\n",
       "<table class=\"simpletable\">\n",
       "<tr>\n",
       "                        <td></td>                          <th>coef</th>     <th>std err</th>      <th>z</th>      <th>P>|z|</th>  <th>[0.025</th>    <th>0.975]</th>  \n",
       "</tr>\n",
       "<tr>\n",
       "  <th>const</th>                                        <td>   -2.5174</td> <td>    0.152</td> <td>  -16.541</td> <td> 0.000</td> <td>   -2.816</td> <td>   -2.219</td>\n",
       "</tr>\n",
       "<tr>\n",
       "  <th>Do Not Email</th>                                 <td>   -1.1242</td> <td>    0.175</td> <td>   -6.414</td> <td> 0.000</td> <td>   -1.468</td> <td>   -0.781</td>\n",
       "</tr>\n",
       "<tr>\n",
       "  <th>TotalVisits</th>                                  <td>    1.7711</td> <td>    0.289</td> <td>    6.122</td> <td> 0.000</td> <td>    1.204</td> <td>    2.338</td>\n",
       "</tr>\n",
       "<tr>\n",
       "  <th>Total Time Spent on Website</th>                  <td>    4.5135</td> <td>    0.169</td> <td>   26.784</td> <td> 0.000</td> <td>    4.183</td> <td>    4.844</td>\n",
       "</tr>\n",
       "<tr>\n",
       "  <th>Page Views Per Visit</th>                         <td>   -0.8513</td> <td>    0.250</td> <td>   -3.409</td> <td> 0.001</td> <td>   -1.341</td> <td>   -0.362</td>\n",
       "</tr>\n",
       "<tr>\n",
       "  <th>Search</th>                                       <td>   -1.6344</td> <td>    1.011</td> <td>   -1.617</td> <td> 0.106</td> <td>   -3.615</td> <td>    0.346</td>\n",
       "</tr>\n",
       "<tr>\n",
       "  <th>LeadOrigin_Lead Add Form</th>                     <td>    3.0307</td> <td>    0.511</td> <td>    5.931</td> <td> 0.000</td> <td>    2.029</td> <td>    4.032</td>\n",
       "</tr>\n",
       "<tr>\n",
       "  <th>LeadSource_Olark Chat</th>                        <td>    1.4756</td> <td>    0.134</td> <td>   11.022</td> <td> 0.000</td> <td>    1.213</td> <td>    1.738</td>\n",
       "</tr>\n",
       "<tr>\n",
       "  <th>LeadSource_Reference</th>                         <td>    0.6636</td> <td>    0.539</td> <td>    1.231</td> <td> 0.219</td> <td>   -0.393</td> <td>    1.721</td>\n",
       "</tr>\n",
       "<tr>\n",
       "  <th>LeadSource_Welingak Website</th>                  <td>    2.6507</td> <td>    0.875</td> <td>    3.029</td> <td> 0.002</td> <td>    0.935</td> <td>    4.366</td>\n",
       "</tr>\n",
       "<tr>\n",
       "  <th>LastActivity_Email Opened</th>                    <td>    0.5072</td> <td>    0.116</td> <td>    4.373</td> <td> 0.000</td> <td>    0.280</td> <td>    0.735</td>\n",
       "</tr>\n",
       "<tr>\n",
       "  <th>LastActivity_Olark Chat Conversation</th>         <td>   -0.6397</td> <td>    0.189</td> <td>   -3.383</td> <td> 0.001</td> <td>   -1.010</td> <td>   -0.269</td>\n",
       "</tr>\n",
       "<tr>\n",
       "  <th>LastActivity_SMS Sent</th>                        <td>    1.7015</td> <td>    0.117</td> <td>   14.517</td> <td> 0.000</td> <td>    1.472</td> <td>    1.931</td>\n",
       "</tr>\n",
       "<tr>\n",
       "  <th>CurrentOccupation_No Information</th>             <td>   -1.2474</td> <td>    0.090</td> <td>  -13.845</td> <td> 0.000</td> <td>   -1.424</td> <td>   -1.071</td>\n",
       "</tr>\n",
       "<tr>\n",
       "  <th>CurrentOccupation_Working Professional</th>       <td>    2.6117</td> <td>    0.203</td> <td>   12.860</td> <td> 0.000</td> <td>    2.214</td> <td>    3.010</td>\n",
       "</tr>\n",
       "<tr>\n",
       "  <th>LastNotableActivity_Had a Phone Conversation</th> <td>    3.5194</td> <td>    1.177</td> <td>    2.989</td> <td> 0.003</td> <td>    1.212</td> <td>    5.827</td>\n",
       "</tr>\n",
       "<tr>\n",
       "  <th>LastNotableActivity_Modified</th>                 <td>   -0.5343</td> <td>    0.090</td> <td>   -5.961</td> <td> 0.000</td> <td>   -0.710</td> <td>   -0.359</td>\n",
       "</tr>\n",
       "<tr>\n",
       "  <th>LastNotableActivity_Unreachable</th>              <td>    2.0066</td> <td>    0.556</td> <td>    3.606</td> <td> 0.000</td> <td>    0.916</td> <td>    3.097</td>\n",
       "</tr>\n",
       "</table>"
      ],
      "text/plain": [
       "<class 'statsmodels.iolib.summary.Summary'>\n",
       "\"\"\"\n",
       "                 Generalized Linear Model Regression Results                  \n",
       "==============================================================================\n",
       "Dep. Variable:              Converted   No. Observations:                 6320\n",
       "Model:                            GLM   Df Residuals:                     6302\n",
       "Model Family:                Binomial   Df Model:                           17\n",
       "Link Function:                  logit   Scale:                          1.0000\n",
       "Method:                          IRLS   Log-Likelihood:                -2514.1\n",
       "Date:                Wed, 08 Sep 2021   Deviance:                       5028.2\n",
       "Time:                        01:17:11   Pearson chi2:                 6.30e+03\n",
       "No. Iterations:                     7                                         \n",
       "Covariance Type:            nonrobust                                         \n",
       "================================================================================================================\n",
       "                                                   coef    std err          z      P>|z|      [0.025      0.975]\n",
       "----------------------------------------------------------------------------------------------------------------\n",
       "const                                           -2.5174      0.152    -16.541      0.000      -2.816      -2.219\n",
       "Do Not Email                                    -1.1242      0.175     -6.414      0.000      -1.468      -0.781\n",
       "TotalVisits                                      1.7711      0.289      6.122      0.000       1.204       2.338\n",
       "Total Time Spent on Website                      4.5135      0.169     26.784      0.000       4.183       4.844\n",
       "Page Views Per Visit                            -0.8513      0.250     -3.409      0.001      -1.341      -0.362\n",
       "Search                                          -1.6344      1.011     -1.617      0.106      -3.615       0.346\n",
       "LeadOrigin_Lead Add Form                         3.0307      0.511      5.931      0.000       2.029       4.032\n",
       "LeadSource_Olark Chat                            1.4756      0.134     11.022      0.000       1.213       1.738\n",
       "LeadSource_Reference                             0.6636      0.539      1.231      0.219      -0.393       1.721\n",
       "LeadSource_Welingak Website                      2.6507      0.875      3.029      0.002       0.935       4.366\n",
       "LastActivity_Email Opened                        0.5072      0.116      4.373      0.000       0.280       0.735\n",
       "LastActivity_Olark Chat Conversation            -0.6397      0.189     -3.383      0.001      -1.010      -0.269\n",
       "LastActivity_SMS Sent                            1.7015      0.117     14.517      0.000       1.472       1.931\n",
       "CurrentOccupation_No Information                -1.2474      0.090    -13.845      0.000      -1.424      -1.071\n",
       "CurrentOccupation_Working Professional           2.6117      0.203     12.860      0.000       2.214       3.010\n",
       "LastNotableActivity_Had a Phone Conversation     3.5194      1.177      2.989      0.003       1.212       5.827\n",
       "LastNotableActivity_Modified                    -0.5343      0.090     -5.961      0.000      -0.710      -0.359\n",
       "LastNotableActivity_Unreachable                  2.0066      0.556      3.606      0.000       0.916       3.097\n",
       "================================================================================================================\n",
       "\"\"\""
      ]
     },
     "execution_count": 85,
     "metadata": {},
     "output_type": "execute_result"
    }
   ],
   "source": [
    "X_train_sm = sm.add_constant(X_train[col])\n",
    "logm5 = sm.GLM(y_train,X_train_sm, family = sm.families.Binomial())\n",
    "res = logm5.fit()\n",
    "res.summary()"
   ]
  },
  {
   "cell_type": "markdown",
   "metadata": {},
   "source": [
    "Removing column Search as it has high pvalue and hence is insignificant "
   ]
  },
  {
   "cell_type": "code",
   "execution_count": 86,
   "metadata": {},
   "outputs": [],
   "source": [
    "col = col.drop('Search',1)"
   ]
  },
  {
   "cell_type": "markdown",
   "metadata": {},
   "source": [
    "#### Rebuilding Model - Model 6"
   ]
  },
  {
   "cell_type": "code",
   "execution_count": 87,
   "metadata": {},
   "outputs": [
    {
     "data": {
      "text/html": [
       "<table class=\"simpletable\">\n",
       "<caption>Generalized Linear Model Regression Results</caption>\n",
       "<tr>\n",
       "  <th>Dep. Variable:</th>       <td>Converted</td>    <th>  No. Observations:  </th>  <td>  6320</td> \n",
       "</tr>\n",
       "<tr>\n",
       "  <th>Model:</th>                  <td>GLM</td>       <th>  Df Residuals:      </th>  <td>  6303</td> \n",
       "</tr>\n",
       "<tr>\n",
       "  <th>Model Family:</th>        <td>Binomial</td>     <th>  Df Model:          </th>  <td>    16</td> \n",
       "</tr>\n",
       "<tr>\n",
       "  <th>Link Function:</th>         <td>logit</td>      <th>  Scale:             </th> <td>  1.0000</td>\n",
       "</tr>\n",
       "<tr>\n",
       "  <th>Method:</th>                <td>IRLS</td>       <th>  Log-Likelihood:    </th> <td> -2515.5</td>\n",
       "</tr>\n",
       "<tr>\n",
       "  <th>Date:</th>            <td>Wed, 08 Sep 2021</td> <th>  Deviance:          </th> <td>  5031.1</td>\n",
       "</tr>\n",
       "<tr>\n",
       "  <th>Time:</th>                <td>01:17:12</td>     <th>  Pearson chi2:      </th> <td>6.29e+03</td>\n",
       "</tr>\n",
       "<tr>\n",
       "  <th>No. Iterations:</th>          <td>7</td>        <th>                     </th>     <td> </td>   \n",
       "</tr>\n",
       "<tr>\n",
       "  <th>Covariance Type:</th>     <td>nonrobust</td>    <th>                     </th>     <td> </td>   \n",
       "</tr>\n",
       "</table>\n",
       "<table class=\"simpletable\">\n",
       "<tr>\n",
       "                        <td></td>                          <th>coef</th>     <th>std err</th>      <th>z</th>      <th>P>|z|</th>  <th>[0.025</th>    <th>0.975]</th>  \n",
       "</tr>\n",
       "<tr>\n",
       "  <th>const</th>                                        <td>   -2.5068</td> <td>    0.152</td> <td>  -16.490</td> <td> 0.000</td> <td>   -2.805</td> <td>   -2.209</td>\n",
       "</tr>\n",
       "<tr>\n",
       "  <th>Do Not Email</th>                                 <td>   -1.1236</td> <td>    0.175</td> <td>   -6.412</td> <td> 0.000</td> <td>   -1.467</td> <td>   -0.780</td>\n",
       "</tr>\n",
       "<tr>\n",
       "  <th>TotalVisits</th>                                  <td>    1.7427</td> <td>    0.289</td> <td>    6.034</td> <td> 0.000</td> <td>    1.177</td> <td>    2.309</td>\n",
       "</tr>\n",
       "<tr>\n",
       "  <th>Total Time Spent on Website</th>                  <td>    4.5106</td> <td>    0.168</td> <td>   26.777</td> <td> 0.000</td> <td>    4.180</td> <td>    4.841</td>\n",
       "</tr>\n",
       "<tr>\n",
       "  <th>Page Views Per Visit</th>                         <td>   -0.8595</td> <td>    0.250</td> <td>   -3.444</td> <td> 0.001</td> <td>   -1.349</td> <td>   -0.370</td>\n",
       "</tr>\n",
       "<tr>\n",
       "  <th>LeadOrigin_Lead Add Form</th>                     <td>    3.0233</td> <td>    0.511</td> <td>    5.916</td> <td> 0.000</td> <td>    2.022</td> <td>    4.025</td>\n",
       "</tr>\n",
       "<tr>\n",
       "  <th>LeadSource_Olark Chat</th>                        <td>    1.4665</td> <td>    0.134</td> <td>   10.959</td> <td> 0.000</td> <td>    1.204</td> <td>    1.729</td>\n",
       "</tr>\n",
       "<tr>\n",
       "  <th>LeadSource_Reference</th>                         <td>    0.6638</td> <td>    0.539</td> <td>    1.231</td> <td> 0.218</td> <td>   -0.393</td> <td>    1.721</td>\n",
       "</tr>\n",
       "<tr>\n",
       "  <th>LeadSource_Welingak Website</th>                  <td>    2.6503</td> <td>    0.875</td> <td>    3.028</td> <td> 0.002</td> <td>    0.935</td> <td>    4.366</td>\n",
       "</tr>\n",
       "<tr>\n",
       "  <th>LastActivity_Email Opened</th>                    <td>    0.5029</td> <td>    0.116</td> <td>    4.339</td> <td> 0.000</td> <td>    0.276</td> <td>    0.730</td>\n",
       "</tr>\n",
       "<tr>\n",
       "  <th>LastActivity_Olark Chat Conversation</th>         <td>   -0.6411</td> <td>    0.189</td> <td>   -3.392</td> <td> 0.001</td> <td>   -1.012</td> <td>   -0.271</td>\n",
       "</tr>\n",
       "<tr>\n",
       "  <th>LastActivity_SMS Sent</th>                        <td>    1.6997</td> <td>    0.117</td> <td>   14.509</td> <td> 0.000</td> <td>    1.470</td> <td>    1.929</td>\n",
       "</tr>\n",
       "<tr>\n",
       "  <th>CurrentOccupation_No Information</th>             <td>   -1.2448</td> <td>    0.090</td> <td>  -13.822</td> <td> 0.000</td> <td>   -1.421</td> <td>   -1.068</td>\n",
       "</tr>\n",
       "<tr>\n",
       "  <th>CurrentOccupation_Working Professional</th>       <td>    2.6096</td> <td>    0.203</td> <td>   12.849</td> <td> 0.000</td> <td>    2.212</td> <td>    3.008</td>\n",
       "</tr>\n",
       "<tr>\n",
       "  <th>LastNotableActivity_Had a Phone Conversation</th> <td>    3.5217</td> <td>    1.177</td> <td>    2.993</td> <td> 0.003</td> <td>    1.216</td> <td>    5.828</td>\n",
       "</tr>\n",
       "<tr>\n",
       "  <th>LastNotableActivity_Modified</th>                 <td>   -0.5334</td> <td>    0.090</td> <td>   -5.952</td> <td> 0.000</td> <td>   -0.709</td> <td>   -0.358</td>\n",
       "</tr>\n",
       "<tr>\n",
       "  <th>LastNotableActivity_Unreachable</th>              <td>    2.0070</td> <td>    0.556</td> <td>    3.608</td> <td> 0.000</td> <td>    0.917</td> <td>    3.097</td>\n",
       "</tr>\n",
       "</table>"
      ],
      "text/plain": [
       "<class 'statsmodels.iolib.summary.Summary'>\n",
       "\"\"\"\n",
       "                 Generalized Linear Model Regression Results                  \n",
       "==============================================================================\n",
       "Dep. Variable:              Converted   No. Observations:                 6320\n",
       "Model:                            GLM   Df Residuals:                     6303\n",
       "Model Family:                Binomial   Df Model:                           16\n",
       "Link Function:                  logit   Scale:                          1.0000\n",
       "Method:                          IRLS   Log-Likelihood:                -2515.5\n",
       "Date:                Wed, 08 Sep 2021   Deviance:                       5031.1\n",
       "Time:                        01:17:12   Pearson chi2:                 6.29e+03\n",
       "No. Iterations:                     7                                         \n",
       "Covariance Type:            nonrobust                                         \n",
       "================================================================================================================\n",
       "                                                   coef    std err          z      P>|z|      [0.025      0.975]\n",
       "----------------------------------------------------------------------------------------------------------------\n",
       "const                                           -2.5068      0.152    -16.490      0.000      -2.805      -2.209\n",
       "Do Not Email                                    -1.1236      0.175     -6.412      0.000      -1.467      -0.780\n",
       "TotalVisits                                      1.7427      0.289      6.034      0.000       1.177       2.309\n",
       "Total Time Spent on Website                      4.5106      0.168     26.777      0.000       4.180       4.841\n",
       "Page Views Per Visit                            -0.8595      0.250     -3.444      0.001      -1.349      -0.370\n",
       "LeadOrigin_Lead Add Form                         3.0233      0.511      5.916      0.000       2.022       4.025\n",
       "LeadSource_Olark Chat                            1.4665      0.134     10.959      0.000       1.204       1.729\n",
       "LeadSource_Reference                             0.6638      0.539      1.231      0.218      -0.393       1.721\n",
       "LeadSource_Welingak Website                      2.6503      0.875      3.028      0.002       0.935       4.366\n",
       "LastActivity_Email Opened                        0.5029      0.116      4.339      0.000       0.276       0.730\n",
       "LastActivity_Olark Chat Conversation            -0.6411      0.189     -3.392      0.001      -1.012      -0.271\n",
       "LastActivity_SMS Sent                            1.6997      0.117     14.509      0.000       1.470       1.929\n",
       "CurrentOccupation_No Information                -1.2448      0.090    -13.822      0.000      -1.421      -1.068\n",
       "CurrentOccupation_Working Professional           2.6096      0.203     12.849      0.000       2.212       3.008\n",
       "LastNotableActivity_Had a Phone Conversation     3.5217      1.177      2.993      0.003       1.216       5.828\n",
       "LastNotableActivity_Modified                    -0.5334      0.090     -5.952      0.000      -0.709      -0.358\n",
       "LastNotableActivity_Unreachable                  2.0070      0.556      3.608      0.000       0.917       3.097\n",
       "================================================================================================================\n",
       "\"\"\""
      ]
     },
     "execution_count": 87,
     "metadata": {},
     "output_type": "execute_result"
    }
   ],
   "source": [
    "X_train_sm = sm.add_constant(X_train[col])\n",
    "logm6 = sm.GLM(y_train,X_train_sm, family = sm.families.Binomial())\n",
    "res = logm6.fit()\n",
    "res.summary()"
   ]
  },
  {
   "cell_type": "markdown",
   "metadata": {},
   "source": [
    "Removing column LeadOrigin_API as it has high pvalue and hence insignificant"
   ]
  },
  {
   "cell_type": "code",
   "execution_count": 88,
   "metadata": {},
   "outputs": [],
   "source": [
    "col = col.drop('LeadSource_Welingak Website',1)"
   ]
  },
  {
   "cell_type": "markdown",
   "metadata": {},
   "source": [
    "#### Rebuilding Model - Model 7"
   ]
  },
  {
   "cell_type": "code",
   "execution_count": 89,
   "metadata": {},
   "outputs": [
    {
     "data": {
      "text/html": [
       "<table class=\"simpletable\">\n",
       "<caption>Generalized Linear Model Regression Results</caption>\n",
       "<tr>\n",
       "  <th>Dep. Variable:</th>       <td>Converted</td>    <th>  No. Observations:  </th>  <td>  6320</td> \n",
       "</tr>\n",
       "<tr>\n",
       "  <th>Model:</th>                  <td>GLM</td>       <th>  Df Residuals:      </th>  <td>  6304</td> \n",
       "</tr>\n",
       "<tr>\n",
       "  <th>Model Family:</th>        <td>Binomial</td>     <th>  Df Model:          </th>  <td>    15</td> \n",
       "</tr>\n",
       "<tr>\n",
       "  <th>Link Function:</th>         <td>logit</td>      <th>  Scale:             </th> <td>  1.0000</td>\n",
       "</tr>\n",
       "<tr>\n",
       "  <th>Method:</th>                <td>IRLS</td>       <th>  Log-Likelihood:    </th> <td> -2520.9</td>\n",
       "</tr>\n",
       "<tr>\n",
       "  <th>Date:</th>            <td>Wed, 08 Sep 2021</td> <th>  Deviance:          </th> <td>  5041.8</td>\n",
       "</tr>\n",
       "<tr>\n",
       "  <th>Time:</th>                <td>01:17:12</td>     <th>  Pearson chi2:      </th> <td>6.32e+03</td>\n",
       "</tr>\n",
       "<tr>\n",
       "  <th>No. Iterations:</th>          <td>6</td>        <th>                     </th>     <td> </td>   \n",
       "</tr>\n",
       "<tr>\n",
       "  <th>Covariance Type:</th>     <td>nonrobust</td>    <th>                     </th>     <td> </td>   \n",
       "</tr>\n",
       "</table>\n",
       "<table class=\"simpletable\">\n",
       "<tr>\n",
       "                        <td></td>                          <th>coef</th>     <th>std err</th>      <th>z</th>      <th>P>|z|</th>  <th>[0.025</th>    <th>0.975]</th>  \n",
       "</tr>\n",
       "<tr>\n",
       "  <th>const</th>                                        <td>   -2.4996</td> <td>    0.152</td> <td>  -16.460</td> <td> 0.000</td> <td>   -2.797</td> <td>   -2.202</td>\n",
       "</tr>\n",
       "<tr>\n",
       "  <th>Do Not Email</th>                                 <td>   -1.1573</td> <td>    0.176</td> <td>   -6.577</td> <td> 0.000</td> <td>   -1.502</td> <td>   -0.812</td>\n",
       "</tr>\n",
       "<tr>\n",
       "  <th>TotalVisits</th>                                  <td>    1.7357</td> <td>    0.289</td> <td>    6.009</td> <td> 0.000</td> <td>    1.170</td> <td>    2.302</td>\n",
       "</tr>\n",
       "<tr>\n",
       "  <th>Total Time Spent on Website</th>                  <td>    4.5107</td> <td>    0.168</td> <td>   26.777</td> <td> 0.000</td> <td>    4.181</td> <td>    4.841</td>\n",
       "</tr>\n",
       "<tr>\n",
       "  <th>Page Views Per Visit</th>                         <td>   -0.8631</td> <td>    0.250</td> <td>   -3.458</td> <td> 0.001</td> <td>   -1.352</td> <td>   -0.374</td>\n",
       "</tr>\n",
       "<tr>\n",
       "  <th>LeadOrigin_Lead Add Form</th>                     <td>    4.5065</td> <td>    0.389</td> <td>   11.592</td> <td> 0.000</td> <td>    3.745</td> <td>    5.268</td>\n",
       "</tr>\n",
       "<tr>\n",
       "  <th>LeadSource_Olark Chat</th>                        <td>    1.4617</td> <td>    0.134</td> <td>   10.924</td> <td> 0.000</td> <td>    1.199</td> <td>    1.724</td>\n",
       "</tr>\n",
       "<tr>\n",
       "  <th>LeadSource_Reference</th>                         <td>   -0.8220</td> <td>    0.425</td> <td>   -1.936</td> <td> 0.053</td> <td>   -1.654</td> <td>    0.010</td>\n",
       "</tr>\n",
       "<tr>\n",
       "  <th>LastActivity_Email Opened</th>                    <td>    0.5012</td> <td>    0.116</td> <td>    4.332</td> <td> 0.000</td> <td>    0.274</td> <td>    0.728</td>\n",
       "</tr>\n",
       "<tr>\n",
       "  <th>LastActivity_Olark Chat Conversation</th>         <td>   -0.6394</td> <td>    0.189</td> <td>   -3.390</td> <td> 0.001</td> <td>   -1.009</td> <td>   -0.270</td>\n",
       "</tr>\n",
       "<tr>\n",
       "  <th>LastActivity_SMS Sent</th>                        <td>    1.6965</td> <td>    0.117</td> <td>   14.506</td> <td> 0.000</td> <td>    1.467</td> <td>    1.926</td>\n",
       "</tr>\n",
       "<tr>\n",
       "  <th>CurrentOccupation_No Information</th>             <td>   -1.2449</td> <td>    0.090</td> <td>  -13.823</td> <td> 0.000</td> <td>   -1.421</td> <td>   -1.068</td>\n",
       "</tr>\n",
       "<tr>\n",
       "  <th>CurrentOccupation_Working Professional</th>       <td>    2.6085</td> <td>    0.203</td> <td>   12.838</td> <td> 0.000</td> <td>    2.210</td> <td>    3.007</td>\n",
       "</tr>\n",
       "<tr>\n",
       "  <th>LastNotableActivity_Had a Phone Conversation</th> <td>    3.5186</td> <td>    1.176</td> <td>    2.991</td> <td> 0.003</td> <td>    1.213</td> <td>    5.824</td>\n",
       "</tr>\n",
       "<tr>\n",
       "  <th>LastNotableActivity_Modified</th>                 <td>   -0.5346</td> <td>    0.089</td> <td>   -5.974</td> <td> 0.000</td> <td>   -0.710</td> <td>   -0.359</td>\n",
       "</tr>\n",
       "<tr>\n",
       "  <th>LastNotableActivity_Unreachable</th>              <td>    2.0038</td> <td>    0.556</td> <td>    3.602</td> <td> 0.000</td> <td>    0.914</td> <td>    3.094</td>\n",
       "</tr>\n",
       "</table>"
      ],
      "text/plain": [
       "<class 'statsmodels.iolib.summary.Summary'>\n",
       "\"\"\"\n",
       "                 Generalized Linear Model Regression Results                  \n",
       "==============================================================================\n",
       "Dep. Variable:              Converted   No. Observations:                 6320\n",
       "Model:                            GLM   Df Residuals:                     6304\n",
       "Model Family:                Binomial   Df Model:                           15\n",
       "Link Function:                  logit   Scale:                          1.0000\n",
       "Method:                          IRLS   Log-Likelihood:                -2520.9\n",
       "Date:                Wed, 08 Sep 2021   Deviance:                       5041.8\n",
       "Time:                        01:17:12   Pearson chi2:                 6.32e+03\n",
       "No. Iterations:                     6                                         \n",
       "Covariance Type:            nonrobust                                         \n",
       "================================================================================================================\n",
       "                                                   coef    std err          z      P>|z|      [0.025      0.975]\n",
       "----------------------------------------------------------------------------------------------------------------\n",
       "const                                           -2.4996      0.152    -16.460      0.000      -2.797      -2.202\n",
       "Do Not Email                                    -1.1573      0.176     -6.577      0.000      -1.502      -0.812\n",
       "TotalVisits                                      1.7357      0.289      6.009      0.000       1.170       2.302\n",
       "Total Time Spent on Website                      4.5107      0.168     26.777      0.000       4.181       4.841\n",
       "Page Views Per Visit                            -0.8631      0.250     -3.458      0.001      -1.352      -0.374\n",
       "LeadOrigin_Lead Add Form                         4.5065      0.389     11.592      0.000       3.745       5.268\n",
       "LeadSource_Olark Chat                            1.4617      0.134     10.924      0.000       1.199       1.724\n",
       "LeadSource_Reference                            -0.8220      0.425     -1.936      0.053      -1.654       0.010\n",
       "LastActivity_Email Opened                        0.5012      0.116      4.332      0.000       0.274       0.728\n",
       "LastActivity_Olark Chat Conversation            -0.6394      0.189     -3.390      0.001      -1.009      -0.270\n",
       "LastActivity_SMS Sent                            1.6965      0.117     14.506      0.000       1.467       1.926\n",
       "CurrentOccupation_No Information                -1.2449      0.090    -13.823      0.000      -1.421      -1.068\n",
       "CurrentOccupation_Working Professional           2.6085      0.203     12.838      0.000       2.210       3.007\n",
       "LastNotableActivity_Had a Phone Conversation     3.5186      1.176      2.991      0.003       1.213       5.824\n",
       "LastNotableActivity_Modified                    -0.5346      0.089     -5.974      0.000      -0.710      -0.359\n",
       "LastNotableActivity_Unreachable                  2.0038      0.556      3.602      0.000       0.914       3.094\n",
       "================================================================================================================\n",
       "\"\"\""
      ]
     },
     "execution_count": 89,
     "metadata": {},
     "output_type": "execute_result"
    }
   ],
   "source": [
    "X_train_sm = sm.add_constant(X_train[col])\n",
    "logm7 = sm.GLM(y_train,X_train_sm, family = sm.families.Binomial())\n",
    "res = logm7.fit()\n",
    "res.summary()"
   ]
  },
  {
   "cell_type": "markdown",
   "metadata": {},
   "source": [
    "Removing column LeadSource_Reference as it has high pvalue and hence insignificant"
   ]
  },
  {
   "cell_type": "code",
   "execution_count": 90,
   "metadata": {},
   "outputs": [],
   "source": [
    "col = col.drop('LeadSource_Reference',1)"
   ]
  },
  {
   "cell_type": "code",
   "execution_count": 91,
   "metadata": {},
   "outputs": [],
   "source": [
    "#### Rebuilding Model - Model 8"
   ]
  },
  {
   "cell_type": "code",
   "execution_count": 92,
   "metadata": {},
   "outputs": [
    {
     "data": {
      "text/html": [
       "<table class=\"simpletable\">\n",
       "<caption>Generalized Linear Model Regression Results</caption>\n",
       "<tr>\n",
       "  <th>Dep. Variable:</th>       <td>Converted</td>    <th>  No. Observations:  </th>  <td>  6320</td> \n",
       "</tr>\n",
       "<tr>\n",
       "  <th>Model:</th>                  <td>GLM</td>       <th>  Df Residuals:      </th>  <td>  6305</td> \n",
       "</tr>\n",
       "<tr>\n",
       "  <th>Model Family:</th>        <td>Binomial</td>     <th>  Df Model:          </th>  <td>    14</td> \n",
       "</tr>\n",
       "<tr>\n",
       "  <th>Link Function:</th>         <td>logit</td>      <th>  Scale:             </th> <td>  1.0000</td>\n",
       "</tr>\n",
       "<tr>\n",
       "  <th>Method:</th>                <td>IRLS</td>       <th>  Log-Likelihood:    </th> <td> -2523.0</td>\n",
       "</tr>\n",
       "<tr>\n",
       "  <th>Date:</th>            <td>Wed, 08 Sep 2021</td> <th>  Deviance:          </th> <td>  5046.0</td>\n",
       "</tr>\n",
       "<tr>\n",
       "  <th>Time:</th>                <td>01:17:13</td>     <th>  Pearson chi2:      </th> <td>6.38e+03</td>\n",
       "</tr>\n",
       "<tr>\n",
       "  <th>No. Iterations:</th>          <td>6</td>        <th>                     </th>     <td> </td>   \n",
       "</tr>\n",
       "<tr>\n",
       "  <th>Covariance Type:</th>     <td>nonrobust</td>    <th>                     </th>     <td> </td>   \n",
       "</tr>\n",
       "</table>\n",
       "<table class=\"simpletable\">\n",
       "<tr>\n",
       "                        <td></td>                          <th>coef</th>     <th>std err</th>      <th>z</th>      <th>P>|z|</th>  <th>[0.025</th>    <th>0.975]</th>  \n",
       "</tr>\n",
       "<tr>\n",
       "  <th>const</th>                                        <td>   -2.5043</td> <td>    0.152</td> <td>  -16.484</td> <td> 0.000</td> <td>   -2.802</td> <td>   -2.207</td>\n",
       "</tr>\n",
       "<tr>\n",
       "  <th>Do Not Email</th>                                 <td>   -1.1296</td> <td>    0.174</td> <td>   -6.503</td> <td> 0.000</td> <td>   -1.470</td> <td>   -0.789</td>\n",
       "</tr>\n",
       "<tr>\n",
       "  <th>TotalVisits</th>                                  <td>    1.7385</td> <td>    0.289</td> <td>    6.019</td> <td> 0.000</td> <td>    1.172</td> <td>    2.305</td>\n",
       "</tr>\n",
       "<tr>\n",
       "  <th>Total Time Spent on Website</th>                  <td>    4.5096</td> <td>    0.169</td> <td>   26.762</td> <td> 0.000</td> <td>    4.179</td> <td>    4.840</td>\n",
       "</tr>\n",
       "<tr>\n",
       "  <th>Page Views Per Visit</th>                         <td>   -0.8651</td> <td>    0.250</td> <td>   -3.466</td> <td> 0.001</td> <td>   -1.354</td> <td>   -0.376</td>\n",
       "</tr>\n",
       "<tr>\n",
       "  <th>LeadOrigin_Lead Add Form</th>                     <td>    3.9103</td> <td>    0.201</td> <td>   19.487</td> <td> 0.000</td> <td>    3.517</td> <td>    4.304</td>\n",
       "</tr>\n",
       "<tr>\n",
       "  <th>LeadSource_Olark Chat</th>                        <td>    1.4615</td> <td>    0.134</td> <td>   10.922</td> <td> 0.000</td> <td>    1.199</td> <td>    1.724</td>\n",
       "</tr>\n",
       "<tr>\n",
       "  <th>LastActivity_Email Opened</th>                    <td>    0.5051</td> <td>    0.116</td> <td>    4.362</td> <td> 0.000</td> <td>    0.278</td> <td>    0.732</td>\n",
       "</tr>\n",
       "<tr>\n",
       "  <th>LastActivity_Olark Chat Conversation</th>         <td>   -0.6326</td> <td>    0.188</td> <td>   -3.357</td> <td> 0.001</td> <td>   -1.002</td> <td>   -0.263</td>\n",
       "</tr>\n",
       "<tr>\n",
       "  <th>LastActivity_SMS Sent</th>                        <td>    1.7032</td> <td>    0.117</td> <td>   14.566</td> <td> 0.000</td> <td>    1.474</td> <td>    1.932</td>\n",
       "</tr>\n",
       "<tr>\n",
       "  <th>CurrentOccupation_No Information</th>             <td>   -1.2452</td> <td>    0.090</td> <td>  -13.825</td> <td> 0.000</td> <td>   -1.422</td> <td>   -1.069</td>\n",
       "</tr>\n",
       "<tr>\n",
       "  <th>CurrentOccupation_Working Professional</th>       <td>    2.6000</td> <td>    0.203</td> <td>   12.780</td> <td> 0.000</td> <td>    2.201</td> <td>    2.999</td>\n",
       "</tr>\n",
       "<tr>\n",
       "  <th>LastNotableActivity_Had a Phone Conversation</th> <td>    3.5237</td> <td>    1.176</td> <td>    2.995</td> <td> 0.003</td> <td>    1.218</td> <td>    5.829</td>\n",
       "</tr>\n",
       "<tr>\n",
       "  <th>LastNotableActivity_Modified</th>                 <td>   -0.5354</td> <td>    0.089</td> <td>   -5.985</td> <td> 0.000</td> <td>   -0.711</td> <td>   -0.360</td>\n",
       "</tr>\n",
       "<tr>\n",
       "  <th>LastNotableActivity_Unreachable</th>              <td>    2.0044</td> <td>    0.557</td> <td>    3.597</td> <td> 0.000</td> <td>    0.912</td> <td>    3.097</td>\n",
       "</tr>\n",
       "</table>"
      ],
      "text/plain": [
       "<class 'statsmodels.iolib.summary.Summary'>\n",
       "\"\"\"\n",
       "                 Generalized Linear Model Regression Results                  \n",
       "==============================================================================\n",
       "Dep. Variable:              Converted   No. Observations:                 6320\n",
       "Model:                            GLM   Df Residuals:                     6305\n",
       "Model Family:                Binomial   Df Model:                           14\n",
       "Link Function:                  logit   Scale:                          1.0000\n",
       "Method:                          IRLS   Log-Likelihood:                -2523.0\n",
       "Date:                Wed, 08 Sep 2021   Deviance:                       5046.0\n",
       "Time:                        01:17:13   Pearson chi2:                 6.38e+03\n",
       "No. Iterations:                     6                                         \n",
       "Covariance Type:            nonrobust                                         \n",
       "================================================================================================================\n",
       "                                                   coef    std err          z      P>|z|      [0.025      0.975]\n",
       "----------------------------------------------------------------------------------------------------------------\n",
       "const                                           -2.5043      0.152    -16.484      0.000      -2.802      -2.207\n",
       "Do Not Email                                    -1.1296      0.174     -6.503      0.000      -1.470      -0.789\n",
       "TotalVisits                                      1.7385      0.289      6.019      0.000       1.172       2.305\n",
       "Total Time Spent on Website                      4.5096      0.169     26.762      0.000       4.179       4.840\n",
       "Page Views Per Visit                            -0.8651      0.250     -3.466      0.001      -1.354      -0.376\n",
       "LeadOrigin_Lead Add Form                         3.9103      0.201     19.487      0.000       3.517       4.304\n",
       "LeadSource_Olark Chat                            1.4615      0.134     10.922      0.000       1.199       1.724\n",
       "LastActivity_Email Opened                        0.5051      0.116      4.362      0.000       0.278       0.732\n",
       "LastActivity_Olark Chat Conversation            -0.6326      0.188     -3.357      0.001      -1.002      -0.263\n",
       "LastActivity_SMS Sent                            1.7032      0.117     14.566      0.000       1.474       1.932\n",
       "CurrentOccupation_No Information                -1.2452      0.090    -13.825      0.000      -1.422      -1.069\n",
       "CurrentOccupation_Working Professional           2.6000      0.203     12.780      0.000       2.201       2.999\n",
       "LastNotableActivity_Had a Phone Conversation     3.5237      1.176      2.995      0.003       1.218       5.829\n",
       "LastNotableActivity_Modified                    -0.5354      0.089     -5.985      0.000      -0.711      -0.360\n",
       "LastNotableActivity_Unreachable                  2.0044      0.557      3.597      0.000       0.912       3.097\n",
       "================================================================================================================\n",
       "\"\"\""
      ]
     },
     "execution_count": 92,
     "metadata": {},
     "output_type": "execute_result"
    }
   ],
   "source": [
    "X_train_sm = sm.add_constant(X_train[col])\n",
    "logm7 = sm.GLM(y_train,X_train_sm, family = sm.families.Binomial())\n",
    "res = logm7.fit()\n",
    "res.summary()"
   ]
  },
  {
   "cell_type": "markdown",
   "metadata": {},
   "source": [
    "Since the Model 8 seems to be stable with significant pvalues, we shall go ahead with this model for further analysis\n",
    "\n"
   ]
  },
  {
   "cell_type": "code",
   "execution_count": 93,
   "metadata": {},
   "outputs": [
    {
     "data": {
      "text/plain": [
       "2240    0.692343\n",
       "113     0.537003\n",
       "4132    0.717592\n",
       "5573    0.133769\n",
       "1109    0.014151\n",
       "2282    0.031573\n",
       "2976    0.887195\n",
       "8431    0.399511\n",
       "2770    0.798292\n",
       "5790    0.996695\n",
       "dtype: float64"
      ]
     },
     "execution_count": 93,
     "metadata": {},
     "output_type": "execute_result"
    }
   ],
   "source": [
    "# Getting the predicted values on the train set\n",
    "\n",
    "y_train_pred = res.predict(X_train_sm)\n",
    "y_train_pred[:10]"
   ]
  },
  {
   "cell_type": "code",
   "execution_count": 94,
   "metadata": {},
   "outputs": [
    {
     "data": {
      "text/plain": [
       "array([0.69234251, 0.53700269, 0.71759192, 0.13376901, 0.01415121,\n",
       "       0.03157314, 0.88719547, 0.39951071, 0.79829194, 0.99669546])"
      ]
     },
     "execution_count": 94,
     "metadata": {},
     "output_type": "execute_result"
    }
   ],
   "source": [
    "# Reshape\n",
    "\n",
    "y_train_pred = y_train_pred.values.reshape(-1)\n",
    "y_train_pred[:10]"
   ]
  },
  {
   "cell_type": "markdown",
   "metadata": {},
   "source": [
    "##### Creating a dataframe with the actual converted flag and the predicted probabilities"
   ]
  },
  {
   "cell_type": "code",
   "execution_count": 95,
   "metadata": {},
   "outputs": [
    {
     "data": {
      "text/html": [
       "<div>\n",
       "<style scoped>\n",
       "    .dataframe tbody tr th:only-of-type {\n",
       "        vertical-align: middle;\n",
       "    }\n",
       "\n",
       "    .dataframe tbody tr th {\n",
       "        vertical-align: top;\n",
       "    }\n",
       "\n",
       "    .dataframe thead th {\n",
       "        text-align: right;\n",
       "    }\n",
       "</style>\n",
       "<table border=\"1\" class=\"dataframe\">\n",
       "  <thead>\n",
       "    <tr style=\"text-align: right;\">\n",
       "      <th></th>\n",
       "      <th>Converted</th>\n",
       "      <th>Converted_Prob</th>\n",
       "      <th>LeadId</th>\n",
       "    </tr>\n",
       "  </thead>\n",
       "  <tbody>\n",
       "    <tr>\n",
       "      <th>0</th>\n",
       "      <td>0</td>\n",
       "      <td>0.692343</td>\n",
       "      <td>2240</td>\n",
       "    </tr>\n",
       "    <tr>\n",
       "      <th>1</th>\n",
       "      <td>0</td>\n",
       "      <td>0.537003</td>\n",
       "      <td>113</td>\n",
       "    </tr>\n",
       "    <tr>\n",
       "      <th>2</th>\n",
       "      <td>1</td>\n",
       "      <td>0.717592</td>\n",
       "      <td>4132</td>\n",
       "    </tr>\n",
       "    <tr>\n",
       "      <th>3</th>\n",
       "      <td>0</td>\n",
       "      <td>0.133769</td>\n",
       "      <td>5573</td>\n",
       "    </tr>\n",
       "    <tr>\n",
       "      <th>4</th>\n",
       "      <td>0</td>\n",
       "      <td>0.014151</td>\n",
       "      <td>1109</td>\n",
       "    </tr>\n",
       "  </tbody>\n",
       "</table>\n",
       "</div>"
      ],
      "text/plain": [
       "   Converted  Converted_Prob  LeadId\n",
       "0          0        0.692343    2240\n",
       "1          0        0.537003     113\n",
       "2          1        0.717592    4132\n",
       "3          0        0.133769    5573\n",
       "4          0        0.014151    1109"
      ]
     },
     "execution_count": 95,
     "metadata": {},
     "output_type": "execute_result"
    }
   ],
   "source": [
    "y_train_pred_final = pd.DataFrame({'Converted':y_train.values, 'Converted_Prob':y_train_pred})\n",
    "y_train_pred_final['LeadId'] = y_train.index\n",
    "y_train_pred_final.head()"
   ]
  },
  {
   "cell_type": "markdown",
   "metadata": {},
   "source": [
    "##### Creating new column 'predicted' with 1 if Converted_Prob > 0.5 else 0"
   ]
  },
  {
   "cell_type": "code",
   "execution_count": 96,
   "metadata": {},
   "outputs": [
    {
     "data": {
      "text/html": [
       "<div>\n",
       "<style scoped>\n",
       "    .dataframe tbody tr th:only-of-type {\n",
       "        vertical-align: middle;\n",
       "    }\n",
       "\n",
       "    .dataframe tbody tr th {\n",
       "        vertical-align: top;\n",
       "    }\n",
       "\n",
       "    .dataframe thead th {\n",
       "        text-align: right;\n",
       "    }\n",
       "</style>\n",
       "<table border=\"1\" class=\"dataframe\">\n",
       "  <thead>\n",
       "    <tr style=\"text-align: right;\">\n",
       "      <th></th>\n",
       "      <th>Converted</th>\n",
       "      <th>Converted_Prob</th>\n",
       "      <th>LeadId</th>\n",
       "      <th>predicted</th>\n",
       "    </tr>\n",
       "  </thead>\n",
       "  <tbody>\n",
       "    <tr>\n",
       "      <th>0</th>\n",
       "      <td>0</td>\n",
       "      <td>0.692343</td>\n",
       "      <td>2240</td>\n",
       "      <td>1</td>\n",
       "    </tr>\n",
       "    <tr>\n",
       "      <th>1</th>\n",
       "      <td>0</td>\n",
       "      <td>0.537003</td>\n",
       "      <td>113</td>\n",
       "      <td>1</td>\n",
       "    </tr>\n",
       "    <tr>\n",
       "      <th>2</th>\n",
       "      <td>1</td>\n",
       "      <td>0.717592</td>\n",
       "      <td>4132</td>\n",
       "      <td>1</td>\n",
       "    </tr>\n",
       "    <tr>\n",
       "      <th>3</th>\n",
       "      <td>0</td>\n",
       "      <td>0.133769</td>\n",
       "      <td>5573</td>\n",
       "      <td>0</td>\n",
       "    </tr>\n",
       "    <tr>\n",
       "      <th>4</th>\n",
       "      <td>0</td>\n",
       "      <td>0.014151</td>\n",
       "      <td>1109</td>\n",
       "      <td>0</td>\n",
       "    </tr>\n",
       "  </tbody>\n",
       "</table>\n",
       "</div>"
      ],
      "text/plain": [
       "   Converted  Converted_Prob  LeadId  predicted\n",
       "0          0        0.692343    2240          1\n",
       "1          0        0.537003     113          1\n",
       "2          1        0.717592    4132          1\n",
       "3          0        0.133769    5573          0\n",
       "4          0        0.014151    1109          0"
      ]
     },
     "execution_count": 96,
     "metadata": {},
     "output_type": "execute_result"
    }
   ],
   "source": [
    "y_train_pred_final['predicted'] = y_train_pred_final.Converted_Prob.map(lambda x: 1 if x > 0.5 else 0)\n",
    "y_train_pred_final.head()"
   ]
  },
  {
   "cell_type": "markdown",
   "metadata": {},
   "source": [
    "##### Lets check the confusion metrics and accuracy"
   ]
  },
  {
   "cell_type": "code",
   "execution_count": 97,
   "metadata": {},
   "outputs": [],
   "source": [
    "from sklearn import metrics"
   ]
  },
  {
   "cell_type": "code",
   "execution_count": 98,
   "metadata": {},
   "outputs": [
    {
     "name": "stdout",
     "output_type": "stream",
     "text": [
      "[[3412  446]\n",
      " [ 709 1753]]\n"
     ]
    }
   ],
   "source": [
    "# Confusion matrix \n",
    "\n",
    "confusion = metrics.confusion_matrix(y_train_pred_final.Converted, y_train_pred_final.predicted )\n",
    "print(confusion)"
   ]
  },
  {
   "cell_type": "code",
   "execution_count": 99,
   "metadata": {},
   "outputs": [],
   "source": [
    "# Predicted     not_converted    converted\n",
    "# Actual\n",
    "# not_converted        3397      461\n",
    "# converted            725       1737"
   ]
  },
  {
   "cell_type": "code",
   "execution_count": 100,
   "metadata": {},
   "outputs": [
    {
     "name": "stdout",
     "output_type": "stream",
     "text": [
      "0.817246835443038\n"
     ]
    }
   ],
   "source": [
    "# Let's check the overall accuracy.\n",
    "\n",
    "print(metrics.accuracy_score(y_train_pred_final.Converted, y_train_pred_final.predicted))"
   ]
  },
  {
   "cell_type": "markdown",
   "metadata": {},
   "source": [
    "Accuracy rate is around 81% which is good. However we will also need to calculate the other metrics as we cannot depend only \n",
    "on the accuracy metrics"
   ]
  },
  {
   "cell_type": "markdown",
   "metadata": {},
   "source": [
    "##### Checking VIFs"
   ]
  },
  {
   "cell_type": "code",
   "execution_count": 101,
   "metadata": {},
   "outputs": [
    {
     "data": {
      "text/html": [
       "<div>\n",
       "<style scoped>\n",
       "    .dataframe tbody tr th:only-of-type {\n",
       "        vertical-align: middle;\n",
       "    }\n",
       "\n",
       "    .dataframe tbody tr th {\n",
       "        vertical-align: top;\n",
       "    }\n",
       "\n",
       "    .dataframe thead th {\n",
       "        text-align: right;\n",
       "    }\n",
       "</style>\n",
       "<table border=\"1\" class=\"dataframe\">\n",
       "  <thead>\n",
       "    <tr style=\"text-align: right;\">\n",
       "      <th></th>\n",
       "      <th>Features</th>\n",
       "      <th>VIF</th>\n",
       "    </tr>\n",
       "  </thead>\n",
       "  <tbody>\n",
       "    <tr>\n",
       "      <th>3</th>\n",
       "      <td>Page Views Per Visit</td>\n",
       "      <td>6.11</td>\n",
       "    </tr>\n",
       "    <tr>\n",
       "      <th>1</th>\n",
       "      <td>TotalVisits</td>\n",
       "      <td>4.70</td>\n",
       "    </tr>\n",
       "    <tr>\n",
       "      <th>6</th>\n",
       "      <td>LastActivity_Email Opened</td>\n",
       "      <td>2.37</td>\n",
       "    </tr>\n",
       "    <tr>\n",
       "      <th>2</th>\n",
       "      <td>Total Time Spent on Website</td>\n",
       "      <td>2.14</td>\n",
       "    </tr>\n",
       "    <tr>\n",
       "      <th>8</th>\n",
       "      <td>LastActivity_SMS Sent</td>\n",
       "      <td>2.12</td>\n",
       "    </tr>\n",
       "    <tr>\n",
       "      <th>5</th>\n",
       "      <td>LeadSource_Olark Chat</td>\n",
       "      <td>2.10</td>\n",
       "    </tr>\n",
       "    <tr>\n",
       "      <th>12</th>\n",
       "      <td>LastNotableActivity_Modified</td>\n",
       "      <td>1.78</td>\n",
       "    </tr>\n",
       "    <tr>\n",
       "      <th>7</th>\n",
       "      <td>LastActivity_Olark Chat Conversation</td>\n",
       "      <td>1.76</td>\n",
       "    </tr>\n",
       "    <tr>\n",
       "      <th>9</th>\n",
       "      <td>CurrentOccupation_No Information</td>\n",
       "      <td>1.57</td>\n",
       "    </tr>\n",
       "    <tr>\n",
       "      <th>4</th>\n",
       "      <td>LeadOrigin_Lead Add Form</td>\n",
       "      <td>1.33</td>\n",
       "    </tr>\n",
       "    <tr>\n",
       "      <th>10</th>\n",
       "      <td>CurrentOccupation_Working Professional</td>\n",
       "      <td>1.16</td>\n",
       "    </tr>\n",
       "    <tr>\n",
       "      <th>0</th>\n",
       "      <td>Do Not Email</td>\n",
       "      <td>1.14</td>\n",
       "    </tr>\n",
       "    <tr>\n",
       "      <th>13</th>\n",
       "      <td>LastNotableActivity_Unreachable</td>\n",
       "      <td>1.02</td>\n",
       "    </tr>\n",
       "    <tr>\n",
       "      <th>11</th>\n",
       "      <td>LastNotableActivity_Had a Phone Conversation</td>\n",
       "      <td>1.01</td>\n",
       "    </tr>\n",
       "  </tbody>\n",
       "</table>\n",
       "</div>"
      ],
      "text/plain": [
       "                                        Features   VIF\n",
       "3                           Page Views Per Visit  6.11\n",
       "1                                    TotalVisits  4.70\n",
       "6                      LastActivity_Email Opened  2.37\n",
       "2                    Total Time Spent on Website  2.14\n",
       "8                          LastActivity_SMS Sent  2.12\n",
       "5                          LeadSource_Olark Chat  2.10\n",
       "12                  LastNotableActivity_Modified  1.78\n",
       "7           LastActivity_Olark Chat Conversation  1.76\n",
       "9               CurrentOccupation_No Information  1.57\n",
       "4                       LeadOrigin_Lead Add Form  1.33\n",
       "10        CurrentOccupation_Working Professional  1.16\n",
       "0                                   Do Not Email  1.14\n",
       "13               LastNotableActivity_Unreachable  1.02\n",
       "11  LastNotableActivity_Had a Phone Conversation  1.01"
      ]
     },
     "execution_count": 101,
     "metadata": {},
     "output_type": "execute_result"
    }
   ],
   "source": [
    "from statsmodels.stats.outliers_influence import variance_inflation_factor\n",
    "\n",
    "# Create a dataframe that will contain the names of all the feature variables and their respective VIFs\n",
    "\n",
    "vif = pd.DataFrame()\n",
    "vif['Features'] = X_train[col].columns\n",
    "vif['VIF'] = [variance_inflation_factor(X_train[col].values, i) for i in range(X_train[col].shape[1])]\n",
    "vif['VIF'] = round(vif['VIF'], 2)\n",
    "vif = vif.sort_values(by = \"VIF\", ascending = False)\n",
    "vif"
   ]
  },
  {
   "cell_type": "markdown",
   "metadata": {},
   "source": [
    "All variables have a good value of VIF. So we need not drop any more variables and we can proceed with making predictions using this model only"
   ]
  },
  {
   "cell_type": "markdown",
   "metadata": {},
   "source": [
    "##### Metrics - Sensitivity, Specificity, False Positive Rate, Postitive Predictive Value and Negative Predictive Value"
   ]
  },
  {
   "cell_type": "code",
   "execution_count": 102,
   "metadata": {},
   "outputs": [],
   "source": [
    "TP = confusion[1,1] # true positive \n",
    "TN = confusion[0,0] # true negatives\n",
    "FP = confusion[0,1] # false positives\n",
    "FN = confusion[1,0] # false negatives"
   ]
  },
  {
   "cell_type": "code",
   "execution_count": 103,
   "metadata": {},
   "outputs": [
    {
     "data": {
      "text/plain": [
       "0.7120227457351747"
      ]
     },
     "execution_count": 103,
     "metadata": {},
     "output_type": "execute_result"
    }
   ],
   "source": [
    "# Let's see the sensitivity of our logistic regression model\n",
    "\n",
    "TP / float(TP+FN)"
   ]
  },
  {
   "cell_type": "code",
   "execution_count": 104,
   "metadata": {},
   "outputs": [
    {
     "data": {
      "text/plain": [
       "0.8843960601347849"
      ]
     },
     "execution_count": 104,
     "metadata": {},
     "output_type": "execute_result"
    }
   ],
   "source": [
    "# Let us calculate specificity\n",
    "\n",
    "TN / float(TN+FP)"
   ]
  },
  {
   "cell_type": "code",
   "execution_count": 105,
   "metadata": {},
   "outputs": [
    {
     "name": "stdout",
     "output_type": "stream",
     "text": [
      "0.11560393986521514\n"
     ]
    }
   ],
   "source": [
    "# Calculate false postive rate - predicting non conversion when leads have converted\n",
    "\n",
    "print(FP/ float(TN+FP))"
   ]
  },
  {
   "cell_type": "code",
   "execution_count": 106,
   "metadata": {},
   "outputs": [
    {
     "name": "stdout",
     "output_type": "stream",
     "text": [
      "0.7971805366075488\n"
     ]
    }
   ],
   "source": [
    "# positive predictive value \n",
    "\n",
    "print (TP / float(TP+FP))"
   ]
  },
  {
   "cell_type": "code",
   "execution_count": 107,
   "metadata": {},
   "outputs": [
    {
     "name": "stdout",
     "output_type": "stream",
     "text": [
      "0.8279543800048532\n"
     ]
    }
   ],
   "source": [
    "# Negative predictive value\n",
    "\n",
    "print (TN / float(TN+ FN))"
   ]
  },
  {
   "cell_type": "markdown",
   "metadata": {},
   "source": [
    "### Step 9: Plotting the ROC Curve"
   ]
  },
  {
   "cell_type": "markdown",
   "metadata": {},
   "source": [
    "An ROC curve demonstrates several things:\n",
    "\n",
    "- It shows the tradeoff between sensitivity and specificity (any increase in sensitivity will be accompanied by a decrease in specificity).\n",
    "- The closer the curve follows the left-hand border and then the top border of the ROC space, the more accurate the test.\n",
    "- The closer the curve comes to the 45-degree diagonal of the ROC space, the less accurate the test."
   ]
  },
  {
   "cell_type": "code",
   "execution_count": 108,
   "metadata": {},
   "outputs": [],
   "source": [
    "def draw_roc( actual, probs ):\n",
    "    fpr, tpr, thresholds = metrics.roc_curve( actual, probs,\n",
    "                                              drop_intermediate = False )\n",
    "    auc_score = metrics.roc_auc_score( actual, probs )\n",
    "    plt.figure(figsize=(5, 5))\n",
    "    plt.plot( fpr, tpr, label='ROC curve (area = %0.2f)' % auc_score )\n",
    "    plt.plot([0, 1], [0, 1], 'k--')\n",
    "    plt.xlim([0.0, 1.0])\n",
    "    plt.ylim([0.0, 1.05])\n",
    "    plt.xlabel('False Positive Rate or [1 - True Negative Rate]')\n",
    "    plt.ylabel('True Positive Rate')\n",
    "    plt.title('Receiver operating characteristic example')\n",
    "    plt.legend(loc=\"lower right\")\n",
    "    plt.show()\n",
    "\n",
    "    return None"
   ]
  },
  {
   "cell_type": "code",
   "execution_count": 109,
   "metadata": {},
   "outputs": [],
   "source": [
    "fpr, tpr, thresholds = metrics.roc_curve( y_train_pred_final.Converted, y_train_pred_final.Converted_Prob, \n",
    "                                         drop_intermediate = False )"
   ]
  },
  {
   "cell_type": "code",
   "execution_count": 110,
   "metadata": {},
   "outputs": [
    {
     "data": {
      "image/png": "[encoded data removed]",
      "text/plain": [
       "<Figure size 360x360 with 1 Axes>"
      ]
     },
     "metadata": {
      "needs_background": "light"
     },
     "output_type": "display_data"
    }
   ],
   "source": [
    "draw_roc(y_train_pred_final.Converted, y_train_pred_final.Converted_Prob)"
   ]
  },
  {
   "cell_type": "markdown",
   "metadata": {},
   "source": [
    "### Step 10: Finding Optimal Cutoff Point"
   ]
  },
  {
   "cell_type": "markdown",
   "metadata": {},
   "source": [
    "Optimal cut off probability is that prob where we get balanced sensitivity and specificity"
   ]
  },
  {
   "cell_type": "code",
   "execution_count": 111,
   "metadata": {},
   "outputs": [
    {
     "data": {
      "text/html": [
       "<div>\n",
       "<style scoped>\n",
       "    .dataframe tbody tr th:only-of-type {\n",
       "        vertical-align: middle;\n",
       "    }\n",
       "\n",
       "    .dataframe tbody tr th {\n",
       "        vertical-align: top;\n",
       "    }\n",
       "\n",
       "    .dataframe thead th {\n",
       "        text-align: right;\n",
       "    }\n",
       "</style>\n",
       "<table border=\"1\" class=\"dataframe\">\n",
       "  <thead>\n",
       "    <tr style=\"text-align: right;\">\n",
       "      <th></th>\n",
       "      <th>Converted</th>\n",
       "      <th>Converted_Prob</th>\n",
       "      <th>LeadId</th>\n",
       "      <th>predicted</th>\n",
       "      <th>0.0</th>\n",
       "      <th>0.1</th>\n",
       "      <th>0.2</th>\n",
       "      <th>0.3</th>\n",
       "      <th>0.4</th>\n",
       "      <th>0.5</th>\n",
       "      <th>0.6</th>\n",
       "      <th>0.7</th>\n",
       "      <th>0.8</th>\n",
       "      <th>0.9</th>\n",
       "    </tr>\n",
       "  </thead>\n",
       "  <tbody>\n",
       "    <tr>\n",
       "      <th>0</th>\n",
       "      <td>0</td>\n",
       "      <td>0.692343</td>\n",
       "      <td>2240</td>\n",
       "      <td>1</td>\n",
       "      <td>1</td>\n",
       "      <td>1</td>\n",
       "      <td>1</td>\n",
       "      <td>1</td>\n",
       "      <td>1</td>\n",
       "      <td>1</td>\n",
       "      <td>1</td>\n",
       "      <td>0</td>\n",
       "      <td>0</td>\n",
       "      <td>0</td>\n",
       "    </tr>\n",
       "    <tr>\n",
       "      <th>1</th>\n",
       "      <td>0</td>\n",
       "      <td>0.537003</td>\n",
       "      <td>113</td>\n",
       "      <td>1</td>\n",
       "      <td>1</td>\n",
       "      <td>1</td>\n",
       "      <td>1</td>\n",
       "      <td>1</td>\n",
       "      <td>1</td>\n",
       "      <td>1</td>\n",
       "      <td>0</td>\n",
       "      <td>0</td>\n",
       "      <td>0</td>\n",
       "      <td>0</td>\n",
       "    </tr>\n",
       "    <tr>\n",
       "      <th>2</th>\n",
       "      <td>1</td>\n",
       "      <td>0.717592</td>\n",
       "      <td>4132</td>\n",
       "      <td>1</td>\n",
       "      <td>1</td>\n",
       "      <td>1</td>\n",
       "      <td>1</td>\n",
       "      <td>1</td>\n",
       "      <td>1</td>\n",
       "      <td>1</td>\n",
       "      <td>1</td>\n",
       "      <td>1</td>\n",
       "      <td>0</td>\n",
       "      <td>0</td>\n",
       "    </tr>\n",
       "    <tr>\n",
       "      <th>3</th>\n",
       "      <td>0</td>\n",
       "      <td>0.133769</td>\n",
       "      <td>5573</td>\n",
       "      <td>0</td>\n",
       "      <td>1</td>\n",
       "      <td>1</td>\n",
       "      <td>0</td>\n",
       "      <td>0</td>\n",
       "      <td>0</td>\n",
       "      <td>0</td>\n",
       "      <td>0</td>\n",
       "      <td>0</td>\n",
       "      <td>0</td>\n",
       "      <td>0</td>\n",
       "    </tr>\n",
       "    <tr>\n",
       "      <th>4</th>\n",
       "      <td>0</td>\n",
       "      <td>0.014151</td>\n",
       "      <td>1109</td>\n",
       "      <td>0</td>\n",
       "      <td>1</td>\n",
       "      <td>0</td>\n",
       "      <td>0</td>\n",
       "      <td>0</td>\n",
       "      <td>0</td>\n",
       "      <td>0</td>\n",
       "      <td>0</td>\n",
       "      <td>0</td>\n",
       "      <td>0</td>\n",
       "      <td>0</td>\n",
       "    </tr>\n",
       "  </tbody>\n",
       "</table>\n",
       "</div>"
      ],
      "text/plain": [
       "   Converted  Converted_Prob  LeadId  predicted  0.0  0.1  0.2  0.3  0.4  0.5  \\\n",
       "0          0        0.692343    2240          1    1    1    1    1    1    1   \n",
       "1          0        0.537003     113          1    1    1    1    1    1    1   \n",
       "2          1        0.717592    4132          1    1    1    1    1    1    1   \n",
       "3          0        0.133769    5573          0    1    1    0    0    0    0   \n",
       "4          0        0.014151    1109          0    1    0    0    0    0    0   \n",
       "\n",
       "   0.6  0.7  0.8  0.9  \n",
       "0    1    0    0    0  \n",
       "1    0    0    0    0  \n",
       "2    1    1    0    0  \n",
       "3    0    0    0    0  \n",
       "4    0    0    0    0  "
      ]
     },
     "execution_count": 111,
     "metadata": {},
     "output_type": "execute_result"
    }
   ],
   "source": [
    "# Let's create columns with different probability cutoffs \n",
    "numbers = [float(x)/10 for x in range(10)]\n",
    "for i in numbers:\n",
    "    y_train_pred_final[i]= y_train_pred_final.Converted_Prob.map(lambda x: 1 if x > i else 0)\n",
    "y_train_pred_final.head()"
   ]
  },
  {
   "cell_type": "code",
   "execution_count": 112,
   "metadata": {},
   "outputs": [
    {
     "name": "stdout",
     "output_type": "stream",
     "text": [
      "     prob  accuracy     sensi     speci\n",
      "0.0   0.0  0.389557  1.000000  0.000000\n",
      "0.1   0.1  0.659810  0.972380  0.460342\n",
      "0.2   0.2  0.760759  0.922015  0.657854\n",
      "0.3   0.3  0.802532  0.879773  0.753240\n",
      "0.4   0.4  0.816297  0.781478  0.838517\n",
      "0.5   0.5  0.817247  0.712023  0.884396\n",
      "0.6   0.6  0.810918  0.642567  0.918351\n",
      "0.7   0.7  0.785285  0.532900  0.946345\n",
      "0.8   0.8  0.763608  0.445573  0.966563\n",
      "0.9   0.9  0.713608  0.284322  0.987558\n"
     ]
    }
   ],
   "source": [
    "# Now let's calculate accuracy sensitivity and specificity for various probability cutoffs.\n",
    "\n",
    "cutoff_df = pd.DataFrame( columns = ['prob','accuracy','sensi','speci'])\n",
    "from sklearn.metrics import confusion_matrix\n",
    "\n",
    "# TP = confusion[1,1] # true positive \n",
    "# TN = confusion[0,0] # true negatives\n",
    "# FP = confusion[0,1] # false positives\n",
    "# FN = confusion[1,0] # false negatives\n",
    "\n",
    "num = [0.0,0.1,0.2,0.3,0.4,0.5,0.6,0.7,0.8,0.9]\n",
    "for i in num:\n",
    "    cm1 = metrics.confusion_matrix(y_train_pred_final.Converted, y_train_pred_final[i] )\n",
    "    total1=sum(sum(cm1))\n",
    "    accuracy = (cm1[0,0]+cm1[1,1])/total1\n",
    "    \n",
    "    speci = cm1[0,0]/(cm1[0,0]+cm1[0,1])\n",
    "    sensi = cm1[1,1]/(cm1[1,0]+cm1[1,1])\n",
    "    cutoff_df.loc[i] =[ i ,accuracy,sensi,speci]\n",
    "print(cutoff_df)"
   ]
  },
  {
   "cell_type": "code",
   "execution_count": 113,
   "metadata": {},
   "outputs": [
    {
     "data": {
      "image/png": "[encoded data removed]",
      "text/plain": [
       "<Figure size 432x288 with 1 Axes>"
      ]
     },
     "metadata": {
      "needs_background": "light"
     },
     "output_type": "display_data"
    }
   ],
   "source": [
    "# Let's plot accuracy sensitivity and specificity for various probabilities.\n",
    "\n",
    "cutoff_df.plot.line(x='prob', y=['accuracy','sensi','speci'])\n",
    "plt.show()"
   ]
  },
  {
   "cell_type": "markdown",
   "metadata": {},
   "source": [
    "##### From the curve above, 0.37 is the optimum point to take it as a cutoff probability."
   ]
  },
  {
   "cell_type": "code",
   "execution_count": 114,
   "metadata": {},
   "outputs": [
    {
     "data": {
      "text/html": [
       "<div>\n",
       "<style scoped>\n",
       "    .dataframe tbody tr th:only-of-type {\n",
       "        vertical-align: middle;\n",
       "    }\n",
       "\n",
       "    .dataframe tbody tr th {\n",
       "        vertical-align: top;\n",
       "    }\n",
       "\n",
       "    .dataframe thead th {\n",
       "        text-align: right;\n",
       "    }\n",
       "</style>\n",
       "<table border=\"1\" class=\"dataframe\">\n",
       "  <thead>\n",
       "    <tr style=\"text-align: right;\">\n",
       "      <th></th>\n",
       "      <th>Converted</th>\n",
       "      <th>Converted_Prob</th>\n",
       "      <th>LeadId</th>\n",
       "      <th>predicted</th>\n",
       "      <th>0.0</th>\n",
       "      <th>0.1</th>\n",
       "      <th>0.2</th>\n",
       "      <th>0.3</th>\n",
       "      <th>0.4</th>\n",
       "      <th>0.5</th>\n",
       "      <th>0.6</th>\n",
       "      <th>0.7</th>\n",
       "      <th>0.8</th>\n",
       "      <th>0.9</th>\n",
       "      <th>final_predicted</th>\n",
       "    </tr>\n",
       "  </thead>\n",
       "  <tbody>\n",
       "    <tr>\n",
       "      <th>0</th>\n",
       "      <td>0</td>\n",
       "      <td>0.692343</td>\n",
       "      <td>2240</td>\n",
       "      <td>1</td>\n",
       "      <td>1</td>\n",
       "      <td>1</td>\n",
       "      <td>1</td>\n",
       "      <td>1</td>\n",
       "      <td>1</td>\n",
       "      <td>1</td>\n",
       "      <td>1</td>\n",
       "      <td>0</td>\n",
       "      <td>0</td>\n",
       "      <td>0</td>\n",
       "      <td>1</td>\n",
       "    </tr>\n",
       "    <tr>\n",
       "      <th>1</th>\n",
       "      <td>0</td>\n",
       "      <td>0.537003</td>\n",
       "      <td>113</td>\n",
       "      <td>1</td>\n",
       "      <td>1</td>\n",
       "      <td>1</td>\n",
       "      <td>1</td>\n",
       "      <td>1</td>\n",
       "      <td>1</td>\n",
       "      <td>1</td>\n",
       "      <td>0</td>\n",
       "      <td>0</td>\n",
       "      <td>0</td>\n",
       "      <td>0</td>\n",
       "      <td>1</td>\n",
       "    </tr>\n",
       "    <tr>\n",
       "      <th>2</th>\n",
       "      <td>1</td>\n",
       "      <td>0.717592</td>\n",
       "      <td>4132</td>\n",
       "      <td>1</td>\n",
       "      <td>1</td>\n",
       "      <td>1</td>\n",
       "      <td>1</td>\n",
       "      <td>1</td>\n",
       "      <td>1</td>\n",
       "      <td>1</td>\n",
       "      <td>1</td>\n",
       "      <td>1</td>\n",
       "      <td>0</td>\n",
       "      <td>0</td>\n",
       "      <td>1</td>\n",
       "    </tr>\n",
       "    <tr>\n",
       "      <th>3</th>\n",
       "      <td>0</td>\n",
       "      <td>0.133769</td>\n",
       "      <td>5573</td>\n",
       "      <td>0</td>\n",
       "      <td>1</td>\n",
       "      <td>1</td>\n",
       "      <td>0</td>\n",
       "      <td>0</td>\n",
       "      <td>0</td>\n",
       "      <td>0</td>\n",
       "      <td>0</td>\n",
       "      <td>0</td>\n",
       "      <td>0</td>\n",
       "      <td>0</td>\n",
       "      <td>0</td>\n",
       "    </tr>\n",
       "    <tr>\n",
       "      <th>4</th>\n",
       "      <td>0</td>\n",
       "      <td>0.014151</td>\n",
       "      <td>1109</td>\n",
       "      <td>0</td>\n",
       "      <td>1</td>\n",
       "      <td>0</td>\n",
       "      <td>0</td>\n",
       "      <td>0</td>\n",
       "      <td>0</td>\n",
       "      <td>0</td>\n",
       "      <td>0</td>\n",
       "      <td>0</td>\n",
       "      <td>0</td>\n",
       "      <td>0</td>\n",
       "      <td>0</td>\n",
       "    </tr>\n",
       "  </tbody>\n",
       "</table>\n",
       "</div>"
      ],
      "text/plain": [
       "   Converted  Converted_Prob  LeadId  predicted  0.0  0.1  0.2  0.3  0.4  0.5  \\\n",
       "0          0        0.692343    2240          1    1    1    1    1    1    1   \n",
       "1          0        0.537003     113          1    1    1    1    1    1    1   \n",
       "2          1        0.717592    4132          1    1    1    1    1    1    1   \n",
       "3          0        0.133769    5573          0    1    1    0    0    0    0   \n",
       "4          0        0.014151    1109          0    1    0    0    0    0    0   \n",
       "\n",
       "   0.6  0.7  0.8  0.9  final_predicted  \n",
       "0    1    0    0    0                1  \n",
       "1    0    0    0    0                1  \n",
       "2    1    1    0    0                1  \n",
       "3    0    0    0    0                0  \n",
       "4    0    0    0    0                0  "
      ]
     },
     "execution_count": 114,
     "metadata": {},
     "output_type": "execute_result"
    }
   ],
   "source": [
    "# Let us make the final prediction using 0.37 as the cut off\n",
    "\n",
    "y_train_pred_final['final_predicted'] = y_train_pred_final.Converted_Prob.map( lambda x: 1 if x > 0.37 else 0)\n",
    "y_train_pred_final.head()"
   ]
  },
  {
   "cell_type": "code",
   "execution_count": 115,
   "metadata": {},
   "outputs": [
    {
     "data": {
      "text/html": [
       "<div>\n",
       "<style scoped>\n",
       "    .dataframe tbody tr th:only-of-type {\n",
       "        vertical-align: middle;\n",
       "    }\n",
       "\n",
       "    .dataframe tbody tr th {\n",
       "        vertical-align: top;\n",
       "    }\n",
       "\n",
       "    .dataframe thead th {\n",
       "        text-align: right;\n",
       "    }\n",
       "</style>\n",
       "<table border=\"1\" class=\"dataframe\">\n",
       "  <thead>\n",
       "    <tr style=\"text-align: right;\">\n",
       "      <th></th>\n",
       "      <th>Converted</th>\n",
       "      <th>Converted_Prob</th>\n",
       "      <th>LeadId</th>\n",
       "      <th>predicted</th>\n",
       "      <th>0.0</th>\n",
       "      <th>0.1</th>\n",
       "      <th>0.2</th>\n",
       "      <th>0.3</th>\n",
       "      <th>0.4</th>\n",
       "      <th>0.5</th>\n",
       "      <th>0.6</th>\n",
       "      <th>0.7</th>\n",
       "      <th>0.8</th>\n",
       "      <th>0.9</th>\n",
       "      <th>final_predicted</th>\n",
       "      <th>lead_score</th>\n",
       "    </tr>\n",
       "  </thead>\n",
       "  <tbody>\n",
       "    <tr>\n",
       "      <th>0</th>\n",
       "      <td>0</td>\n",
       "      <td>0.692343</td>\n",
       "      <td>2240</td>\n",
       "      <td>1</td>\n",
       "      <td>1</td>\n",
       "      <td>1</td>\n",
       "      <td>1</td>\n",
       "      <td>1</td>\n",
       "      <td>1</td>\n",
       "      <td>1</td>\n",
       "      <td>1</td>\n",
       "      <td>0</td>\n",
       "      <td>0</td>\n",
       "      <td>0</td>\n",
       "      <td>1</td>\n",
       "      <td>69</td>\n",
       "    </tr>\n",
       "    <tr>\n",
       "      <th>1</th>\n",
       "      <td>0</td>\n",
       "      <td>0.537003</td>\n",
       "      <td>113</td>\n",
       "      <td>1</td>\n",
       "      <td>1</td>\n",
       "      <td>1</td>\n",
       "      <td>1</td>\n",
       "      <td>1</td>\n",
       "      <td>1</td>\n",
       "      <td>1</td>\n",
       "      <td>0</td>\n",
       "      <td>0</td>\n",
       "      <td>0</td>\n",
       "      <td>0</td>\n",
       "      <td>1</td>\n",
       "      <td>54</td>\n",
       "    </tr>\n",
       "    <tr>\n",
       "      <th>2</th>\n",
       "      <td>1</td>\n",
       "      <td>0.717592</td>\n",
       "      <td>4132</td>\n",
       "      <td>1</td>\n",
       "      <td>1</td>\n",
       "      <td>1</td>\n",
       "      <td>1</td>\n",
       "      <td>1</td>\n",
       "      <td>1</td>\n",
       "      <td>1</td>\n",
       "      <td>1</td>\n",
       "      <td>1</td>\n",
       "      <td>0</td>\n",
       "      <td>0</td>\n",
       "      <td>1</td>\n",
       "      <td>72</td>\n",
       "    </tr>\n",
       "    <tr>\n",
       "      <th>3</th>\n",
       "      <td>0</td>\n",
       "      <td>0.133769</td>\n",
       "      <td>5573</td>\n",
       "      <td>0</td>\n",
       "      <td>1</td>\n",
       "      <td>1</td>\n",
       "      <td>0</td>\n",
       "      <td>0</td>\n",
       "      <td>0</td>\n",
       "      <td>0</td>\n",
       "      <td>0</td>\n",
       "      <td>0</td>\n",
       "      <td>0</td>\n",
       "      <td>0</td>\n",
       "      <td>0</td>\n",
       "      <td>13</td>\n",
       "    </tr>\n",
       "    <tr>\n",
       "      <th>4</th>\n",
       "      <td>0</td>\n",
       "      <td>0.014151</td>\n",
       "      <td>1109</td>\n",
       "      <td>0</td>\n",
       "      <td>1</td>\n",
       "      <td>0</td>\n",
       "      <td>0</td>\n",
       "      <td>0</td>\n",
       "      <td>0</td>\n",
       "      <td>0</td>\n",
       "      <td>0</td>\n",
       "      <td>0</td>\n",
       "      <td>0</td>\n",
       "      <td>0</td>\n",
       "      <td>0</td>\n",
       "      <td>1</td>\n",
       "    </tr>\n",
       "    <tr>\n",
       "      <th>5</th>\n",
       "      <td>0</td>\n",
       "      <td>0.031573</td>\n",
       "      <td>2282</td>\n",
       "      <td>0</td>\n",
       "      <td>1</td>\n",
       "      <td>0</td>\n",
       "      <td>0</td>\n",
       "      <td>0</td>\n",
       "      <td>0</td>\n",
       "      <td>0</td>\n",
       "      <td>0</td>\n",
       "      <td>0</td>\n",
       "      <td>0</td>\n",
       "      <td>0</td>\n",
       "      <td>0</td>\n",
       "      <td>3</td>\n",
       "    </tr>\n",
       "    <tr>\n",
       "      <th>6</th>\n",
       "      <td>1</td>\n",
       "      <td>0.887195</td>\n",
       "      <td>2976</td>\n",
       "      <td>1</td>\n",
       "      <td>1</td>\n",
       "      <td>1</td>\n",
       "      <td>1</td>\n",
       "      <td>1</td>\n",
       "      <td>1</td>\n",
       "      <td>1</td>\n",
       "      <td>1</td>\n",
       "      <td>1</td>\n",
       "      <td>1</td>\n",
       "      <td>0</td>\n",
       "      <td>1</td>\n",
       "      <td>89</td>\n",
       "    </tr>\n",
       "    <tr>\n",
       "      <th>7</th>\n",
       "      <td>0</td>\n",
       "      <td>0.399511</td>\n",
       "      <td>8431</td>\n",
       "      <td>0</td>\n",
       "      <td>1</td>\n",
       "      <td>1</td>\n",
       "      <td>1</td>\n",
       "      <td>1</td>\n",
       "      <td>0</td>\n",
       "      <td>0</td>\n",
       "      <td>0</td>\n",
       "      <td>0</td>\n",
       "      <td>0</td>\n",
       "      <td>0</td>\n",
       "      <td>1</td>\n",
       "      <td>40</td>\n",
       "    </tr>\n",
       "    <tr>\n",
       "      <th>8</th>\n",
       "      <td>1</td>\n",
       "      <td>0.798292</td>\n",
       "      <td>2770</td>\n",
       "      <td>1</td>\n",
       "      <td>1</td>\n",
       "      <td>1</td>\n",
       "      <td>1</td>\n",
       "      <td>1</td>\n",
       "      <td>1</td>\n",
       "      <td>1</td>\n",
       "      <td>1</td>\n",
       "      <td>1</td>\n",
       "      <td>0</td>\n",
       "      <td>0</td>\n",
       "      <td>1</td>\n",
       "      <td>80</td>\n",
       "    </tr>\n",
       "    <tr>\n",
       "      <th>9</th>\n",
       "      <td>1</td>\n",
       "      <td>0.996695</td>\n",
       "      <td>5790</td>\n",
       "      <td>1</td>\n",
       "      <td>1</td>\n",
       "      <td>1</td>\n",
       "      <td>1</td>\n",
       "      <td>1</td>\n",
       "      <td>1</td>\n",
       "      <td>1</td>\n",
       "      <td>1</td>\n",
       "      <td>1</td>\n",
       "      <td>1</td>\n",
       "      <td>1</td>\n",
       "      <td>1</td>\n",
       "      <td>100</td>\n",
       "    </tr>\n",
       "    <tr>\n",
       "      <th>10</th>\n",
       "      <td>1</td>\n",
       "      <td>0.957319</td>\n",
       "      <td>2943</td>\n",
       "      <td>1</td>\n",
       "      <td>1</td>\n",
       "      <td>1</td>\n",
       "      <td>1</td>\n",
       "      <td>1</td>\n",
       "      <td>1</td>\n",
       "      <td>1</td>\n",
       "      <td>1</td>\n",
       "      <td>1</td>\n",
       "      <td>1</td>\n",
       "      <td>1</td>\n",
       "      <td>1</td>\n",
       "      <td>96</td>\n",
       "    </tr>\n",
       "    <tr>\n",
       "      <th>11</th>\n",
       "      <td>0</td>\n",
       "      <td>0.242916</td>\n",
       "      <td>1196</td>\n",
       "      <td>0</td>\n",
       "      <td>1</td>\n",
       "      <td>1</td>\n",
       "      <td>1</td>\n",
       "      <td>0</td>\n",
       "      <td>0</td>\n",
       "      <td>0</td>\n",
       "      <td>0</td>\n",
       "      <td>0</td>\n",
       "      <td>0</td>\n",
       "      <td>0</td>\n",
       "      <td>0</td>\n",
       "      <td>24</td>\n",
       "    </tr>\n",
       "    <tr>\n",
       "      <th>12</th>\n",
       "      <td>1</td>\n",
       "      <td>0.531194</td>\n",
       "      <td>8874</td>\n",
       "      <td>1</td>\n",
       "      <td>1</td>\n",
       "      <td>1</td>\n",
       "      <td>1</td>\n",
       "      <td>1</td>\n",
       "      <td>1</td>\n",
       "      <td>1</td>\n",
       "      <td>0</td>\n",
       "      <td>0</td>\n",
       "      <td>0</td>\n",
       "      <td>0</td>\n",
       "      <td>1</td>\n",
       "      <td>53</td>\n",
       "    </tr>\n",
       "    <tr>\n",
       "      <th>13</th>\n",
       "      <td>0</td>\n",
       "      <td>0.130125</td>\n",
       "      <td>1491</td>\n",
       "      <td>0</td>\n",
       "      <td>1</td>\n",
       "      <td>1</td>\n",
       "      <td>0</td>\n",
       "      <td>0</td>\n",
       "      <td>0</td>\n",
       "      <td>0</td>\n",
       "      <td>0</td>\n",
       "      <td>0</td>\n",
       "      <td>0</td>\n",
       "      <td>0</td>\n",
       "      <td>0</td>\n",
       "      <td>13</td>\n",
       "    </tr>\n",
       "    <tr>\n",
       "      <th>14</th>\n",
       "      <td>0</td>\n",
       "      <td>0.098780</td>\n",
       "      <td>7676</td>\n",
       "      <td>0</td>\n",
       "      <td>1</td>\n",
       "      <td>0</td>\n",
       "      <td>0</td>\n",
       "      <td>0</td>\n",
       "      <td>0</td>\n",
       "      <td>0</td>\n",
       "      <td>0</td>\n",
       "      <td>0</td>\n",
       "      <td>0</td>\n",
       "      <td>0</td>\n",
       "      <td>0</td>\n",
       "      <td>10</td>\n",
       "    </tr>\n",
       "    <tr>\n",
       "      <th>15</th>\n",
       "      <td>1</td>\n",
       "      <td>0.460566</td>\n",
       "      <td>8750</td>\n",
       "      <td>0</td>\n",
       "      <td>1</td>\n",
       "      <td>1</td>\n",
       "      <td>1</td>\n",
       "      <td>1</td>\n",
       "      <td>1</td>\n",
       "      <td>0</td>\n",
       "      <td>0</td>\n",
       "      <td>0</td>\n",
       "      <td>0</td>\n",
       "      <td>0</td>\n",
       "      <td>1</td>\n",
       "      <td>46</td>\n",
       "    </tr>\n",
       "    <tr>\n",
       "      <th>16</th>\n",
       "      <td>1</td>\n",
       "      <td>0.871136</td>\n",
       "      <td>5049</td>\n",
       "      <td>1</td>\n",
       "      <td>1</td>\n",
       "      <td>1</td>\n",
       "      <td>1</td>\n",
       "      <td>1</td>\n",
       "      <td>1</td>\n",
       "      <td>1</td>\n",
       "      <td>1</td>\n",
       "      <td>1</td>\n",
       "      <td>1</td>\n",
       "      <td>0</td>\n",
       "      <td>1</td>\n",
       "      <td>87</td>\n",
       "    </tr>\n",
       "    <tr>\n",
       "      <th>17</th>\n",
       "      <td>0</td>\n",
       "      <td>0.659334</td>\n",
       "      <td>5691</td>\n",
       "      <td>1</td>\n",
       "      <td>1</td>\n",
       "      <td>1</td>\n",
       "      <td>1</td>\n",
       "      <td>1</td>\n",
       "      <td>1</td>\n",
       "      <td>1</td>\n",
       "      <td>1</td>\n",
       "      <td>0</td>\n",
       "      <td>0</td>\n",
       "      <td>0</td>\n",
       "      <td>1</td>\n",
       "      <td>66</td>\n",
       "    </tr>\n",
       "    <tr>\n",
       "      <th>18</th>\n",
       "      <td>1</td>\n",
       "      <td>0.392591</td>\n",
       "      <td>5773</td>\n",
       "      <td>0</td>\n",
       "      <td>1</td>\n",
       "      <td>1</td>\n",
       "      <td>1</td>\n",
       "      <td>1</td>\n",
       "      <td>0</td>\n",
       "      <td>0</td>\n",
       "      <td>0</td>\n",
       "      <td>0</td>\n",
       "      <td>0</td>\n",
       "      <td>0</td>\n",
       "      <td>1</td>\n",
       "      <td>39</td>\n",
       "    </tr>\n",
       "    <tr>\n",
       "      <th>19</th>\n",
       "      <td>0</td>\n",
       "      <td>0.030589</td>\n",
       "      <td>3906</td>\n",
       "      <td>0</td>\n",
       "      <td>1</td>\n",
       "      <td>0</td>\n",
       "      <td>0</td>\n",
       "      <td>0</td>\n",
       "      <td>0</td>\n",
       "      <td>0</td>\n",
       "      <td>0</td>\n",
       "      <td>0</td>\n",
       "      <td>0</td>\n",
       "      <td>0</td>\n",
       "      <td>0</td>\n",
       "      <td>3</td>\n",
       "    </tr>\n",
       "  </tbody>\n",
       "</table>\n",
       "</div>"
      ],
      "text/plain": [
       "    Converted  Converted_Prob  LeadId  predicted  0.0  0.1  0.2  0.3  0.4  \\\n",
       "0           0        0.692343    2240          1    1    1    1    1    1   \n",
       "1           0        0.537003     113          1    1    1    1    1    1   \n",
       "2           1        0.717592    4132          1    1    1    1    1    1   \n",
       "3           0        0.133769    5573          0    1    1    0    0    0   \n",
       "4           0        0.014151    1109          0    1    0    0    0    0   \n",
       "5           0        0.031573    2282          0    1    0    0    0    0   \n",
       "6           1        0.887195    2976          1    1    1    1    1    1   \n",
       "7           0        0.399511    8431          0    1    1    1    1    0   \n",
       "8           1        0.798292    2770          1    1    1    1    1    1   \n",
       "9           1        0.996695    5790          1    1    1    1    1    1   \n",
       "10          1        0.957319    2943          1    1    1    1    1    1   \n",
       "11          0        0.242916    1196          0    1    1    1    0    0   \n",
       "12          1        0.531194    8874          1    1    1    1    1    1   \n",
       "13          0        0.130125    1491          0    1    1    0    0    0   \n",
       "14          0        0.098780    7676          0    1    0    0    0    0   \n",
       "15          1        0.460566    8750          0    1    1    1    1    1   \n",
       "16          1        0.871136    5049          1    1    1    1    1    1   \n",
       "17          0        0.659334    5691          1    1    1    1    1    1   \n",
       "18          1        0.392591    5773          0    1    1    1    1    0   \n",
       "19          0        0.030589    3906          0    1    0    0    0    0   \n",
       "\n",
       "    0.5  0.6  0.7  0.8  0.9  final_predicted  lead_score  \n",
       "0     1    1    0    0    0                1          69  \n",
       "1     1    0    0    0    0                1          54  \n",
       "2     1    1    1    0    0                1          72  \n",
       "3     0    0    0    0    0                0          13  \n",
       "4     0    0    0    0    0                0           1  \n",
       "5     0    0    0    0    0                0           3  \n",
       "6     1    1    1    1    0                1          89  \n",
       "7     0    0    0    0    0                1          40  \n",
       "8     1    1    1    0    0                1          80  \n",
       "9     1    1    1    1    1                1         100  \n",
       "10    1    1    1    1    1                1          96  \n",
       "11    0    0    0    0    0                0          24  \n",
       "12    1    0    0    0    0                1          53  \n",
       "13    0    0    0    0    0                0          13  \n",
       "14    0    0    0    0    0                0          10  \n",
       "15    0    0    0    0    0                1          46  \n",
       "16    1    1    1    1    0                1          87  \n",
       "17    1    1    0    0    0                1          66  \n",
       "18    0    0    0    0    0                1          39  \n",
       "19    0    0    0    0    0                0           3  "
      ]
     },
     "execution_count": 115,
     "metadata": {},
     "output_type": "execute_result"
    }
   ],
   "source": [
    "# Now let us calculate the lead score\n",
    "\n",
    "y_train_pred_final['lead_score'] = y_train_pred_final.Converted_Prob.map(lambda x: round(x*100))\n",
    "y_train_pred_final.head(20)"
   ]
  },
  {
   "cell_type": "code",
   "execution_count": 116,
   "metadata": {},
   "outputs": [
    {
     "data": {
      "text/plain": [
       "1    1971\n",
       "0     491\n",
       "Name: final_predicted, dtype: int64"
      ]
     },
     "execution_count": 116,
     "metadata": {},
     "output_type": "execute_result"
    }
   ],
   "source": [
    "# checking if 80% cases are correctly predicted based on the converted column.\n",
    "\n",
    "# get the total of final predicted conversion / non conversion counts from the actual converted rates\n",
    "\n",
    "checking_df = y_train_pred_final.loc[y_train_pred_final['Converted']==1,['Converted','final_predicted']]\n",
    "checking_df['final_predicted'].value_counts()"
   ]
  },
  {
   "cell_type": "code",
   "execution_count": 117,
   "metadata": {},
   "outputs": [
    {
     "data": {
      "text/plain": [
       "0.7981316003249391"
      ]
     },
     "execution_count": 117,
     "metadata": {},
     "output_type": "execute_result"
    }
   ],
   "source": [
    "# check the precentage of final_predicted conversions\n",
    "\n",
    "1965/float(1965+497)"
   ]
  },
  {
   "cell_type": "markdown",
   "metadata": {},
   "source": [
    "#### Hence we can see that the final prediction of conversions have a target of 80% (79.8%) conversion as per the X Educations CEO's requirement . Hence this is a good model."
   ]
  },
  {
   "cell_type": "markdown",
   "metadata": {},
   "source": [
    "#### Overall Metrics - Accuracy, Confusion Metrics, Sensitivity, Specificity, False Postive Rate, Positive Predictive Value, Negative Predicitive Value  on final prediction on train set"
   ]
  },
  {
   "cell_type": "code",
   "execution_count": 118,
   "metadata": {},
   "outputs": [
    {
     "data": {
      "text/plain": [
       "0.8128164556962025"
      ]
     },
     "execution_count": 118,
     "metadata": {},
     "output_type": "execute_result"
    }
   ],
   "source": [
    "# Let's check the overall accuracy.\n",
    "\n",
    "metrics.accuracy_score(y_train_pred_final.Converted, y_train_pred_final.final_predicted)"
   ]
  },
  {
   "cell_type": "code",
   "execution_count": 119,
   "metadata": {},
   "outputs": [
    {
     "data": {
      "text/plain": [
       "array([[3166,  692],\n",
       "       [ 491, 1971]], dtype=int64)"
      ]
     },
     "execution_count": 119,
     "metadata": {},
     "output_type": "execute_result"
    }
   ],
   "source": [
    "confusion2 = metrics.confusion_matrix(y_train_pred_final.Converted, y_train_pred_final.final_predicted )\n",
    "confusion2"
   ]
  },
  {
   "cell_type": "code",
   "execution_count": 120,
   "metadata": {},
   "outputs": [],
   "source": [
    "TP = confusion2[1,1] # true positive \n",
    "TN = confusion2[0,0] # true negatives\n",
    "FP = confusion2[0,1] # false positives\n",
    "FN = confusion2[1,0] # false negatives"
   ]
  },
  {
   "cell_type": "code",
   "execution_count": 121,
   "metadata": {},
   "outputs": [
    {
     "data": {
      "text/plain": [
       "0.8005686433793664"
      ]
     },
     "execution_count": 121,
     "metadata": {},
     "output_type": "execute_result"
    }
   ],
   "source": [
    "# Let's see the sensitivity of our logistic regression model\n",
    "\n",
    "TP / float(TP+FN)"
   ]
  },
  {
   "cell_type": "code",
   "execution_count": 122,
   "metadata": {},
   "outputs": [
    {
     "data": {
      "text/plain": [
       "0.8206324520476931"
      ]
     },
     "execution_count": 122,
     "metadata": {},
     "output_type": "execute_result"
    }
   ],
   "source": [
    "# Let us calculate specificity\n",
    "\n",
    "TN / float(TN+FP)"
   ]
  },
  {
   "cell_type": "code",
   "execution_count": 123,
   "metadata": {},
   "outputs": [
    {
     "name": "stdout",
     "output_type": "stream",
     "text": [
      "0.1793675479523069\n"
     ]
    }
   ],
   "source": [
    "# Calculate false postive rate - predicting conversions when leads has not converted\n",
    "\n",
    "print(FP/ float(TN+FP))"
   ]
  },
  {
   "cell_type": "code",
   "execution_count": 124,
   "metadata": {},
   "outputs": [
    {
     "name": "stdout",
     "output_type": "stream",
     "text": [
      "0.740142696207285\n"
     ]
    }
   ],
   "source": [
    "# Positive predictive value \n",
    "\n",
    "print (TP / float(TP+FP))"
   ]
  },
  {
   "cell_type": "code",
   "execution_count": 125,
   "metadata": {},
   "outputs": [
    {
     "name": "stdout",
     "output_type": "stream",
     "text": [
      "0.86573694284933\n"
     ]
    }
   ],
   "source": [
    "# Negative predictive value\n",
    "\n",
    "print (TN / float(TN+ FN))"
   ]
  },
  {
   "cell_type": "markdown",
   "metadata": {},
   "source": [
    "##### Metrics - Precision and Recall"
   ]
  },
  {
   "cell_type": "code",
   "execution_count": 126,
   "metadata": {},
   "outputs": [
    {
     "data": {
      "text/plain": [
       "array([[3412,  446],\n",
       "       [ 709, 1753]], dtype=int64)"
      ]
     },
     "execution_count": 126,
     "metadata": {},
     "output_type": "execute_result"
    }
   ],
   "source": [
    "#Looking at the confusion matrix again\n",
    "\n",
    "confusion = metrics.confusion_matrix(y_train_pred_final.Converted, y_train_pred_final.predicted )\n",
    "confusion"
   ]
  },
  {
   "cell_type": "code",
   "execution_count": 127,
   "metadata": {},
   "outputs": [],
   "source": [
    "from sklearn.metrics import precision_score, recall_score"
   ]
  },
  {
   "cell_type": "code",
   "execution_count": 128,
   "metadata": {},
   "outputs": [
    {
     "data": {
      "text/plain": [
       "0.7971805366075488"
      ]
     },
     "execution_count": 128,
     "metadata": {},
     "output_type": "execute_result"
    }
   ],
   "source": [
    "# precision\n",
    "\n",
    "precision_score(y_train_pred_final.Converted, y_train_pred_final.predicted)"
   ]
  },
  {
   "cell_type": "code",
   "execution_count": 129,
   "metadata": {},
   "outputs": [
    {
     "data": {
      "text/plain": [
       "0.7120227457351747"
      ]
     },
     "execution_count": 129,
     "metadata": {},
     "output_type": "execute_result"
    }
   ],
   "source": [
    "# recall\n",
    "\n",
    "recall_score(y_train_pred_final.Converted, y_train_pred_final.predicted)"
   ]
  },
  {
   "cell_type": "markdown",
   "metadata": {},
   "source": [
    "### Precision and recall tradeoff"
   ]
  },
  {
   "cell_type": "code",
   "execution_count": 130,
   "metadata": {},
   "outputs": [],
   "source": [
    "from sklearn.metrics import precision_recall_curve"
   ]
  },
  {
   "cell_type": "code",
   "execution_count": 131,
   "metadata": {},
   "outputs": [
    {
     "data": {
      "text/plain": [
       "(0       0\n",
       " 1       0\n",
       " 2       1\n",
       " 3       0\n",
       " 4       0\n",
       "        ..\n",
       " 6315    1\n",
       " 6316    1\n",
       " 6317    0\n",
       " 6318    0\n",
       " 6319    0\n",
       " Name: Converted, Length: 6320, dtype: int64,\n",
       " 0       1\n",
       " 1       1\n",
       " 2       1\n",
       " 3       0\n",
       " 4       0\n",
       "        ..\n",
       " 6315    0\n",
       " 6316    1\n",
       " 6317    0\n",
       " 6318    0\n",
       " 6319    0\n",
       " Name: predicted, Length: 6320, dtype: int64)"
      ]
     },
     "execution_count": 131,
     "metadata": {},
     "output_type": "execute_result"
    }
   ],
   "source": [
    "y_train_pred_final.Converted, y_train_pred_final.predicted"
   ]
  },
  {
   "cell_type": "code",
   "execution_count": 132,
   "metadata": {},
   "outputs": [],
   "source": [
    "p, r, thresholds = precision_recall_curve(y_train_pred_final.Converted, y_train_pred_final.Converted_Prob)"
   ]
  },
  {
   "cell_type": "code",
   "execution_count": 133,
   "metadata": {},
   "outputs": [
    {
     "data": {
      "image/png": "[encoded data removed]",
      "text/plain": [
       "<Figure size 432x288 with 1 Axes>"
      ]
     },
     "metadata": {
      "needs_background": "light"
     },
     "output_type": "display_data"
    }
   ],
   "source": [
    "plt.plot(thresholds, p[:-1], \"g-\")\n",
    "plt.plot(thresholds, r[:-1], \"r-\")\n",
    "plt.show()"
   ]
  },
  {
   "cell_type": "markdown",
   "metadata": {},
   "source": [
    "### Step 11: Making predictions on the test set"
   ]
  },
  {
   "cell_type": "code",
   "execution_count": 134,
   "metadata": {},
   "outputs": [],
   "source": [
    "X_test[['TotalVisits','Total Time Spent on Website','Page Views Per Visit']] = scaler.transform(X_test[['TotalVisits',\n",
    "                                                                        'Total Time Spent on Website','Page Views Per Visit']])"
   ]
  },
  {
   "cell_type": "code",
   "execution_count": 135,
   "metadata": {},
   "outputs": [
    {
     "data": {
      "text/html": [
       "<div>\n",
       "<style scoped>\n",
       "    .dataframe tbody tr th:only-of-type {\n",
       "        vertical-align: middle;\n",
       "    }\n",
       "\n",
       "    .dataframe tbody tr th {\n",
       "        vertical-align: top;\n",
       "    }\n",
       "\n",
       "    .dataframe thead th {\n",
       "        text-align: right;\n",
       "    }\n",
       "</style>\n",
       "<table border=\"1\" class=\"dataframe\">\n",
       "  <thead>\n",
       "    <tr style=\"text-align: right;\">\n",
       "      <th></th>\n",
       "      <th>Do Not Email</th>\n",
       "      <th>TotalVisits</th>\n",
       "      <th>Total Time Spent on Website</th>\n",
       "      <th>Page Views Per Visit</th>\n",
       "      <th>LeadOrigin_Lead Add Form</th>\n",
       "      <th>LeadSource_Olark Chat</th>\n",
       "      <th>LastActivity_Email Opened</th>\n",
       "      <th>LastActivity_Olark Chat Conversation</th>\n",
       "      <th>LastActivity_SMS Sent</th>\n",
       "      <th>CurrentOccupation_No Information</th>\n",
       "      <th>CurrentOccupation_Working Professional</th>\n",
       "      <th>LastNotableActivity_Had a Phone Conversation</th>\n",
       "      <th>LastNotableActivity_Modified</th>\n",
       "      <th>LastNotableActivity_Unreachable</th>\n",
       "    </tr>\n",
       "  </thead>\n",
       "  <tbody>\n",
       "    <tr>\n",
       "      <th>2296</th>\n",
       "      <td>0</td>\n",
       "      <td>0.1875</td>\n",
       "      <td>0.665313</td>\n",
       "      <td>0.37500</td>\n",
       "      <td>0</td>\n",
       "      <td>0</td>\n",
       "      <td>0</td>\n",
       "      <td>0</td>\n",
       "      <td>1</td>\n",
       "      <td>0</td>\n",
       "      <td>0</td>\n",
       "      <td>0</td>\n",
       "      <td>0</td>\n",
       "      <td>0</td>\n",
       "    </tr>\n",
       "    <tr>\n",
       "      <th>8697</th>\n",
       "      <td>0</td>\n",
       "      <td>0.4375</td>\n",
       "      <td>0.184032</td>\n",
       "      <td>0.21875</td>\n",
       "      <td>0</td>\n",
       "      <td>0</td>\n",
       "      <td>0</td>\n",
       "      <td>0</td>\n",
       "      <td>1</td>\n",
       "      <td>0</td>\n",
       "      <td>0</td>\n",
       "      <td>0</td>\n",
       "      <td>0</td>\n",
       "      <td>0</td>\n",
       "    </tr>\n",
       "    <tr>\n",
       "      <th>7378</th>\n",
       "      <td>0</td>\n",
       "      <td>0.1250</td>\n",
       "      <td>0.163284</td>\n",
       "      <td>0.25000</td>\n",
       "      <td>0</td>\n",
       "      <td>0</td>\n",
       "      <td>1</td>\n",
       "      <td>0</td>\n",
       "      <td>0</td>\n",
       "      <td>0</td>\n",
       "      <td>0</td>\n",
       "      <td>0</td>\n",
       "      <td>0</td>\n",
       "      <td>0</td>\n",
       "    </tr>\n",
       "    <tr>\n",
       "      <th>8631</th>\n",
       "      <td>0</td>\n",
       "      <td>0.3125</td>\n",
       "      <td>0.407307</td>\n",
       "      <td>0.62500</td>\n",
       "      <td>0</td>\n",
       "      <td>0</td>\n",
       "      <td>0</td>\n",
       "      <td>0</td>\n",
       "      <td>1</td>\n",
       "      <td>0</td>\n",
       "      <td>0</td>\n",
       "      <td>0</td>\n",
       "      <td>1</td>\n",
       "      <td>0</td>\n",
       "    </tr>\n",
       "    <tr>\n",
       "      <th>4799</th>\n",
       "      <td>0</td>\n",
       "      <td>0.5000</td>\n",
       "      <td>0.744700</td>\n",
       "      <td>1.00000</td>\n",
       "      <td>0</td>\n",
       "      <td>0</td>\n",
       "      <td>0</td>\n",
       "      <td>0</td>\n",
       "      <td>1</td>\n",
       "      <td>0</td>\n",
       "      <td>0</td>\n",
       "      <td>0</td>\n",
       "      <td>0</td>\n",
       "      <td>0</td>\n",
       "    </tr>\n",
       "  </tbody>\n",
       "</table>\n",
       "</div>"
      ],
      "text/plain": [
       "      Do Not Email  TotalVisits  Total Time Spent on Website  \\\n",
       "2296             0       0.1875                     0.665313   \n",
       "8697             0       0.4375                     0.184032   \n",
       "7378             0       0.1250                     0.163284   \n",
       "8631             0       0.3125                     0.407307   \n",
       "4799             0       0.5000                     0.744700   \n",
       "\n",
       "      Page Views Per Visit  LeadOrigin_Lead Add Form  LeadSource_Olark Chat  \\\n",
       "2296               0.37500                         0                      0   \n",
       "8697               0.21875                         0                      0   \n",
       "7378               0.25000                         0                      0   \n",
       "8631               0.62500                         0                      0   \n",
       "4799               1.00000                         0                      0   \n",
       "\n",
       "      LastActivity_Email Opened  LastActivity_Olark Chat Conversation  \\\n",
       "2296                          0                                     0   \n",
       "8697                          0                                     0   \n",
       "7378                          1                                     0   \n",
       "8631                          0                                     0   \n",
       "4799                          0                                     0   \n",
       "\n",
       "      LastActivity_SMS Sent  CurrentOccupation_No Information  \\\n",
       "2296                      1                                 0   \n",
       "8697                      1                                 0   \n",
       "7378                      0                                 0   \n",
       "8631                      1                                 0   \n",
       "4799                      1                                 0   \n",
       "\n",
       "      CurrentOccupation_Working Professional  \\\n",
       "2296                                       0   \n",
       "8697                                       0   \n",
       "7378                                       0   \n",
       "8631                                       0   \n",
       "4799                                       0   \n",
       "\n",
       "      LastNotableActivity_Had a Phone Conversation  \\\n",
       "2296                                             0   \n",
       "8697                                             0   \n",
       "7378                                             0   \n",
       "8631                                             0   \n",
       "4799                                             0   \n",
       "\n",
       "      LastNotableActivity_Modified  LastNotableActivity_Unreachable  \n",
       "2296                             0                                0  \n",
       "8697                             0                                0  \n",
       "7378                             0                                0  \n",
       "8631                             1                                0  \n",
       "4799                             0                                0  "
      ]
     },
     "execution_count": 135,
     "metadata": {},
     "output_type": "execute_result"
    }
   ],
   "source": [
    "X_test = X_test[col]\n",
    "X_test.head()"
   ]
  },
  {
   "cell_type": "code",
   "execution_count": 136,
   "metadata": {},
   "outputs": [],
   "source": [
    "X_test_sm = sm.add_constant(X_test)"
   ]
  },
  {
   "cell_type": "markdown",
   "metadata": {},
   "source": [
    "Making predictions on the test set"
   ]
  },
  {
   "cell_type": "code",
   "execution_count": 137,
   "metadata": {},
   "outputs": [],
   "source": [
    "y_test_pred = res.predict(X_test_sm)"
   ]
  },
  {
   "cell_type": "code",
   "execution_count": 138,
   "metadata": {},
   "outputs": [
    {
     "data": {
      "text/plain": [
       "2296    0.900314\n",
       "8697    0.645681\n",
       "7378    0.220652\n",
       "8631    0.623128\n",
       "4799    0.928329\n",
       "4503    0.357815\n",
       "7129    0.862719\n",
       "1717    0.143937\n",
       "8398    0.863560\n",
       "5116    0.254802\n",
       "dtype: float64"
      ]
     },
     "execution_count": 138,
     "metadata": {},
     "output_type": "execute_result"
    }
   ],
   "source": [
    "y_test_pred[:10]"
   ]
  },
  {
   "cell_type": "code",
   "execution_count": 139,
   "metadata": {},
   "outputs": [],
   "source": [
    "# Converting y_pred to a dataframe which is an array\n",
    "\n",
    "y_pred_1 = pd.DataFrame(y_test_pred)"
   ]
  },
  {
   "cell_type": "code",
   "execution_count": 140,
   "metadata": {},
   "outputs": [
    {
     "data": {
      "text/html": [
       "<div>\n",
       "<style scoped>\n",
       "    .dataframe tbody tr th:only-of-type {\n",
       "        vertical-align: middle;\n",
       "    }\n",
       "\n",
       "    .dataframe tbody tr th {\n",
       "        vertical-align: top;\n",
       "    }\n",
       "\n",
       "    .dataframe thead th {\n",
       "        text-align: right;\n",
       "    }\n",
       "</style>\n",
       "<table border=\"1\" class=\"dataframe\">\n",
       "  <thead>\n",
       "    <tr style=\"text-align: right;\">\n",
       "      <th></th>\n",
       "      <th>0</th>\n",
       "    </tr>\n",
       "  </thead>\n",
       "  <tbody>\n",
       "    <tr>\n",
       "      <th>2296</th>\n",
       "      <td>0.900314</td>\n",
       "    </tr>\n",
       "    <tr>\n",
       "      <th>8697</th>\n",
       "      <td>0.645681</td>\n",
       "    </tr>\n",
       "    <tr>\n",
       "      <th>7378</th>\n",
       "      <td>0.220652</td>\n",
       "    </tr>\n",
       "    <tr>\n",
       "      <th>8631</th>\n",
       "      <td>0.623128</td>\n",
       "    </tr>\n",
       "    <tr>\n",
       "      <th>4799</th>\n",
       "      <td>0.928329</td>\n",
       "    </tr>\n",
       "  </tbody>\n",
       "</table>\n",
       "</div>"
      ],
      "text/plain": [
       "             0\n",
       "2296  0.900314\n",
       "8697  0.645681\n",
       "7378  0.220652\n",
       "8631  0.623128\n",
       "4799  0.928329"
      ]
     },
     "execution_count": 140,
     "metadata": {},
     "output_type": "execute_result"
    }
   ],
   "source": [
    "# Let's see the head\n",
    "\n",
    "y_pred_1.head()"
   ]
  },
  {
   "cell_type": "code",
   "execution_count": 141,
   "metadata": {},
   "outputs": [],
   "source": [
    "# Converting y_test to dataframe\n",
    "\n",
    "y_test_df = pd.DataFrame(y_test)"
   ]
  },
  {
   "cell_type": "code",
   "execution_count": 142,
   "metadata": {},
   "outputs": [],
   "source": [
    "# Putting LeadId to index\n",
    "\n",
    "y_test_df['LeadId'] = y_test_df.index"
   ]
  },
  {
   "cell_type": "code",
   "execution_count": 143,
   "metadata": {},
   "outputs": [],
   "source": [
    "# Removing index for both dataframes to append them side by side \n",
    "\n",
    "y_pred_1.reset_index(drop=True, inplace=True)\n",
    "y_test_df.reset_index(drop=True, inplace=True)"
   ]
  },
  {
   "cell_type": "code",
   "execution_count": 144,
   "metadata": {},
   "outputs": [],
   "source": [
    "# Appending y_test_df and y_pred_1\n",
    "\n",
    "y_pred_final = pd.concat([y_test_df, y_pred_1],axis=1)"
   ]
  },
  {
   "cell_type": "code",
   "execution_count": 145,
   "metadata": {},
   "outputs": [
    {
     "data": {
      "text/html": [
       "<div>\n",
       "<style scoped>\n",
       "    .dataframe tbody tr th:only-of-type {\n",
       "        vertical-align: middle;\n",
       "    }\n",
       "\n",
       "    .dataframe tbody tr th {\n",
       "        vertical-align: top;\n",
       "    }\n",
       "\n",
       "    .dataframe thead th {\n",
       "        text-align: right;\n",
       "    }\n",
       "</style>\n",
       "<table border=\"1\" class=\"dataframe\">\n",
       "  <thead>\n",
       "    <tr style=\"text-align: right;\">\n",
       "      <th></th>\n",
       "      <th>Converted</th>\n",
       "      <th>LeadId</th>\n",
       "      <th>0</th>\n",
       "    </tr>\n",
       "  </thead>\n",
       "  <tbody>\n",
       "    <tr>\n",
       "      <th>0</th>\n",
       "      <td>1</td>\n",
       "      <td>2296</td>\n",
       "      <td>0.900314</td>\n",
       "    </tr>\n",
       "    <tr>\n",
       "      <th>1</th>\n",
       "      <td>0</td>\n",
       "      <td>8697</td>\n",
       "      <td>0.645681</td>\n",
       "    </tr>\n",
       "    <tr>\n",
       "      <th>2</th>\n",
       "      <td>0</td>\n",
       "      <td>7378</td>\n",
       "      <td>0.220652</td>\n",
       "    </tr>\n",
       "    <tr>\n",
       "      <th>3</th>\n",
       "      <td>0</td>\n",
       "      <td>8631</td>\n",
       "      <td>0.623128</td>\n",
       "    </tr>\n",
       "    <tr>\n",
       "      <th>4</th>\n",
       "      <td>1</td>\n",
       "      <td>4799</td>\n",
       "      <td>0.928329</td>\n",
       "    </tr>\n",
       "  </tbody>\n",
       "</table>\n",
       "</div>"
      ],
      "text/plain": [
       "   Converted  LeadId         0\n",
       "0          1    2296  0.900314\n",
       "1          0    8697  0.645681\n",
       "2          0    7378  0.220652\n",
       "3          0    8631  0.623128\n",
       "4          1    4799  0.928329"
      ]
     },
     "execution_count": 145,
     "metadata": {},
     "output_type": "execute_result"
    }
   ],
   "source": [
    "y_pred_final.head()"
   ]
  },
  {
   "cell_type": "code",
   "execution_count": 146,
   "metadata": {},
   "outputs": [],
   "source": [
    "# Renaming the column \n",
    "\n",
    "y_pred_final= y_pred_final.rename(columns={ 0 : 'Converted_Prob'})"
   ]
  },
  {
   "cell_type": "code",
   "execution_count": 147,
   "metadata": {},
   "outputs": [
    {
     "data": {
      "text/html": [
       "<div>\n",
       "<style scoped>\n",
       "    .dataframe tbody tr th:only-of-type {\n",
       "        vertical-align: middle;\n",
       "    }\n",
       "\n",
       "    .dataframe tbody tr th {\n",
       "        vertical-align: top;\n",
       "    }\n",
       "\n",
       "    .dataframe thead th {\n",
       "        text-align: right;\n",
       "    }\n",
       "</style>\n",
       "<table border=\"1\" class=\"dataframe\">\n",
       "  <thead>\n",
       "    <tr style=\"text-align: right;\">\n",
       "      <th></th>\n",
       "      <th>Converted</th>\n",
       "      <th>LeadId</th>\n",
       "      <th>Converted_Prob</th>\n",
       "    </tr>\n",
       "  </thead>\n",
       "  <tbody>\n",
       "    <tr>\n",
       "      <th>0</th>\n",
       "      <td>1</td>\n",
       "      <td>2296</td>\n",
       "      <td>0.900314</td>\n",
       "    </tr>\n",
       "    <tr>\n",
       "      <th>1</th>\n",
       "      <td>0</td>\n",
       "      <td>8697</td>\n",
       "      <td>0.645681</td>\n",
       "    </tr>\n",
       "    <tr>\n",
       "      <th>2</th>\n",
       "      <td>0</td>\n",
       "      <td>7378</td>\n",
       "      <td>0.220652</td>\n",
       "    </tr>\n",
       "    <tr>\n",
       "      <th>3</th>\n",
       "      <td>0</td>\n",
       "      <td>8631</td>\n",
       "      <td>0.623128</td>\n",
       "    </tr>\n",
       "    <tr>\n",
       "      <th>4</th>\n",
       "      <td>1</td>\n",
       "      <td>4799</td>\n",
       "      <td>0.928329</td>\n",
       "    </tr>\n",
       "  </tbody>\n",
       "</table>\n",
       "</div>"
      ],
      "text/plain": [
       "   Converted  LeadId  Converted_Prob\n",
       "0          1    2296        0.900314\n",
       "1          0    8697        0.645681\n",
       "2          0    7378        0.220652\n",
       "3          0    8631        0.623128\n",
       "4          1    4799        0.928329"
      ]
     },
     "execution_count": 147,
     "metadata": {},
     "output_type": "execute_result"
    }
   ],
   "source": [
    "y_pred_final.head()"
   ]
  },
  {
   "cell_type": "code",
   "execution_count": 148,
   "metadata": {},
   "outputs": [],
   "source": [
    "# Based on cut off threshold using accuracy, sensitivity and specificity of 0.37%\n",
    "\n",
    "y_pred_final['final_predicted'] = y_pred_final.Converted_Prob.map(lambda x: 1 if x > 0.37 else 0)"
   ]
  },
  {
   "cell_type": "code",
   "execution_count": 149,
   "metadata": {},
   "outputs": [
    {
     "data": {
      "text/html": [
       "<div>\n",
       "<style scoped>\n",
       "    .dataframe tbody tr th:only-of-type {\n",
       "        vertical-align: middle;\n",
       "    }\n",
       "\n",
       "    .dataframe tbody tr th {\n",
       "        vertical-align: top;\n",
       "    }\n",
       "\n",
       "    .dataframe thead th {\n",
       "        text-align: right;\n",
       "    }\n",
       "</style>\n",
       "<table border=\"1\" class=\"dataframe\">\n",
       "  <thead>\n",
       "    <tr style=\"text-align: right;\">\n",
       "      <th></th>\n",
       "      <th>Converted</th>\n",
       "      <th>LeadId</th>\n",
       "      <th>Converted_Prob</th>\n",
       "      <th>final_predicted</th>\n",
       "    </tr>\n",
       "  </thead>\n",
       "  <tbody>\n",
       "    <tr>\n",
       "      <th>0</th>\n",
       "      <td>1</td>\n",
       "      <td>2296</td>\n",
       "      <td>0.900314</td>\n",
       "      <td>1</td>\n",
       "    </tr>\n",
       "    <tr>\n",
       "      <th>1</th>\n",
       "      <td>0</td>\n",
       "      <td>8697</td>\n",
       "      <td>0.645681</td>\n",
       "      <td>1</td>\n",
       "    </tr>\n",
       "    <tr>\n",
       "      <th>2</th>\n",
       "      <td>0</td>\n",
       "      <td>7378</td>\n",
       "      <td>0.220652</td>\n",
       "      <td>0</td>\n",
       "    </tr>\n",
       "    <tr>\n",
       "      <th>3</th>\n",
       "      <td>0</td>\n",
       "      <td>8631</td>\n",
       "      <td>0.623128</td>\n",
       "      <td>1</td>\n",
       "    </tr>\n",
       "    <tr>\n",
       "      <th>4</th>\n",
       "      <td>1</td>\n",
       "      <td>4799</td>\n",
       "      <td>0.928329</td>\n",
       "      <td>1</td>\n",
       "    </tr>\n",
       "  </tbody>\n",
       "</table>\n",
       "</div>"
      ],
      "text/plain": [
       "   Converted  LeadId  Converted_Prob  final_predicted\n",
       "0          1    2296        0.900314                1\n",
       "1          0    8697        0.645681                1\n",
       "2          0    7378        0.220652                0\n",
       "3          0    8631        0.623128                1\n",
       "4          1    4799        0.928329                1"
      ]
     },
     "execution_count": 149,
     "metadata": {},
     "output_type": "execute_result"
    }
   ],
   "source": [
    "y_pred_final.head()"
   ]
  },
  {
   "cell_type": "code",
   "execution_count": 150,
   "metadata": {},
   "outputs": [
    {
     "data": {
      "text/html": [
       "<div>\n",
       "<style scoped>\n",
       "    .dataframe tbody tr th:only-of-type {\n",
       "        vertical-align: middle;\n",
       "    }\n",
       "\n",
       "    .dataframe tbody tr th {\n",
       "        vertical-align: top;\n",
       "    }\n",
       "\n",
       "    .dataframe thead th {\n",
       "        text-align: right;\n",
       "    }\n",
       "</style>\n",
       "<table border=\"1\" class=\"dataframe\">\n",
       "  <thead>\n",
       "    <tr style=\"text-align: right;\">\n",
       "      <th></th>\n",
       "      <th>Converted</th>\n",
       "      <th>LeadId</th>\n",
       "      <th>Converted_Prob</th>\n",
       "      <th>final_predicted</th>\n",
       "      <th>lead_score</th>\n",
       "    </tr>\n",
       "  </thead>\n",
       "  <tbody>\n",
       "    <tr>\n",
       "      <th>0</th>\n",
       "      <td>1</td>\n",
       "      <td>2296</td>\n",
       "      <td>0.900314</td>\n",
       "      <td>1</td>\n",
       "      <td>90</td>\n",
       "    </tr>\n",
       "    <tr>\n",
       "      <th>1</th>\n",
       "      <td>0</td>\n",
       "      <td>8697</td>\n",
       "      <td>0.645681</td>\n",
       "      <td>1</td>\n",
       "      <td>65</td>\n",
       "    </tr>\n",
       "    <tr>\n",
       "      <th>2</th>\n",
       "      <td>0</td>\n",
       "      <td>7378</td>\n",
       "      <td>0.220652</td>\n",
       "      <td>0</td>\n",
       "      <td>22</td>\n",
       "    </tr>\n",
       "    <tr>\n",
       "      <th>3</th>\n",
       "      <td>0</td>\n",
       "      <td>8631</td>\n",
       "      <td>0.623128</td>\n",
       "      <td>1</td>\n",
       "      <td>62</td>\n",
       "    </tr>\n",
       "    <tr>\n",
       "      <th>4</th>\n",
       "      <td>1</td>\n",
       "      <td>4799</td>\n",
       "      <td>0.928329</td>\n",
       "      <td>1</td>\n",
       "      <td>93</td>\n",
       "    </tr>\n",
       "    <tr>\n",
       "      <th>5</th>\n",
       "      <td>0</td>\n",
       "      <td>4503</td>\n",
       "      <td>0.357815</td>\n",
       "      <td>0</td>\n",
       "      <td>36</td>\n",
       "    </tr>\n",
       "    <tr>\n",
       "      <th>6</th>\n",
       "      <td>0</td>\n",
       "      <td>7129</td>\n",
       "      <td>0.862719</td>\n",
       "      <td>1</td>\n",
       "      <td>86</td>\n",
       "    </tr>\n",
       "    <tr>\n",
       "      <th>7</th>\n",
       "      <td>0</td>\n",
       "      <td>1717</td>\n",
       "      <td>0.143937</td>\n",
       "      <td>0</td>\n",
       "      <td>14</td>\n",
       "    </tr>\n",
       "    <tr>\n",
       "      <th>8</th>\n",
       "      <td>0</td>\n",
       "      <td>8398</td>\n",
       "      <td>0.863560</td>\n",
       "      <td>1</td>\n",
       "      <td>86</td>\n",
       "    </tr>\n",
       "    <tr>\n",
       "      <th>9</th>\n",
       "      <td>1</td>\n",
       "      <td>5116</td>\n",
       "      <td>0.254802</td>\n",
       "      <td>0</td>\n",
       "      <td>25</td>\n",
       "    </tr>\n",
       "    <tr>\n",
       "      <th>10</th>\n",
       "      <td>0</td>\n",
       "      <td>1838</td>\n",
       "      <td>0.212598</td>\n",
       "      <td>0</td>\n",
       "      <td>21</td>\n",
       "    </tr>\n",
       "    <tr>\n",
       "      <th>11</th>\n",
       "      <td>1</td>\n",
       "      <td>5057</td>\n",
       "      <td>0.433594</td>\n",
       "      <td>1</td>\n",
       "      <td>43</td>\n",
       "    </tr>\n",
       "    <tr>\n",
       "      <th>12</th>\n",
       "      <td>0</td>\n",
       "      <td>7015</td>\n",
       "      <td>0.010094</td>\n",
       "      <td>0</td>\n",
       "      <td>1</td>\n",
       "    </tr>\n",
       "    <tr>\n",
       "      <th>13</th>\n",
       "      <td>0</td>\n",
       "      <td>6352</td>\n",
       "      <td>0.149241</td>\n",
       "      <td>0</td>\n",
       "      <td>15</td>\n",
       "    </tr>\n",
       "    <tr>\n",
       "      <th>14</th>\n",
       "      <td>0</td>\n",
       "      <td>575</td>\n",
       "      <td>0.098780</td>\n",
       "      <td>0</td>\n",
       "      <td>10</td>\n",
       "    </tr>\n",
       "    <tr>\n",
       "      <th>15</th>\n",
       "      <td>1</td>\n",
       "      <td>4597</td>\n",
       "      <td>0.159905</td>\n",
       "      <td>0</td>\n",
       "      <td>16</td>\n",
       "    </tr>\n",
       "    <tr>\n",
       "      <th>16</th>\n",
       "      <td>0</td>\n",
       "      <td>8355</td>\n",
       "      <td>0.608527</td>\n",
       "      <td>1</td>\n",
       "      <td>61</td>\n",
       "    </tr>\n",
       "    <tr>\n",
       "      <th>17</th>\n",
       "      <td>1</td>\n",
       "      <td>8574</td>\n",
       "      <td>0.504019</td>\n",
       "      <td>1</td>\n",
       "      <td>50</td>\n",
       "    </tr>\n",
       "    <tr>\n",
       "      <th>18</th>\n",
       "      <td>0</td>\n",
       "      <td>4207</td>\n",
       "      <td>0.018835</td>\n",
       "      <td>0</td>\n",
       "      <td>2</td>\n",
       "    </tr>\n",
       "    <tr>\n",
       "      <th>19</th>\n",
       "      <td>1</td>\n",
       "      <td>4420</td>\n",
       "      <td>0.748499</td>\n",
       "      <td>1</td>\n",
       "      <td>75</td>\n",
       "    </tr>\n",
       "  </tbody>\n",
       "</table>\n",
       "</div>"
      ],
      "text/plain": [
       "    Converted  LeadId  Converted_Prob  final_predicted  lead_score\n",
       "0           1    2296        0.900314                1          90\n",
       "1           0    8697        0.645681                1          65\n",
       "2           0    7378        0.220652                0          22\n",
       "3           0    8631        0.623128                1          62\n",
       "4           1    4799        0.928329                1          93\n",
       "5           0    4503        0.357815                0          36\n",
       "6           0    7129        0.862719                1          86\n",
       "7           0    1717        0.143937                0          14\n",
       "8           0    8398        0.863560                1          86\n",
       "9           1    5116        0.254802                0          25\n",
       "10          0    1838        0.212598                0          21\n",
       "11          1    5057        0.433594                1          43\n",
       "12          0    7015        0.010094                0           1\n",
       "13          0    6352        0.149241                0          15\n",
       "14          0     575        0.098780                0          10\n",
       "15          1    4597        0.159905                0          16\n",
       "16          0    8355        0.608527                1          61\n",
       "17          1    8574        0.504019                1          50\n",
       "18          0    4207        0.018835                0           2\n",
       "19          1    4420        0.748499                1          75"
      ]
     },
     "execution_count": 150,
     "metadata": {},
     "output_type": "execute_result"
    }
   ],
   "source": [
    "# Now let us calculate the lead score\n",
    "\n",
    "y_pred_final['lead_score'] = y_pred_final.Converted_Prob.map(lambda x: round(x*100))\n",
    "y_pred_final.head(20)"
   ]
  },
  {
   "cell_type": "code",
   "execution_count": 151,
   "metadata": {},
   "outputs": [
    {
     "data": {
      "text/plain": [
       "1    812\n",
       "0    203\n",
       "Name: final_predicted, dtype: int64"
      ]
     },
     "execution_count": 151,
     "metadata": {},
     "output_type": "execute_result"
    }
   ],
   "source": [
    "# checking if 80% cases are correctly predicted based on the converted column.\n",
    "\n",
    "# get the total of final predicted conversion or non conversion counts from the actual converted rates\n",
    "\n",
    "checking_test_df = y_pred_final.loc[y_pred_final['Converted']==1,['Converted','final_predicted']]\n",
    "checking_test_df['final_predicted'].value_counts()"
   ]
  },
  {
   "cell_type": "code",
   "execution_count": 152,
   "metadata": {},
   "outputs": [
    {
     "data": {
      "text/plain": [
       "0.7852216748768472"
      ]
     },
     "execution_count": 152,
     "metadata": {},
     "output_type": "execute_result"
    }
   ],
   "source": [
    "# check the precentage of final_predicted conversions on test data\n",
    "\n",
    "797/float(797+218)"
   ]
  },
  {
   "cell_type": "markdown",
   "metadata": {},
   "source": [
    "#### Hence we can see that the final prediction of conversions have a target rate of 79% (78.5%) (Around 1 % short of the predictions made on training data set)"
   ]
  },
  {
   "cell_type": "markdown",
   "metadata": {},
   "source": [
    "#### Overall Metrics - Accuracy, Confusion Metrics, Sensitivity, Specificity  on test set"
   ]
  },
  {
   "cell_type": "code",
   "execution_count": 153,
   "metadata": {},
   "outputs": [
    {
     "data": {
      "text/plain": [
       "0.813953488372093"
      ]
     },
     "execution_count": 153,
     "metadata": {},
     "output_type": "execute_result"
    }
   ],
   "source": [
    "# Let's check the accuracy.\n",
    "\n",
    "metrics.accuracy_score(y_pred_final.Converted, y_pred_final.final_predicted)"
   ]
  },
  {
   "cell_type": "code",
   "execution_count": 154,
   "metadata": {},
   "outputs": [
    {
     "data": {
      "text/plain": [
       "array([[1393,  301],\n",
       "       [ 203,  812]], dtype=int64)"
      ]
     },
     "execution_count": 154,
     "metadata": {},
     "output_type": "execute_result"
    }
   ],
   "source": [
    "confusion2 = metrics.confusion_matrix(y_pred_final.Converted, y_pred_final.final_predicted )\n",
    "confusion2"
   ]
  },
  {
   "cell_type": "code",
   "execution_count": 155,
   "metadata": {},
   "outputs": [],
   "source": [
    "TP = confusion2[1,1] # true positive \n",
    "TN = confusion2[0,0] # true negatives\n",
    "FP = confusion2[0,1] # false positives\n",
    "FN = confusion2[1,0] # false negatives"
   ]
  },
  {
   "cell_type": "code",
   "execution_count": 156,
   "metadata": {},
   "outputs": [
    {
     "data": {
      "text/plain": [
       "0.8"
      ]
     },
     "execution_count": 156,
     "metadata": {},
     "output_type": "execute_result"
    }
   ],
   "source": [
    "# Let's see the sensitivity of our logistic regression model\n",
    "TP / float(TP+FN)"
   ]
  },
  {
   "cell_type": "code",
   "execution_count": 157,
   "metadata": {},
   "outputs": [
    {
     "data": {
      "text/plain": [
       "0.8223140495867769"
      ]
     },
     "execution_count": 157,
     "metadata": {},
     "output_type": "execute_result"
    }
   ],
   "source": [
    "# Let us calculate specificity\n",
    "TN / float(TN+FP)"
   ]
  },
  {
   "cell_type": "markdown",
   "metadata": {},
   "source": [
    "#### Precision and Recall metrics for the test set "
   ]
  },
  {
   "cell_type": "code",
   "execution_count": 158,
   "metadata": {},
   "outputs": [
    {
     "name": "stdout",
     "output_type": "stream",
     "text": [
      "precision  0.7295597484276729\n",
      "recall  0.8\n"
     ]
    }
   ],
   "source": [
    "# precision\n",
    "print('precision ',precision_score(y_pred_final.Converted, y_pred_final.final_predicted))\n",
    "\n",
    "# recall\n",
    "print('recall ',recall_score(y_pred_final.Converted, y_pred_final.final_predicted))"
   ]
  },
  {
   "cell_type": "code",
   "execution_count": 159,
   "metadata": {},
   "outputs": [
    {
     "data": {
      "image/png": "[encoded data removed]",
      "text/plain": [
       "<Figure size 432x288 with 1 Axes>"
      ]
     },
     "metadata": {
      "needs_background": "light"
     },
     "output_type": "display_data"
    }
   ],
   "source": [
    "\n",
    "p, r, thresholds = precision_recall_curve(y_pred_final.Converted, y_pred_final.Converted_Prob)\n",
    "\n",
    "plt.plot(thresholds, p[:-1], \"g-\")\n",
    "plt.plot(thresholds, r[:-1], \"r-\")\n",
    "plt.show()"
   ]
  },
  {
   "cell_type": "markdown",
   "metadata": {},
   "source": [
    "Conclusion :\n",
    "    \n",
    "    - While we have checked both Sensitivity-Specificity as well as Precision and Recall Metrics, we have considered the\n",
    "      optimal \n",
    "      cut off based on Sensitivity and Specificity for calculating the final prediction.\n",
    "    - Accuracy, Sensitivity and Specificity values of test set are around 81%, 79% and 82% which are approximately closer to \n",
    "      the respective values calculated using trained set.\n",
    "    - Also the lead score calculated in the trained set of data shows the conversion rate on the final predicted model is \n",
    "      around 80%\n",
    "    - Hence overall this model seems to be good.   "
   ]
  },
  {
   "cell_type": "code",
   "execution_count": null,
   "metadata": {},
   "outputs": [],
   "source": []
  },
  {
   "cell_type": "code",
   "execution_count": null,
   "metadata": {},
   "outputs": [],
   "source": []
  },
  {
   "cell_type": "code",
   "execution_count": null,
   "metadata": {},
   "outputs": [],
   "source": []
  }
 ],
 "metadata": {
  "kernelspec": {
   "display_name": "Python 3",
   "language": "python",
   "name": "python3"
  },
  "language_info": {
   "codemirror_mode": {
    "name": "ipython",
    "version": 3
   },
   "file_extension": ".py",
   "mimetype": "text/x-python",
   "name": "python",
   "nbconvert_exporter": "python",
   "pygments_lexer": "ipython3",
   "version": "3.8.5"
  }
 },
 "nbformat": 4,
 "nbformat_minor": 2
}
